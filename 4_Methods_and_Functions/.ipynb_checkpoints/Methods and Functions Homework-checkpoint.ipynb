{
 "cells": [
  {
   "cell_type": "code",
   "execution_count": 6,
   "metadata": {},
   "outputs": [],
   "source": [
    "# write a function that computes the volume of a sphere give its radius\n",
    "def vol(rad):\n",
    "    return (4 / 3) * (3.14) * (rad**3)"
   ]
  },
  {
   "cell_type": "code",
   "execution_count": 9,
   "metadata": {},
   "outputs": [],
   "source": [
    "# wite a funciton that checks if a number is in a given range (inclusive of high and low)\n",
    "def ran_check(num, low, high):\n",
    "    if num in range(low, high + 1):\n",
    "        print(f'{num} is in range of {low} and {high}')\n",
    "    else:\n",
    "        print('not in rage')"
   ]
  },
  {
   "cell_type": "code",
   "execution_count": 11,
   "metadata": {},
   "outputs": [
    {
     "name": "stdout",
     "output_type": "stream",
     "text": [
      "5 is in range of 2 and 7\n",
      "not in rage\n"
     ]
    }
   ],
   "source": [
    "ran_check(5, 2, 7)\n",
    "ran_check(5, 6, 8)"
   ]
  },
  {
   "cell_type": "code",
   "execution_count": 17,
   "metadata": {},
   "outputs": [
    {
     "name": "stdout",
     "output_type": "stream",
     "text": [
      "Original String: Hello, I'm Philip Alexander Costache, AKA Alex\n",
      "lowercase count: 28\n",
      "uppercase count: 9\n"
     ]
    }
   ],
   "source": [
    "# write a function that accepts a string and calculates the number of lower-case and upper-case letter\n",
    "def up_low(s):\n",
    "    d = {'upper': 0, 'lower': 0}\n",
    "    \n",
    "    for char in s: \n",
    "        if char.isupper():\n",
    "            d['upper'] += 1\n",
    "        elif char.islower():\n",
    "            d['lower'] += 1\n",
    "        else:\n",
    "            pass\n",
    "    \n",
    "    print(f\"Original String: {s}\")\n",
    "    print(f\"lowercase count: {d['lower']}\")\n",
    "    print(f\"uppercase count: {d['upper']}\")\n",
    "\n",
    "up_low(\"Hello, I'm Philip Alexander Costache, AKA Alex\")"
   ]
  },
  {
   "cell_type": "code",
   "execution_count": 25,
   "metadata": {},
   "outputs": [
    {
     "data": {
      "text/plain": [
       "[1, 2, 3, 4, 5]"
      ]
     },
     "execution_count": 25,
     "metadata": {},
     "output_type": "execute_result"
    }
   ],
   "source": [
    "# write a function that takes a list and returns a new list with unique elements of the first list\n",
    "def unique(arr):\n",
    "    unique_arr = []\n",
    "    \n",
    "    for num in arr:\n",
    "        if num not in unique_arr:\n",
    "            unique_arr.append(num)\n",
    "    return unique_arr\n",
    "\n",
    "unique([1,1, 2, 3, 4, 4, 5])"
   ]
  },
  {
   "cell_type": "code",
   "execution_count": 29,
   "metadata": {},
   "outputs": [
    {
     "data": {
      "text/plain": [
       "24"
      ]
     },
     "execution_count": 29,
     "metadata": {},
     "output_type": "execute_result"
    }
   ],
   "source": [
    "# write a function that multiplies all the numbers in a list\n",
    "def multiply(numbers):\n",
    "    total = 1\n",
    "    \n",
    "    for num in numbers:\n",
    "        total *= num\n",
    "    return total\n",
    "\n",
    "multiply([2, 3, 4])"
   ]
  },
  {
   "cell_type": "code",
   "execution_count": 30,
   "metadata": {},
   "outputs": [],
   "source": [
    "# write a function that checks if a word is palindrome"
   ]
  },
  {
   "cell_type": "code",
   "execution_count": 31,
   "metadata": {},
   "outputs": [],
   "source": [
    "def palindrome(st):\n",
    "    st = st.replace(' ', '')\n",
    "    return st == st[::-1]\n"
   ]
  },
  {
   "cell_type": "code",
   "execution_count": 32,
   "metadata": {},
   "outputs": [
    {
     "data": {
      "text/plain": [
       "True"
      ]
     },
     "execution_count": 32,
     "metadata": {},
     "output_type": "execute_result"
    }
   ],
   "source": [
    "palindrome('nurses run')"
   ]
  },
  {
   "cell_type": "code",
   "execution_count": null,
   "metadata": {},
   "outputs": [],
   "source": [
    "# write a function that checks if a string is pangram or not\n"
   ]
  }
 ],
 "metadata": {
  "kernelspec": {
   "display_name": "Python 3",
   "language": "python",
   "name": "python3"
  },
  "language_info": {
   "codemirror_mode": {
    "name": "ipython",
    "version": 3
   },
   "file_extension": ".py",
   "mimetype": "text/x-python",
   "name": "python",
   "nbconvert_exporter": "python",
   "pygments_lexer": "ipython3",
   "version": "3.8.5"
  }
 },
 "nbformat": 4,
 "nbformat_minor": 4
}
