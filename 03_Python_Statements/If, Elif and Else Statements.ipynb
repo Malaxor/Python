{
 "cells": [
  {
   "cell_type": "code",
   "execution_count": null,
   "metadata": {},
   "outputs": [],
   "source": [
    "hungry = False\n",
    "\n",
    "if hungry:\n",
    "    print('Feed Me')\n",
    "else:\n",
    "    print(\"I'm not hungry\")"
   ]
  },
  {
   "cell_type": "code",
   "execution_count": null,
   "metadata": {},
   "outputs": [],
   "source": [
    "print('Feed me') if hungry else print(\"I'm not hungry\")"
   ]
  },
  {
   "cell_type": "code",
   "execution_count": null,
   "metadata": {},
   "outputs": [],
   "source": [
    "location = 'Bank'\n",
    "\n",
    "if location == 'Auto Shop':\n",
    "    print('Cars are cool!')\n",
    "elif location == 'Bank':\n",
    "    print('Money is cool!')\n",
    "else:\n",
    "    print(\"I don't know much\")"
   ]
  },
  {
   "cell_type": "code",
   "execution_count": null,
   "metadata": {},
   "outputs": [],
   "source": [
    "name = \"Charlie\"\n",
    "\n",
    "if name == \"Frankie\":\n",
    "    print('Hello, Frankie')\n",
    "elif name == \"Charlie\":\n",
    "    print(\"Hello Charlie\")\n",
    "else:\n",
    "    print(\"Who are you?\")"
   ]
  },
  {
   "cell_type": "code",
   "execution_count": null,
   "metadata": {},
   "outputs": [],
   "source": [
    "name = \"Philip\"\n",
    "\n",
    "if name == \"Boo\":\n",
    "    print(\"You're Boo\")\n",
    "elif name == \"Philip\":\n",
    "    print(\"You're the one!\")"
   ]
  },
  {
   "cell_type": "code",
   "execution_count": null,
   "metadata": {},
   "outputs": [],
   "source": [
    "import random\n",
    "\n",
    "player_wins = 0\n",
    "computer_wins = 0\n",
    "goal = 5\n",
    "    \n",
    "while player_wins != goal and computer_wins != goal:\n",
    "    print(f\"Score: Player - {player_wins} vs Computer - {computer_wins}\")\n",
    "    \n",
    "    # weapons\n",
    "    choices = ('r', 'p', 's')\n",
    "    rock, paper, scissors = choices\n",
    "    \n",
    "    # computer's weapon\n",
    "    num = random.randint(0, 2)\n",
    "    if num == 0:\n",
    "        computer = rock\n",
    "    elif num == 1:\n",
    "        computer = paper\n",
    "    else:\n",
    "        computer = scissors\n",
    "        \n",
    "    # player's weapon\n",
    "    player = input('\\nr(rock), p(paper), s(scissors)? ').lower()\n",
    "    \n",
    "    # input validation\n",
    "    while player not in choices:\n",
    "        player = input('\\nr(rock), p(paper), s(scissors)? ').lower()\n",
    "\n",
    "    if player == computer:\n",
    "        print('\\ntie')\n",
    "    elif (player == rock and computer == scissors) or (player == paper and computer == rock) or (player == scissors and computer == paper):\n",
    "            print('\\nplayer wins!')\n",
    "            player_wins += 1\n",
    "    else:\n",
    "        print('\\ncomputer wins...')\n",
    "        computer_wins += 1\n",
    "\n",
    "if player_wins > computer_wins:\n",
    "    print('\\nYou will never be vanquished by a glorified calculator!')\n",
    "else:\n",
    "    print(f'\\nThe glorified calculator has outmaneuvered you to. Pity.')"
   ]
  },
  {
   "cell_type": "code",
   "execution_count": null,
   "metadata": {},
   "outputs": [],
   "source": []
  }
 ],
 "metadata": {
  "kernelspec": {
   "display_name": "Python 3",
   "language": "python",
   "name": "python3"
  },
  "language_info": {
   "codemirror_mode": {
    "name": "ipython",
    "version": 3
   },
   "file_extension": ".py",
   "mimetype": "text/x-python",
   "name": "python",
   "nbconvert_exporter": "python",
   "pygments_lexer": "ipython3",
   "version": "3.8.5"
  }
 },
 "nbformat": 4,
 "nbformat_minor": 4
}
