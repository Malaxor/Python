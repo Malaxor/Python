{
 "cells": [
  {
   "cell_type": "code",
   "execution_count": null,
   "metadata": {},
   "outputs": [],
   "source": [
    "hungry = False\n",
    "\n",
    "if hungry:\n",
    "    print('Feed Me')\n",
    "else:\n",
    "    print(\"I'm not hungry\")"
   ]
  },
  {
   "cell_type": "code",
   "execution_count": null,
   "metadata": {},
   "outputs": [],
   "source": [
    "print('Feed me') if hungry else print(\"I'm not hungry\")"
   ]
  },
  {
   "cell_type": "code",
   "execution_count": null,
   "metadata": {},
   "outputs": [],
   "source": [
    "location = 'Bank'\n",
    "\n",
    "if location == 'Auto Shop':\n",
    "    print('Cars are cool!')\n",
    "elif location == 'Bank':\n",
    "    print('Money is cool!')\n",
    "else:\n",
    "    print(\"I don't know much\")"
   ]
  },
  {
   "cell_type": "code",
   "execution_count": null,
   "metadata": {},
   "outputs": [],
   "source": [
    "name = \"Charlie\"\n",
    "\n",
    "if name == \"Frankie\":\n",
    "    print('Hello, Frankie')\n",
    "elif name == \"Charlie\":\n",
    "    print(\"Hello Charlie\")\n",
    "else:\n",
    "    print(\"Who are you?\")"
   ]
  },
  {
   "cell_type": "code",
   "execution_count": null,
   "metadata": {},
   "outputs": [],
   "source": [
    "name = \"Philip\"\n",
    "\n",
    "if name == \"Boo\":\n",
    "    print(\"You're Boo\")\n",
    "elif name == \"Philip\":\n",
    "    print(\"You're the one!\")"
   ]
  },
  {
   "cell_type": "code",
   "execution_count": 1,
   "metadata": {},
   "outputs": [],
   "source": [
    "from random import randint\n",
    "\n",
    "player_wins = 0\n",
    "computer_wins = 0\n",
    "goal = 5\n",
    "game_on = True\n",
    "\n",
    "def play_again():\n",
    "    global game_on\n",
    "    global player_wins\n",
    "    global computer_wins\n",
    "    \n",
    "    play_again = input(\"Play again? y/n \").lower()\n",
    "    if play_again != 'y':\n",
    "        game_on = False\n",
    "    else:\n",
    "        player_wins = computer_wins = 0\n",
    "\n",
    "while game_on:\n",
    "    print(f\"Score: Player - {player_wins} vs Computer - {computer_wins}\")\n",
    "\n",
    "    # weapons\n",
    "    choices = ('r', 'p', 's')\n",
    "    rock, paper, scissors = choices\n",
    "\n",
    "    # computer's weapon\n",
    "    num = randint(0, 2)\n",
    "    if num == 0:\n",
    "        computer = rock\n",
    "    elif num == 1:\n",
    "        computer = paper\n",
    "    else:\n",
    "        computer = scissors\n",
    "\n",
    "    # player's weapon\n",
    "    player = input('\\nr(rock), p(paper), s(scissors)? ').lower()\n",
    "\n",
    "    # input validation\n",
    "    while player not in choices:\n",
    "        player = input('\\nr(rock), p(paper), s(scissors)? ').lower()\n",
    "\n",
    "    if player == computer:\n",
    "        print('\\ntie')\n",
    "    elif (player == rock and computer == scissors) or (player == paper and computer == rock) or (player == scissors and computer == paper):\n",
    "            print('\\nplayer wins!')\n",
    "            player_wins += 1\n",
    "    else:\n",
    "        print('\\ncomputer wins...')\n",
    "        computer_wins += 1\n",
    "\n",
    "    if player_wins == goal:\n",
    "        print(\"You've vanquished a lifeless computer. Nice\")\n",
    "        play_again()\n",
    "\n",
    "    elif computer_wins == goal:\n",
    "        print(\"A glorified calculator has outmaneuvered you. Pity\")\n",
    "        play_again()"
   ]
  },
  {
   "cell_type": "code",
   "execution_count": null,
   "metadata": {},
   "outputs": [],
   "source": []
  },
  {
   "cell_type": "code",
   "execution_count": null,
   "metadata": {},
   "outputs": [],
   "source": []
  }
 ],
 "metadata": {
  "kernelspec": {
   "display_name": "Python 3",
   "language": "python",
   "name": "python3"
  },
  "language_info": {
   "codemirror_mode": {
    "name": "ipython",
    "version": 3
   },
   "file_extension": ".py",
   "mimetype": "text/x-python",
   "name": "python",
   "nbconvert_exporter": "python",
   "pygments_lexer": "ipython3",
   "version": "3.8.5"
  }
 },
 "nbformat": 4,
 "nbformat_minor": 4
}
