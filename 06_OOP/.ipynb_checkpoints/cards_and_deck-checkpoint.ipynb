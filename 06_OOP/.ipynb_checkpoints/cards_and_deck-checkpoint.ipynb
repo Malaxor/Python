{
 "cells": [
  {
   "cell_type": "code",
   "execution_count": 1,
   "id": "d9e5c168",
   "metadata": {},
   "outputs": [],
   "source": [
    "from random import shuffle"
   ]
  },
  {
   "cell_type": "code",
   "execution_count": 2,
   "id": "5675f99b",
   "metadata": {},
   "outputs": [],
   "source": [
    "class Card:\n",
    "    \n",
    "    def __init__(self, suit, value):\n",
    "        self.suit = suit\n",
    "        self.value = value\n",
    "    \n",
    "    def __repr__(self):\n",
    "        return f\"{self.value} of {self.suit}\"\n"
   ]
  },
  {
   "cell_type": "code",
   "execution_count": 3,
   "id": "0bcc1d66",
   "metadata": {},
   "outputs": [],
   "source": [
    "class Deck:\n",
    "    \n",
    "    def __init__(self):\n",
    "        suits = (\"Hearts\", \"Diamonds\", \"Clubs\", \"Spades\")\n",
    "        values = (\"A\", '2', '3', '4', '5', '6', '7', '8', '9', '10', 'J', 'Q', 'K')\n",
    "        self.cards = [Card(suit, value) for suit in suits for value in values]\n",
    "    \n",
    "    def __repr__(self):\n",
    "        return f\"Deck of {self.count()} cards.\"\n",
    "    \n",
    "    def count(self):\n",
    "        return len(self.cards)\n",
    "    \n",
    "    def _deal(self, amount):\n",
    "        if not self.cards:\n",
    "            raise ValueError(\"All cards have been delt.\")\n",
    "        # when user asks for more cards than available\n",
    "        amount = min(self.count(), amount)\n",
    "        return [self.cards.pop() for i in range(amount)]\n",
    "        \n",
    "    def shuffle(self):\n",
    "        if self.count() < 52:\n",
    "            raise ValueError(\"Only full decks can be shuffled.\")\n",
    "        shuffle(self.cards)\n",
    "        return self\n",
    "    \n",
    "    def deal_card(self):\n",
    "        return self._deal(1)[0]\n",
    "    \n",
    "    def deal_hand(self, amount):\n",
    "        return self._deal(amount)"
   ]
  },
  {
   "cell_type": "code",
   "execution_count": 4,
   "id": "27cda820",
   "metadata": {},
   "outputs": [],
   "source": [
    "deck = Deck()"
   ]
  },
  {
   "cell_type": "code",
   "execution_count": 5,
   "id": "12afbd19",
   "metadata": {},
   "outputs": [
    {
     "name": "stdout",
     "output_type": "stream",
     "text": [
      "Deck of 52 cards.\n"
     ]
    }
   ],
   "source": [
    "print(deck)"
   ]
  },
  {
   "cell_type": "code",
   "execution_count": 6,
   "id": "79413ce1",
   "metadata": {},
   "outputs": [
    {
     "data": {
      "text/plain": [
       "Deck of 52 cards."
      ]
     },
     "execution_count": 6,
     "metadata": {},
     "output_type": "execute_result"
    }
   ],
   "source": [
    "deck.shuffle()"
   ]
  },
  {
   "cell_type": "code",
   "execution_count": null,
   "id": "5b345ea6",
   "metadata": {},
   "outputs": [],
   "source": [
    "len(deck.deal_hand(53))"
   ]
  },
  {
   "cell_type": "code",
   "execution_count": null,
   "id": "11d18e27",
   "metadata": {},
   "outputs": [],
   "source": [
    "deck.cards"
   ]
  },
  {
   "cell_type": "code",
   "execution_count": null,
   "id": "47295c01",
   "metadata": {},
   "outputs": [],
   "source": [
    "deck.deal_card()"
   ]
  },
  {
   "cell_type": "code",
   "execution_count": null,
   "id": "c936fa27",
   "metadata": {},
   "outputs": [],
   "source": [
    "deck.deal_hand(100)"
   ]
  },
  {
   "cell_type": "code",
   "execution_count": null,
   "id": "878e64f0",
   "metadata": {},
   "outputs": [],
   "source": []
  }
 ],
 "metadata": {
  "kernelspec": {
   "display_name": "Python 3",
   "language": "python",
   "name": "python3"
  },
  "language_info": {
   "codemirror_mode": {
    "name": "ipython",
    "version": 3
   },
   "file_extension": ".py",
   "mimetype": "text/x-python",
   "name": "python",
   "nbconvert_exporter": "python",
   "pygments_lexer": "ipython3",
   "version": "3.8.5"
  }
 },
 "nbformat": 4,
 "nbformat_minor": 5
}
