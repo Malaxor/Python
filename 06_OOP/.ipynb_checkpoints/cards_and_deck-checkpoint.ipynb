{
 "cells": [
  {
   "cell_type": "code",
   "execution_count": 1,
   "id": "cec3a6c9",
   "metadata": {},
   "outputs": [],
   "source": [
    "from random import shuffle"
   ]
  },
  {
   "cell_type": "code",
   "execution_count": 2,
   "id": "8432b989",
   "metadata": {},
   "outputs": [],
   "source": [
    "class Card:\n",
    "    \n",
    "    def __init__(self, suit, value):\n",
    "        self.suit = suit\n",
    "        self.value = value\n",
    "    \n",
    "    def __repr__(self):\n",
    "        return f\"{self.value} of {self.suit}\""
   ]
  },
  {
   "cell_type": "code",
   "execution_count": 3,
   "id": "307ec8ef",
   "metadata": {},
   "outputs": [],
   "source": [
    "class Deck:\n",
    "    \n",
    "    def __init__(self):\n",
    "        suits = (\"Hearts\", \"Diamonds\", \"Clubs\", \"Spades\")\n",
    "        values = (\"A\", '2', '3', '4', '5', '6', '7', '8', '9', '10', 'J', 'Q', 'K')\n",
    "        self.cards = [Card(suit, value) for suit in suits for value in values]\n",
    "    \n",
    "    def __repr__(self):\n",
    "        return f\"Deck of {self.count()} cards.\"\n",
    "    \n",
    "    def __iter__(self):\n",
    "        return iter(self.cards)\n",
    "    \n",
    "    def count(self):\n",
    "        return len(self.cards)\n",
    "    \n",
    "    def _deal(self, amount):\n",
    "        if not self.cards:\n",
    "            raise ValueError(\"All cards have been delt.\")\n",
    "        elif(amount == 1):\n",
    "            return self.carts.pop()\n",
    "        \n",
    "        # when user asks for more cards than available\n",
    "        amount = min(self.count(), amount)\n",
    "        return [self.cards.pop() for i in range(amount)]\n",
    "        \n",
    "    def shuffle(self):\n",
    "        if self.count() < 52:\n",
    "            raise ValueError(\"Only full decks can be shuffled.\")\n",
    "        shuffle(self.cards)\n",
    "        return self\n",
    "    \n",
    "    def deal_card(self):\n",
    "        return self._deal(1)\n",
    "    \n",
    "    def deal_hand(self, amount):\n",
    "        return self._deal(amount)"
   ]
  },
  {
   "cell_type": "code",
   "execution_count": 4,
   "id": "d531412d",
   "metadata": {},
   "outputs": [],
   "source": [
    "deck = Deck()"
   ]
  },
  {
   "cell_type": "code",
   "execution_count": 5,
   "id": "fccb0b9a",
   "metadata": {},
   "outputs": [
    {
     "name": "stdout",
     "output_type": "stream",
     "text": [
      "A of Hearts\n",
      "2 of Hearts\n",
      "3 of Hearts\n",
      "4 of Hearts\n",
      "5 of Hearts\n",
      "6 of Hearts\n",
      "7 of Hearts\n",
      "8 of Hearts\n",
      "9 of Hearts\n",
      "10 of Hearts\n",
      "J of Hearts\n",
      "Q of Hearts\n",
      "K of Hearts\n",
      "A of Diamonds\n",
      "2 of Diamonds\n",
      "3 of Diamonds\n",
      "4 of Diamonds\n",
      "5 of Diamonds\n",
      "6 of Diamonds\n",
      "7 of Diamonds\n",
      "8 of Diamonds\n",
      "9 of Diamonds\n",
      "10 of Diamonds\n",
      "J of Diamonds\n",
      "Q of Diamonds\n",
      "K of Diamonds\n",
      "A of Clubs\n",
      "2 of Clubs\n",
      "3 of Clubs\n",
      "4 of Clubs\n",
      "5 of Clubs\n",
      "6 of Clubs\n",
      "7 of Clubs\n",
      "8 of Clubs\n",
      "9 of Clubs\n",
      "10 of Clubs\n",
      "J of Clubs\n",
      "Q of Clubs\n",
      "K of Clubs\n",
      "A of Spades\n",
      "2 of Spades\n",
      "3 of Spades\n",
      "4 of Spades\n",
      "5 of Spades\n",
      "6 of Spades\n",
      "7 of Spades\n",
      "8 of Spades\n",
      "9 of Spades\n",
      "10 of Spades\n",
      "J of Spades\n",
      "Q of Spades\n",
      "K of Spades\n"
     ]
    }
   ],
   "source": [
    "for card in deck:\n",
    "    print(card)"
   ]
  },
  {
   "cell_type": "code",
   "execution_count": null,
   "id": "fd4f590f",
   "metadata": {},
   "outputs": [],
   "source": [
    "print(deck)"
   ]
  },
  {
   "cell_type": "code",
   "execution_count": null,
   "id": "aa96d8be",
   "metadata": {},
   "outputs": [],
   "source": [
    "deck.shuffle()"
   ]
  },
  {
   "cell_type": "code",
   "execution_count": null,
   "id": "a3126c61",
   "metadata": {},
   "outputs": [],
   "source": [
    "card = deck.deal_card()"
   ]
  },
  {
   "cell_type": "code",
   "execution_count": null,
   "id": "94fa7eeb",
   "metadata": {},
   "outputs": [],
   "source": [
    "card"
   ]
  },
  {
   "cell_type": "code",
   "execution_count": null,
   "id": "2b7582ec",
   "metadata": {},
   "outputs": [],
   "source": [
    "deck.cards"
   ]
  },
  {
   "cell_type": "code",
   "execution_count": null,
   "id": "20c23b2a",
   "metadata": {},
   "outputs": [],
   "source": [
    "cards = deck.deal_hand(10)"
   ]
  },
  {
   "cell_type": "code",
   "execution_count": null,
   "id": "d7952a33",
   "metadata": {},
   "outputs": [],
   "source": [
    "deck.deal_hand(100)"
   ]
  },
  {
   "cell_type": "code",
   "execution_count": null,
   "id": "04dea876",
   "metadata": {},
   "outputs": [],
   "source": [
    "cards"
   ]
  },
  {
   "cell_type": "code",
   "execution_count": null,
   "id": "df91b39f",
   "metadata": {},
   "outputs": [],
   "source": [
    "print(deck)"
   ]
  },
  {
   "cell_type": "code",
   "execution_count": null,
   "id": "05b9d4be",
   "metadata": {},
   "outputs": [],
   "source": []
  }
 ],
 "metadata": {
  "kernelspec": {
   "display_name": "Python 3",
   "language": "python",
   "name": "python3"
  },
  "language_info": {
   "codemirror_mode": {
    "name": "ipython",
    "version": 3
   },
   "file_extension": ".py",
   "mimetype": "text/x-python",
   "name": "python",
   "nbconvert_exporter": "python",
   "pygments_lexer": "ipython3",
   "version": "3.8.5"
  }
 },
 "nbformat": 4,
 "nbformat_minor": 5
}
