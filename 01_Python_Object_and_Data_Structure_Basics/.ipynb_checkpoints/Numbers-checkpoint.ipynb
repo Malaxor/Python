{
 "cells": [
  {
   "cell_type": "code",
   "execution_count": null,
   "metadata": {},
   "outputs": [],
   "source": [
    "7/4"
   ]
  },
  {
   "cell_type": "code",
   "execution_count": null,
   "metadata": {},
   "outputs": [],
   "source": [
    "7 % 4"
   ]
  },
  {
   "cell_type": "code",
   "execution_count": null,
   "metadata": {},
   "outputs": [],
   "source": [
    "50 % 5"
   ]
  },
  {
   "cell_type": "code",
   "execution_count": null,
   "metadata": {},
   "outputs": [],
   "source": [
    "7 % 4 != 1"
   ]
  },
  {
   "cell_type": "code",
   "execution_count": null,
   "metadata": {},
   "outputs": [],
   "source": [
    "3.5 / 7"
   ]
  },
  {
   "cell_type": "code",
   "execution_count": 5,
   "metadata": {},
   "outputs": [],
   "source": [
    "def calculate(**kwargs):\n",
    "    operation_lookup = {\n",
    "        'add': kwargs.get('first') + kwargs.get('second'),\n",
    "        'subtract': kwargs.get('first') - kwargs.get('second'),\n",
    "        'divide': kwargs.get('first') / kwargs.get('second'),\n",
    "        'multiply': kwargs.get('first') * kwargs.get('second')\n",
    "    }\n",
    "    operation = kwargs['operation']\n",
    "    operation_value = operation_lookup[operation]\n",
    "    print(operation_lookup)\n",
    "    \n",
    "    if kwargs['is_float']:\n",
    "        return \"{} {}\".format(kwargs.get('message','The result is'), float(operation_value))\n",
    "    return\"{} {}\".format(kwargs.get('message','The result is'), int(operation_value))"
   ]
  },
  {
   "cell_type": "code",
   "execution_count": 6,
   "metadata": {},
   "outputs": [
    {
     "name": "stdout",
     "output_type": "stream",
     "text": [
      "{'add': 7, 'subtract': -3, 'divide': 0.4, 'multiply': 10}\n"
     ]
    },
    {
     "data": {
      "text/plain": [
       "'God or something 0.4'"
      ]
     },
     "execution_count": 6,
     "metadata": {},
     "output_type": "execute_result"
    }
   ],
   "source": [
    "calculate(is_float = True, operation = 'divide', message = 'God or something', first = 2, second = 5)"
   ]
  }
 ],
 "metadata": {
  "kernelspec": {
   "display_name": "Python 3",
   "language": "python",
   "name": "python3"
  },
  "language_info": {
   "codemirror_mode": {
    "name": "ipython",
    "version": 3
   },
   "file_extension": ".py",
   "mimetype": "text/x-python",
   "name": "python",
   "nbconvert_exporter": "python",
   "pygments_lexer": "ipython3",
   "version": "3.8.5"
  }
 },
 "nbformat": 4,
 "nbformat_minor": 4
}
