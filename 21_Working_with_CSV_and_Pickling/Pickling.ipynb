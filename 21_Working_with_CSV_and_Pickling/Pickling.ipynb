{
 "cells": [
  {
   "cell_type": "code",
   "execution_count": 11,
   "id": "39a1de10",
   "metadata": {},
   "outputs": [],
   "source": [
    "import pickle"
   ]
  },
  {
   "cell_type": "code",
   "execution_count": 12,
   "id": "e90236b5",
   "metadata": {},
   "outputs": [],
   "source": [
    "class Animal:\n",
    "    \n",
    "    def __init__(self, name, species):\n",
    "        self.name = name\n",
    "        self.species = species\n",
    "    \n",
    "    def __repr__(self):\n",
    "        return f\"{self.name} is a {self.species}\"\n",
    "    \n",
    "    def make_sound(self, sound):\n",
    "        print(f\"This animal says {sound}.\")"
   ]
  },
  {
   "cell_type": "code",
   "execution_count": 13,
   "id": "082cf8fc",
   "metadata": {},
   "outputs": [],
   "source": [
    "class Cat(Animal):\n",
    "    \n",
    "    def __init__(self, name, breed, toy):\n",
    "        super().__init__(name, species = \"Cat\")\n",
    "        self.breed = breed\n",
    "        self.toy = toy\n",
    "    \n",
    "    def play(self):\n",
    "        print(f\"{self.name} plays with {self.toy}\")"
   ]
  },
  {
   "cell_type": "code",
   "execution_count": 14,
   "id": "b50f6342",
   "metadata": {},
   "outputs": [],
   "source": [
    "blue = Cat(\"Blue\", \"Scottish Fold\", \"string\")"
   ]
  },
  {
   "cell_type": "code",
   "execution_count": 16,
   "id": "0f6f0874",
   "metadata": {},
   "outputs": [],
   "source": [
    "with open(\"pets.pickle\", \"wb\") as file:\n",
    "    pickle.dump(blue, file)"
   ]
  },
  {
   "cell_type": "code",
   "execution_count": null,
   "id": "c1e769bf",
   "metadata": {},
   "outputs": [],
   "source": []
  }
 ],
 "metadata": {
  "kernelspec": {
   "display_name": "Python 3",
   "language": "python",
   "name": "python3"
  },
  "language_info": {
   "codemirror_mode": {
    "name": "ipython",
    "version": 3
   },
   "file_extension": ".py",
   "mimetype": "text/x-python",
   "name": "python",
   "nbconvert_exporter": "python",
   "pygments_lexer": "ipython3",
   "version": "3.8.5"
  }
 },
 "nbformat": 4,
 "nbformat_minor": 5
}
