{
 "cells": [
  {
   "cell_type": "code",
   "execution_count": 1,
   "id": "6e6c4d57",
   "metadata": {},
   "outputs": [],
   "source": [
    "from csv import writer, reader"
   ]
  },
  {
   "cell_type": "code",
   "execution_count": 2,
   "id": "7b81daae",
   "metadata": {},
   "outputs": [],
   "source": [
    "with open(\"cats.csv\", \"w\") as csv_file:\n",
    "    cats = writer(csv_file)\n",
    "    cats.writerow(['Name', 'Age'])\n",
    "    cats.writerow(['Blue', 4])\n",
    "    cats.writerow(['Kitty', 3])"
   ]
  },
  {
   "cell_type": "code",
   "execution_count": null,
   "id": "b1b47efb",
   "metadata": {},
   "outputs": [],
   "source": [
    "with open(\"fighters.csv\") as csv_file:\n",
    "    fighters = reader(csv_file)\n",
    "    fighters = [[item.upper() for item in fighter] for fighter in fighters]    "
   ]
  },
  {
   "cell_type": "code",
   "execution_count": null,
   "id": "72114895",
   "metadata": {},
   "outputs": [],
   "source": [
    "with open('screaming_fighters.csv', 'w') as csv_file:\n",
    "    screaming_fighters = writer(csv_file)\n",
    "    screaming_fighters.writerow(fighters)"
   ]
  },
  {
   "cell_type": "code",
   "execution_count": 4,
   "id": "f631c738",
   "metadata": {},
   "outputs": [],
   "source": [
    "# alternative refactor\n",
    "with open(\"fighters.csv\") as csv_file:\n",
    "    fighters = reader(csv_file)\n",
    "    \n",
    "    with open(\"screaming_fighters.csv\", \"w\") as csv_file:\n",
    "        screaming_fighters = writer(csv_file)\n",
    "        \n",
    "        for fighter in fighters:\n",
    "            screaming_fighters.writerow([item.upper() for item in fighter])"
   ]
  },
  {
   "cell_type": "code",
   "execution_count": null,
   "id": "a429b581",
   "metadata": {},
   "outputs": [],
   "source": []
  }
 ],
 "metadata": {
  "kernelspec": {
   "display_name": "Python 3",
   "language": "python",
   "name": "python3"
  },
  "language_info": {
   "codemirror_mode": {
    "name": "ipython",
    "version": 3
   },
   "file_extension": ".py",
   "mimetype": "text/x-python",
   "name": "python",
   "nbconvert_exporter": "python",
   "pygments_lexer": "ipython3",
   "version": "3.8.5"
  }
 },
 "nbformat": 4,
 "nbformat_minor": 5
}
