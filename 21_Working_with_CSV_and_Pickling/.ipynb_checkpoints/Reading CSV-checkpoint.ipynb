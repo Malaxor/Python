{
 "cells": [
  {
   "cell_type": "code",
   "execution_count": 1,
   "id": "aaf082bd",
   "metadata": {},
   "outputs": [],
   "source": [
    "from csv import reader, DictReader"
   ]
  },
  {
   "cell_type": "code",
   "execution_count": 2,
   "id": "97afce95",
   "metadata": {},
   "outputs": [
    {
     "name": "stdout",
     "output_type": "stream",
     "text": [
      "Ryu is from Japan\n",
      "Ken is from USA\n",
      "Chun-Li is from China\n",
      "Guile is from USA\n",
      "E. Honda is from Japan\n",
      "Dhalsim is from India\n",
      "Blanka is from Brazil\n",
      "Zangief is from Russia\n"
     ]
    }
   ],
   "source": [
    "with open(\"fighters.csv\") as file:\n",
    "    # reader returns an iterator\n",
    "    csv_reader = reader(file)\n",
    "    # exclude the headers (first row)\n",
    "    next(csv_reader)\n",
    "    \n",
    "    for (name, country, height) in csv_reader:\n",
    "        print(f\"{name} is from {country}\")"
   ]
  },
  {
   "cell_type": "code",
   "execution_count": 3,
   "id": "20cdec4c",
   "metadata": {},
   "outputs": [
    {
     "name": "stdout",
     "output_type": "stream",
     "text": [
      "0 ['Ryu', 'Japan', '175']\n"
     ]
    }
   ],
   "source": [
    "with open(\"fighters.csv\") as file:\n",
    "    # reader returns an iterator\n",
    "    csv_reader = reader(file)\n",
    "    # exclude the headers (first row)\n",
    "    next(csv_reader)\n",
    "    \n",
    "    for index, row in enumerate(csv_reader):\n",
    "        if 'Ryu' in row:\n",
    "            print(index, row)"
   ]
  },
  {
   "cell_type": "code",
   "execution_count": 7,
   "id": "2ea0727f",
   "metadata": {},
   "outputs": [
    {
     "name": "stdout",
     "output_type": "stream",
     "text": [
      "[{'Name': 'Ryu', 'Country': 'Japan', 'Height (in cm)': '175'}, {'Name': 'Ken', 'Country': 'USA', 'Height (in cm)': '175'}, {'Name': 'Chun-Li', 'Country': 'China', 'Height (in cm)': '165'}, {'Name': 'Guile', 'Country': 'USA', 'Height (in cm)': '182'}, {'Name': 'E. Honda', 'Country': 'Japan', 'Height (in cm)': '185'}, {'Name': 'Dhalsim', 'Country': 'India', 'Height (in cm)': '176'}, {'Name': 'Blanka', 'Country': 'Brazil', 'Height (in cm)': '192'}, {'Name': 'Zangief', 'Country': 'Russia', 'Height (in cm)': '214'}]\n"
     ]
    }
   ],
   "source": [
    "with open(\"fighters.csv\") as file:\n",
    "    csv_reader = DictReader(file)\n",
    "    \n",
    "    for row in csv_reader:\n",
    "        print(row['Name'], row['Country'])"
   ]
  },
  {
   "cell_type": "code",
   "execution_count": 5,
   "id": "e9ae73f5",
   "metadata": {},
   "outputs": [
    {
     "name": "stdout",
     "output_type": "stream",
     "text": [
      "['Ryu', 'Japan', '175']\n",
      "['Ken', 'USA', '175']\n",
      "['Chun-Li', 'China', '165']\n",
      "['Guile', 'USA', '182']\n",
      "['E. Honda', 'Japan', '185']\n",
      "['Dhalsim', 'India', '176']\n",
      "['Blanka', 'Brazil', '192']\n",
      "['Zangief', 'Russia', '214']\n"
     ]
    }
   ],
   "source": [
    "with open(\"fighters.csv\") as file:\n",
    "    # reader returns an iterator\n",
    "    # seperate the data on a delimiter included in the file\n",
    "    csv_reader = reader(file, delimiter = ',')\n",
    "    # exclude the headers (first row)\n",
    "    next(csv_reader)\n",
    "    \n",
    "    for row in csv_reader:\n",
    "        print(row)"
   ]
  },
  {
   "cell_type": "code",
   "execution_count": null,
   "id": "d48c71ba",
   "metadata": {},
   "outputs": [],
   "source": []
  }
 ],
 "metadata": {
  "kernelspec": {
   "display_name": "Python 3",
   "language": "python",
   "name": "python3"
  },
  "language_info": {
   "codemirror_mode": {
    "name": "ipython",
    "version": 3
   },
   "file_extension": ".py",
   "mimetype": "text/x-python",
   "name": "python",
   "nbconvert_exporter": "python",
   "pygments_lexer": "ipython3",
   "version": "3.8.5"
  }
 },
 "nbformat": 4,
 "nbformat_minor": 5
}
