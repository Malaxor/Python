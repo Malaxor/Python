{
 "cells": [
  {
   "cell_type": "code",
   "execution_count": 1,
   "id": "ba047f18",
   "metadata": {},
   "outputs": [],
   "source": [
    "from csv import writer, reader"
   ]
  },
  {
   "cell_type": "code",
   "execution_count": 2,
   "id": "8fd06018",
   "metadata": {},
   "outputs": [],
   "source": [
    "with open(\"cats.csv\", \"w\") as file:\n",
    "    csv_writer = writer(file)\n",
    "    csv_writer.writerow(['Name', 'Age'])\n",
    "    csv_writer.writerow(['Blue', 4])\n",
    "    csv_writer.writerow(['Kitty', 3])"
   ]
  },
  {
   "cell_type": "code",
   "execution_count": 8,
   "id": "9bbc1d38",
   "metadata": {},
   "outputs": [],
   "source": [
    "with open(\"fighters.csv\") as file:\n",
    "    csv_reader = reader(file)\n",
    "    fighters = [[item.upper() for item in row] for row in csv_reader]    "
   ]
  },
  {
   "cell_type": "code",
   "execution_count": 9,
   "id": "842e5c13",
   "metadata": {},
   "outputs": [],
   "source": [
    "with open('screaming_fighters.csv', 'w') as file:\n",
    "    csv_writer = writer(file)\n",
    "    csv_writer.writerow(fighters)"
   ]
  },
  {
   "cell_type": "code",
   "execution_count": 10,
   "id": "e8abec96",
   "metadata": {},
   "outputs": [],
   "source": [
    "# alternative refactor\n",
    "with open(\"fighters.csv\") as file:\n",
    "    csv_reader = reader(file)\n",
    "    \n",
    "    with open(\"screaming_fighters.csv\", \"w\") as file:\n",
    "        csv_writer = writer(file)\n",
    "        \n",
    "        for fighters in csv_reader:\n",
    "            csv_writer.writerow([item.upper() for item in fighter])"
   ]
  },
  {
   "cell_type": "code",
   "execution_count": null,
   "id": "79dbabf3",
   "metadata": {},
   "outputs": [],
   "source": []
  }
 ],
 "metadata": {
  "kernelspec": {
   "display_name": "Python 3",
   "language": "python",
   "name": "python3"
  },
  "language_info": {
   "codemirror_mode": {
    "name": "ipython",
    "version": 3
   },
   "file_extension": ".py",
   "mimetype": "text/x-python",
   "name": "python",
   "nbconvert_exporter": "python",
   "pygments_lexer": "ipython3",
   "version": "3.8.5"
  }
 },
 "nbformat": 4,
 "nbformat_minor": 5
}
