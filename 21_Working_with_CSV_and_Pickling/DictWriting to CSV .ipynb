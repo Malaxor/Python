{
 "cells": [
  {
   "cell_type": "code",
   "execution_count": 2,
   "id": "14251349",
   "metadata": {},
   "outputs": [],
   "source": [
    "from csv import DictWriter, DictReader"
   ]
  },
  {
   "cell_type": "code",
   "execution_count": 3,
   "id": "ef043de2",
   "metadata": {},
   "outputs": [],
   "source": [
    "with open(\"cats.csv\", \"w\") as file:\n",
    "    headers = [\"Name\", \"Breed\", \"Age\"]\n",
    "    csv_writer = DictWriter(file, fieldnames = headers)\n",
    "    csv_writer.writeheader()\n",
    "    csv_writer.writerow({\n",
    "        \"Name\": \"Garfield\",\n",
    "        \"Breed\": \"Orange Tabby\",\n",
    "        \"Age\": 10\n",
    "    })"
   ]
  },
  {
   "cell_type": "code",
   "execution_count": 4,
   "id": "8f9acbe9",
   "metadata": {},
   "outputs": [],
   "source": [
    "def cm_to_in(cm):\n",
    "    return round(float(cm) * 0.393701, 2)"
   ]
  },
  {
   "cell_type": "code",
   "execution_count": 5,
   "id": "99466fe2",
   "metadata": {},
   "outputs": [
    {
     "name": "stdout",
     "output_type": "stream",
     "text": [
      "[{'Name': 'Ryu', 'Country': 'Japan', 'Height (in cm)': '175'}, {'Name': 'Ken', 'Country': 'USA', 'Height (in cm)': '175'}, {'Name': 'Chun-Li', 'Country': 'China', 'Height (in cm)': '165'}, {'Name': 'Guile', 'Country': 'USA', 'Height (in cm)': '182'}, {'Name': 'E. Honda', 'Country': 'Japan', 'Height (in cm)': '185'}, {'Name': 'Dhalsim', 'Country': 'India', 'Height (in cm)': '176'}, {'Name': 'Blanka', 'Country': 'Brazil', 'Height (in cm)': '192'}, {'Name': 'Zangief', 'Country': 'Russia', 'Height (in cm)': '214'}]\n"
     ]
    }
   ],
   "source": [
    "with open(\"fighters.csv\") as file:\n",
    "    csv_reader = DictReader(file)\n",
    "    fighters = list(csv_reader)\n",
    "    \n",
    "with open(\"inches_fighters.csv\", \"w\") as file:\n",
    "    headers = (\"Name\", \"Country\", \"Height\")\n",
    "    csv_writer = DictWriter(file, fieldnames = headers)\n",
    "    csv_writer.writeheader()\n",
    "\n",
    "    for f in fighters:\n",
    "        csv_writer.writerow({\n",
    "            \"Name\": f[\"Name\"],\n",
    "            \"Country\": f[\"Country\"],\n",
    "            \"Height\": cm_to_in(f[\"Height (in cm)\"])\n",
    "        })"
   ]
  },
  {
   "cell_type": "code",
   "execution_count": null,
   "id": "c6dd6165",
   "metadata": {},
   "outputs": [],
   "source": []
  }
 ],
 "metadata": {
  "kernelspec": {
   "display_name": "Python 3",
   "language": "python",
   "name": "python3"
  },
  "language_info": {
   "codemirror_mode": {
    "name": "ipython",
    "version": 3
   },
   "file_extension": ".py",
   "mimetype": "text/x-python",
   "name": "python",
   "nbconvert_exporter": "python",
   "pygments_lexer": "ipython3",
   "version": "3.8.5"
  }
 },
 "nbformat": 4,
 "nbformat_minor": 5
}
