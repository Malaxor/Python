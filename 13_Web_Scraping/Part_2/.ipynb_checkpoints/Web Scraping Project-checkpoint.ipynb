{
 "cells": [
  {
   "cell_type": "code",
   "execution_count": 1,
   "id": "2ceef964",
   "metadata": {},
   "outputs": [],
   "source": [
    "import requests\n",
    "from bs4 import BeautifulSoup\n",
    "from random import choice\n",
    "from csv import DictReader, DictWriter"
   ]
  },
  {
   "cell_type": "code",
   "execution_count": 2,
   "id": "34689e13",
   "metadata": {},
   "outputs": [],
   "source": [
    "def get_response(endpoint):\n",
    "    if type(endpoint) == int:\n",
    "        url = f\"https://quotes.toscrape.com/page/{endpoint}\"\n",
    "    else:\n",
    "        url = f\"https://quotes.toscrape.com{endpoint}\"\n",
    "    \n",
    "    response = requests.get(url)\n",
    "    return BeautifulSoup(response.text, \"html.parser\")"
   ]
  },
  {
   "cell_type": "code",
   "execution_count": 3,
   "id": "3bc56272",
   "metadata": {},
   "outputs": [],
   "source": [
    "def quotes(get_response):\n",
    "    all_quotes = []\n",
    "\n",
    "    for page_num in range(1, 11):\n",
    "        soup = get_response(page_num)\n",
    "        quotes = soup.select(\".quote\")\n",
    "\n",
    "        all_quotes.extend(quotes)\n",
    "    return all_quotes"
   ]
  },
  {
   "cell_type": "code",
   "execution_count": null,
   "id": "08407e3f",
   "metadata": {},
   "outputs": [],
   "source": [
    "def quote_info(get_response, quotes):\n",
    "    objects = []\n",
    "\n",
    "    for quote in quotes(get_response):\n",
    "        text = quote.find(class_ = \"text\").get_text()\n",
    "        author = quote.find(class_ = 'author').get_text()\n",
    "        about = quote.find(\"a\")['href']\n",
    "\n",
    "        soup = get_response(about)\n",
    "        bdate, blocation = soup.find(class_ = 'author-details').select('span')\n",
    "        \n",
    "        bdate, blocation, heart = soup.find_all(\"span\")\n",
    "        objects.append({ \"quote\": text, \"author\": author, \"born\": bdate.get_text() + \" \" + blocation.get_text()  })\n",
    "    return objects"
   ]
  },
  {
   "cell_type": "code",
   "execution_count": null,
   "id": "f33f27e7",
   "metadata": {},
   "outputs": [
    {
     "name": "stdout",
     "output_type": "stream",
     "text": [
      "[<span class=\"author-born-date\">March 14, 1879</span>, <span class=\"author-born-location\">in Ulm, Germany</span>]\n",
      "[<span class=\"author-born-date\">July 31, 1965</span>, <span class=\"author-born-location\">in Yate, South Gloucestershire, England, The United Kingdom</span>]\n",
      "[<span class=\"author-born-date\">March 14, 1879</span>, <span class=\"author-born-location\">in Ulm, Germany</span>]\n",
      "[<span class=\"author-born-date\">December 16, 1775</span>, <span class=\"author-born-location\">in Steventon Rectory, Hampshire, The United Kingdom</span>]\n",
      "[<span class=\"author-born-date\">June 01, 1926</span>, <span class=\"author-born-location\">in The United States</span>]\n",
      "[<span class=\"author-born-date\">March 14, 1879</span>, <span class=\"author-born-location\">in Ulm, Germany</span>]\n",
      "[<span class=\"author-born-date\">November 22, 1869</span>, <span class=\"author-born-location\">in Paris, France</span>]\n",
      "[<span class=\"author-born-date\">February 11, 1847</span>, <span class=\"author-born-location\">in Milan, Ohio, The United States</span>]\n",
      "[<span class=\"author-born-date\">October 11, 1884</span>, <span class=\"author-born-location\">in The United States</span>]\n",
      "[<span class=\"author-born-date\">August 14, 1945</span>, <span class=\"author-born-location\">in Waco, Texas, The United States</span>]\n",
      "[<span class=\"author-born-date\">June 01, 1926</span>, <span class=\"author-born-location\">in The United States</span>]\n",
      "[<span class=\"author-born-date\">July 31, 1965</span>, <span class=\"author-born-location\">in Yate, South Gloucestershire, England, The United Kingdom</span>]\n",
      "[<span class=\"author-born-date\">March 14, 1879</span>, <span class=\"author-born-location\">in Ulm, Germany</span>]\n",
      "[<span class=\"author-born-date\">February 06, 1945</span>, <span class=\"author-born-location\">in Nine Mile, Saint Ann, Jamaica</span>]\n",
      "[<span class=\"author-born-date\">March 02, 1904</span>, <span class=\"author-born-location\">in Springfield, MA, The United States</span>]\n",
      "[<span class=\"author-born-date\">March 11, 1952</span>, <span class=\"author-born-location\">in Cambridge, England, The United Kingdom</span>]\n",
      "[<span class=\"author-born-date\">September 30, 1928</span>, <span class=\"author-born-location\">in Sighet, Romania</span>]\n",
      "[<span class=\"author-born-date\">October 15, 1844</span>, <span class=\"author-born-location\">in Röcken bei Lützen, Prussian Province of Saxony, Germany</span>]\n",
      "[<span class=\"author-born-date\">November 30, 1835</span>, <span class=\"author-born-location\">in Florida, Missouri, The United States</span>]\n",
      "[<span class=\"author-born-date\">April 24, 1899</span>, <span class=\"author-born-location\">in The United States</span>]\n",
      "[<span class=\"author-born-date\">July 12, 1904</span>, <span class=\"author-born-location\">in Parral, Chile</span>]\n",
      "[<span class=\"author-born-date\">May 25, 1803</span>, <span class=\"author-born-location\">in Boston, Massachusetts, The United States</span>]\n",
      "[<span class=\"author-born-date\">August 26, 1910</span>, <span class=\"author-born-location\">in Skopje, Macedonia, the Former Yugoslav Republic of</span>]\n",
      "[<span class=\"author-born-date\">August 07, 1942</span>, <span class=\"author-born-location\">in Anoka, Minnesota, The United States</span>]\n",
      "[<span class=\"author-born-date\">September 24, 1936</span>, <span class=\"author-born-location\">in Greenville, Mississippi, The United States</span>]\n",
      "[<span class=\"author-born-date\">March 02, 1904</span>, <span class=\"author-born-location\">in Springfield, MA, The United States</span>]\n",
      "[<span class=\"author-born-date\">March 14, 1879</span>, <span class=\"author-born-location\">in Ulm, Germany</span>]\n",
      "[<span class=\"author-born-date\">July 31, 1965</span>, <span class=\"author-born-location\">in Yate, South Gloucestershire, England, The United Kingdom</span>]\n",
      "[<span class=\"author-born-date\">March 14, 1879</span>, <span class=\"author-born-location\">in Ulm, Germany</span>]\n",
      "[<span class=\"author-born-date\">February 06, 1945</span>, <span class=\"author-born-location\">in Nine Mile, Saint Ann, Jamaica</span>]\n",
      "[<span class=\"author-born-date\">March 02, 1904</span>, <span class=\"author-born-location\">in Springfield, MA, The United States</span>]\n",
      "[<span class=\"author-born-date\">July 31, 1965</span>, <span class=\"author-born-location\">in Yate, South Gloucestershire, England, The United Kingdom</span>]\n",
      "[<span class=\"author-born-date\">February 06, 1945</span>, <span class=\"author-born-location\">in Nine Mile, Saint Ann, Jamaica</span>]\n",
      "[<span class=\"author-born-date\">August 26, 1910</span>, <span class=\"author-born-location\">in Skopje, Macedonia, the Former Yugoslav Republic of</span>]\n",
      "[<span class=\"author-born-date\">July 31, 1965</span>, <span class=\"author-born-location\">in Yate, South Gloucestershire, England, The United Kingdom</span>]\n",
      "[<span class=\"author-born-date\">November 26, 1922</span>, <span class=\"author-born-location\">in Minneapolis, MN, The United States</span>]\n",
      "[<span class=\"author-born-date\">January 12, 1948</span>, <span class=\"author-born-location\">in Lewes, Sussex, The United Kingdom</span>]\n",
      "[<span class=\"author-born-date\">March 14, 1879</span>, <span class=\"author-born-location\">in Ulm, Germany</span>]\n",
      "[<span class=\"author-born-date\">August 24, 1899</span>, <span class=\"author-born-location\">in Buenos Aires, Argentina</span>]\n",
      "[<span class=\"author-born-date\">November 22, 1819</span>, <span class=\"author-born-location\">in South Farm, Arbury Hall, Nuneaton, Warwickshire, The United Kingdom</span>]\n",
      "[<span class=\"author-born-date\">September 20, 1948</span>, <span class=\"author-born-location\">in Bayonne, New Jersey, The United States</span>]\n",
      "[<span class=\"author-born-date\">November 29, 1898</span>, <span class=\"author-born-location\">in Belfast, Ireland</span>]\n",
      "[<span class=\"author-born-date\">June 01, 1926</span>, <span class=\"author-born-location\">in The United States</span>]\n",
      "[<span class=\"author-born-date\">June 01, 1926</span>, <span class=\"author-born-location\">in The United States</span>]\n",
      "[<span class=\"author-born-date\">March 14, 1879</span>, <span class=\"author-born-location\">in Ulm, Germany</span>]\n",
      "[<span class=\"author-born-date\">June 01, 1926</span>, <span class=\"author-born-location\">in The United States</span>]\n",
      "[<span class=\"author-born-date\">June 01, 1926</span>, <span class=\"author-born-location\">in The United States</span>]\n",
      "[<span class=\"author-born-date\">January 15, 1929</span>, <span class=\"author-born-location\">in Atlanta, Georgia, The United States</span>]\n",
      "[<span class=\"author-born-date\">July 31, 1965</span>, <span class=\"author-born-location\">in Yate, South Gloucestershire, England, The United Kingdom</span>]\n",
      "[<span class=\"author-born-date\">August 02, 1924</span>, <span class=\"author-born-location\">in Harlem, New York, The United States</span>]\n",
      "[<span class=\"author-born-date\">December 16, 1775</span>, <span class=\"author-born-location\">in Steventon Rectory, Hampshire, The United Kingdom</span>]\n",
      "[<span class=\"author-born-date\">October 11, 1884</span>, <span class=\"author-born-location\">in The United States</span>]\n",
      "[<span class=\"author-born-date\">June 01, 1926</span>, <span class=\"author-born-location\">in The United States</span>]\n",
      "[<span class=\"author-born-date\">March 14, 1879</span>, <span class=\"author-born-location\">in Ulm, Germany</span>]\n",
      "[<span class=\"author-born-date\">January 12, 1949</span>, <span class=\"author-born-location\">in Kyoto, Japan</span>]\n",
      "[<span class=\"author-born-date\">July 27, 1824</span>, <span class=\"author-born-location\">in Paris, France</span>]\n",
      "[<span class=\"author-born-date\">December 24, 1973</span>, <span class=\"author-born-location\">in Connecticut, The United States</span>]\n",
      "[<span class=\"author-born-date\">July 21, 1899</span>, <span class=\"author-born-location\">in Oak Park, Illinois, The United States</span>]\n",
      "[<span class=\"author-born-date\">June 27, 1880</span>, <span class=\"author-born-location\">in Tuscumbia, Alabama, The United States</span>]\n",
      "[<span class=\"author-born-date\">July 26, 1856</span>, <span class=\"author-born-location\">in Dublin, Ireland</span>]\n",
      "[<span class=\"author-born-date\">August 16, 1920</span>, <span class=\"author-born-location\">in Andernach, Germany</span>]\n",
      "[<span class=\"author-born-date\">August 11, 1962</span>, <span class=\"author-born-location\">in Hartford, Connecticut, The United States</span>]\n"
     ]
    },
    {
     "name": "stdout",
     "output_type": "stream",
     "text": [
      "[<span class=\"author-born-date\">August 11, 1962</span>, <span class=\"author-born-location\">in Hartford, Connecticut, The United States</span>]\n",
      "[<span class=\"author-born-date\">November 29, 1898</span>, <span class=\"author-born-location\">in Belfast, Ireland</span>]\n",
      "[<span class=\"author-born-date\">January 03, 1892</span>, <span class=\"author-born-location\">in Bloemfontein, Mangaung, Free State, South Africa</span>]\n",
      "[<span class=\"author-born-date\">July 31, 1965</span>, <span class=\"author-born-location\">in Yate, South Gloucestershire, England, The United Kingdom</span>]\n",
      "[<span class=\"author-born-date\">July 21, 1899</span>, <span class=\"author-born-location\">in Oak Park, Illinois, The United States</span>]\n",
      "[<span class=\"author-born-date\">May 25, 1803</span>, <span class=\"author-born-location\">in Boston, Massachusetts, The United States</span>]\n",
      "[<span class=\"author-born-date\">November 30, 1835</span>, <span class=\"author-born-location\">in Florida, Missouri, The United States</span>]\n",
      "[<span class=\"author-born-date\">March 02, 1904</span>, <span class=\"author-born-location\">in Springfield, MA, The United States</span>]\n",
      "[<span class=\"author-born-date\">August 06, 1809</span>, <span class=\"author-born-location\">in Somersby, Lincolnshire, The United Kingdom</span>]\n",
      "[<span class=\"author-born-date\">August 16, 1920</span>, <span class=\"author-born-location\">in Andernach, Germany</span>]\n",
      "[<span class=\"author-born-date\">April 28, 1948</span>, <span class=\"author-born-location\">in Beaconsfield, Buckinghamshire, England, The United Kingdom</span>]\n",
      "[<span class=\"author-born-date\">March 02, 1904</span>, <span class=\"author-born-location\">in Springfield, MA, The United States</span>]\n",
      "[<span class=\"author-born-date\">January 01, 1919</span>, <span class=\"author-born-location\">in Manhattan, New York, The United States</span>]\n",
      "[<span class=\"author-born-date\">May 12, 1937</span>, <span class=\"author-born-location\">in New York, New York, The United States</span>]\n",
      "[<span class=\"author-born-date\">October 09, 1940</span>, <span class=\"author-born-location\">in Liverpool, England, The United Kingdom</span>]\n",
      "[<span class=\"author-born-date\">January 29, 1880</span>, <span class=\"author-born-location\">in Darby, Pennsylvania, The United States</span>]\n",
      "[<span class=\"author-born-date\">February 02, 1905</span>, <span class=\"author-born-location\">in St. Petersburg, Russian Federation</span>]\n",
      "[<span class=\"author-born-date\">November 30, 1835</span>, <span class=\"author-born-location\">in Florida, Missouri, The United States</span>]\n",
      "[<span class=\"author-born-date\">March 14, 1879</span>, <span class=\"author-born-location\">in Ulm, Germany</span>]\n",
      "[<span class=\"author-born-date\">December 16, 1775</span>, <span class=\"author-born-location\">in Steventon Rectory, Hampshire, The United Kingdom</span>]\n",
      "[<span class=\"author-born-date\">July 31, 1965</span>, <span class=\"author-born-location\">in Yate, South Gloucestershire, England, The United Kingdom</span>]\n",
      "[<span class=\"author-born-date\">December 16, 1775</span>, <span class=\"author-born-location\">in Steventon Rectory, Hampshire, The United Kingdom</span>]\n",
      "[<span class=\"author-born-date\">December 16, 1775</span>, <span class=\"author-born-location\">in Steventon Rectory, Hampshire, The United Kingdom</span>]\n",
      "[<span class=\"author-born-date\">November 29, 1898</span>, <span class=\"author-born-location\">in Belfast, Ireland</span>]\n",
      "[<span class=\"author-born-date\">November 29, 1898</span>, <span class=\"author-born-location\">in Belfast, Ireland</span>]\n",
      "[<span class=\"author-born-date\">November 30, 1835</span>, <span class=\"author-born-location\">in Florida, Missouri, The United States</span>]\n",
      "[<span class=\"author-born-date\">November 30, 1835</span>, <span class=\"author-born-location\">in Florida, Missouri, The United States</span>]\n",
      "[<span class=\"author-born-date\">November 29, 1898</span>, <span class=\"author-born-location\">in Belfast, Ireland</span>]\n",
      "[<span class=\"author-born-date\">July 31, 1965</span>, <span class=\"author-born-location\">in Yate, South Gloucestershire, England, The United Kingdom</span>]\n",
      "[<span class=\"author-born-date\">November 27, 1942</span>, <span class=\"author-born-location\">in Seattle, Washington, The United States</span>]\n",
      "[<span class=\"author-born-date\">May 09, 1860</span>, <span class=\"author-born-location\">in Kirriemuir, Angus, Scotland, The United Kingdom</span>]\n",
      "[<span class=\"author-born-date\">October 14, 1894</span>, <span class=\"author-born-location\">in Cambridge, Massachusetts, The United States</span>]\n"
     ]
    }
   ],
   "source": [
    "quote_info(get_response, quotes)"
   ]
  },
  {
   "cell_type": "code",
   "execution_count": null,
   "id": "a793c50e",
   "metadata": {},
   "outputs": [],
   "source": []
  }
 ],
 "metadata": {
  "kernelspec": {
   "display_name": "Python 3",
   "language": "python",
   "name": "python3"
  },
  "language_info": {
   "codemirror_mode": {
    "name": "ipython",
    "version": 3
   },
   "file_extension": ".py",
   "mimetype": "text/x-python",
   "name": "python",
   "nbconvert_exporter": "python",
   "pygments_lexer": "ipython3",
   "version": "3.8.5"
  }
 },
 "nbformat": 4,
 "nbformat_minor": 5
}
