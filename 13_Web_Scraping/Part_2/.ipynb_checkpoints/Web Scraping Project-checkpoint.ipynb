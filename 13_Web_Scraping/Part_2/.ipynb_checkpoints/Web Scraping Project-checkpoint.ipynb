{
 "cells": [
  {
   "cell_type": "code",
   "execution_count": 23,
   "id": "2ceef964",
   "metadata": {},
   "outputs": [],
   "source": [
    "import requests\n",
    "from bs4 import BeautifulSoup\n",
    "from random import choice\n",
    "from csv import DictReader, DictWriter"
   ]
  },
  {
   "cell_type": "code",
   "execution_count": 24,
   "id": "db64f64e",
   "metadata": {},
   "outputs": [],
   "source": [
    "def get_response(endpoint):\n",
    "    if type(endpoint) == int:\n",
    "        url = f\"https://quotes.toscrape.com/page/{endpoint}\"\n",
    "    else:\n",
    "        url = f\"https://quotes.toscrape.com{endpoint}\"\n",
    "    \n",
    "    response = requests.get(url)\n",
    "    return BeautifulSoup(response.text, \"html.parser\")"
   ]
  },
  {
   "cell_type": "code",
   "execution_count": 3,
   "id": "bb85a55f",
   "metadata": {},
   "outputs": [],
   "source": [
    "# def quotes(get_response):\n",
    "#     all_quotes = []\n",
    "\n",
    "#     for page_num in range(1, 11):\n",
    "#         soup = get_response(page_num)\n",
    "#         quotes = soup.select(\".quote\")\n",
    "\n",
    "#         all_quotes.extend(quotes)\n",
    "#     return all_quotes"
   ]
  },
  {
   "cell_type": "code",
   "execution_count": 35,
   "id": "c51dd432",
   "metadata": {},
   "outputs": [],
   "source": [
    "def quotes(get_response):\n",
    "    all_quotes = []\n",
    "    page_num = 1\n",
    "    \n",
    "    while True:\n",
    "        soup = get_response(page_num)\n",
    "        quotes = soup.select(\".quote\")\n",
    "        all_quotes.extend(quotes)\n",
    "        \n",
    "        if not soup.find(class_ = 'next'):\n",
    "            break\n",
    "        page_num += 1\n",
    "        \n",
    "    return all_quotes"
   ]
  },
  {
   "cell_type": "code",
   "execution_count": 4,
   "id": "972cdb55",
   "metadata": {},
   "outputs": [],
   "source": [
    "def quote_info(get_response, quotes):\n",
    "    quote_dicts = []\n",
    "\n",
    "    for quote in quotes(get_response):\n",
    "        text = quote.find(class_ = \"text\").get_text()\n",
    "        author = quote.find(class_ = 'author').get_text()\n",
    "        about = quote.find(\"a\")['href']\n",
    "\n",
    "        soup = get_response(about)\n",
    "        birth_date, birth_location = soup.find(class_ = 'author-details').select('span')\n",
    "        born = f\"{birth_date.get_text()} {birth_location.get_text()}\"\n",
    "        \n",
    "        bdate, blocation, heart = soup.find_all(\"span\")\n",
    "        quote_dicts.append({ \"quote\": text, \"author\": author, \"born\": born })\n",
    "    return quote_dicts"
   ]
  },
  {
   "cell_type": "code",
   "execution_count": 5,
   "id": "d1b98618",
   "metadata": {},
   "outputs": [
    {
     "name": "stdout",
     "output_type": "stream",
     "text": [
      "{'quote': \"“A lady's imagination is very rapid; it jumps from admiration to love, from love to matrimony in a moment.”\", 'author': 'Jane Austen', 'born': 'December 16, 1775 in Steventon Rectory, Hampshire, The United Kingdom'}\n"
     ]
    }
   ],
   "source": [
    "rand_quote = choice(quote_info(get_response, quotes))"
   ]
  },
  {
   "cell_type": "code",
   "execution_count": null,
   "id": "fdc2a032",
   "metadata": {},
   "outputs": [],
   "source": []
  }
 ],
 "metadata": {
  "kernelspec": {
   "display_name": "Python 3",
   "language": "python",
   "name": "python3"
  },
  "language_info": {
   "codemirror_mode": {
    "name": "ipython",
    "version": 3
   },
   "file_extension": ".py",
   "mimetype": "text/x-python",
   "name": "python",
   "nbconvert_exporter": "python",
   "pygments_lexer": "ipython3",
   "version": "3.8.5"
  }
 },
 "nbformat": 4,
 "nbformat_minor": 5
}
