{
 "cells": [
  {
   "cell_type": "code",
   "execution_count": 4,
   "id": "2ceef964",
   "metadata": {},
   "outputs": [],
   "source": [
    "from requests import get\n",
    "from bs4 import BeautifulSoup\n",
    "from random import choice\n",
    "from csv import DictReader, DictWriter"
   ]
  },
  {
   "cell_type": "code",
   "execution_count": 5,
   "id": "4188e668",
   "metadata": {},
   "outputs": [],
   "source": [
    "class Celebrity:\n",
    "    def __init__(self, name, born = None):\n",
    "        self.name = name\n",
    "        self.born = born\n",
    "        self.quotes = []\n",
    "    \n",
    "    def __str__(self):\n",
    "         return f\"{self.name}: {self.born}\"\n",
    "    \n",
    "    def add_quote(self, quote):\n",
    "        self.quotes.append(quote)"
   ]
  },
  {
   "cell_type": "code",
   "execution_count": 6,
   "id": "fd61441e",
   "metadata": {},
   "outputs": [],
   "source": [
    "def request(endpoint):\n",
    "    if type(endpoint) == int:\n",
    "        url = f\"https://quotes.toscrape.com/page/{endpoint}\"\n",
    "    else:\n",
    "        url = f\"https://quotes.toscrape.com{endpoint}\"\n",
    "    \n",
    "    response = get(url)\n",
    "    return BeautifulSoup(response.text, \"html.parser\")"
   ]
  },
  {
   "cell_type": "code",
   "execution_count": 7,
   "id": "6c3f9904",
   "metadata": {},
   "outputs": [],
   "source": [
    "def authors(request):\n",
    "    authors = set()\n",
    "    page = 1\n",
    "    \n",
    "    while True:\n",
    "        soup = request(page)\n",
    "        \n",
    "        for author in soup.select(\".author\"):\n",
    "            authors.add(author.text)\n",
    "        \n",
    "        if not soup.find(class_ = 'next'):\n",
    "            break\n",
    "        page += 1\n",
    "        \n",
    "    return authors"
   ]
  },
  {
   "cell_type": "code",
   "execution_count": 8,
   "id": "4ff904ff",
   "metadata": {},
   "outputs": [],
   "source": [
    "authors = authors(request)"
   ]
  },
  {
   "cell_type": "code",
   "execution_count": 9,
   "id": "181a2530",
   "metadata": {},
   "outputs": [],
   "source": [
    "def get_quotes(request):\n",
    "    quotes = []\n",
    "    page = 1\n",
    "    \n",
    "    while True:\n",
    "        soup = request(page)\n",
    "        quotes.extend(soup.select(\".quote\"))\n",
    "        \n",
    "        if not soup.find(class_ = 'next'):\n",
    "            break\n",
    "        page += 1\n",
    "        \n",
    "    return quotes"
   ]
  },
  {
   "cell_type": "code",
   "execution_count": 10,
   "id": "32a6c1cd",
   "metadata": {},
   "outputs": [],
   "source": [
    "quotes = get_quotes(request)"
   ]
  },
  {
   "cell_type": "code",
   "execution_count": 11,
   "id": "8da369c4",
   "metadata": {},
   "outputs": [],
   "source": [
    "def celeb_instances(request, authors, quotes):\n",
    "    celebs = []\n",
    "\n",
    "    for author in authors:\n",
    "        celeb = Celebrity(author)\n",
    "        celebs.append(celeb)\n",
    "\n",
    "        for quote in quotes:\n",
    "            if quote.find(class_ = 'author').text == author:\n",
    "                quotation = quote.find(class_ = 'text').text\n",
    "                celeb.add_quote(quotation)\n",
    "                \n",
    "                if not celeb.born:\n",
    "                    about = quote.find(\"a\")['href']\n",
    "                    soup = request(about)\n",
    "                    birth_date, birth_location = soup.find(class_ = 'author-details').select('span')\n",
    "                    born = f\"{birth_date.get_text()} {birth_location.get_text()}\"\n",
    "                    celeb.born = born\n",
    "    return celebs"
   ]
  },
  {
   "cell_type": "code",
   "execution_count": 12,
   "id": "add47918",
   "metadata": {},
   "outputs": [],
   "source": [
    "celebs = celeb_instances(request, authors, quotes)"
   ]
  },
  {
   "cell_type": "code",
   "execution_count": null,
   "id": "f80dc2c4",
   "metadata": {},
   "outputs": [],
   "source": []
  }
 ],
 "metadata": {
  "kernelspec": {
   "display_name": "Python 3",
   "language": "python",
   "name": "python3"
  },
  "language_info": {
   "codemirror_mode": {
    "name": "ipython",
    "version": 3
   },
   "file_extension": ".py",
   "mimetype": "text/x-python",
   "name": "python",
   "nbconvert_exporter": "python",
   "pygments_lexer": "ipython3",
   "version": "3.8.5"
  }
 },
 "nbformat": 4,
 "nbformat_minor": 5
}
