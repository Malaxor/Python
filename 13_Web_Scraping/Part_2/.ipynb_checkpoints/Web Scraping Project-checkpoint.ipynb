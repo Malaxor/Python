{
 "cells": [
  {
   "cell_type": "code",
   "execution_count": 42,
   "id": "845ec25a",
   "metadata": {},
   "outputs": [],
   "source": [
    "import requests\n",
    "from bs4 import BeautifulSoup\n",
    "from csv import reader, writer"
   ]
  },
  {
   "cell_type": "code",
   "execution_count": 43,
   "id": "f307a823",
   "metadata": {},
   "outputs": [],
   "source": [
    "url = \"https://www.rithmschool.com/blog\"\n",
    "response = requests.get(url)"
   ]
  },
  {
   "cell_type": "code",
   "execution_count": 44,
   "id": "8f45f1f8",
   "metadata": {},
   "outputs": [],
   "source": [
    "soup = BeautifulSoup(response.text, \"html.parser\")"
   ]
  },
  {
   "cell_type": "code",
   "execution_count": 45,
   "id": "43ae6fd5",
   "metadata": {},
   "outputs": [],
   "source": [
    "articles = soup.select(\"article\")"
   ]
  },
  {
   "cell_type": "code",
   "execution_count": 46,
   "id": "21f75fbc",
   "metadata": {},
   "outputs": [],
   "source": [
    "with open(\"blog_data\", \"w\") as csv_file:\n",
    "    csv_writer = writer(csv_file)\n",
    "    csv_writer.writerow(['Title', 'Link', 'Date'])\n",
    "    \n",
    "    for article in articles:\n",
    "        a_tag = article.find(\"a\")\n",
    "\n",
    "        title = a_tag.get_text()\n",
    "        url = a_tag[\"href\"]\n",
    "        date = article.find(\"time\")['datetime']"
   ]
  },
  {
   "cell_type": "code",
   "execution_count": null,
   "id": "0e419235",
   "metadata": {},
   "outputs": [],
   "source": []
  },
  {
   "cell_type": "code",
   "execution_count": null,
   "id": "96a91852",
   "metadata": {},
   "outputs": [],
   "source": []
  }
 ],
 "metadata": {
  "kernelspec": {
   "display_name": "Python 3",
   "language": "python",
   "name": "python3"
  },
  "language_info": {
   "codemirror_mode": {
    "name": "ipython",
    "version": 3
   },
   "file_extension": ".py",
   "mimetype": "text/x-python",
   "name": "python",
   "nbconvert_exporter": "python",
   "pygments_lexer": "ipython3",
   "version": "3.8.5"
  }
 },
 "nbformat": 4,
 "nbformat_minor": 5
}
