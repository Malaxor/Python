{
 "cells": [
  {
   "cell_type": "code",
   "execution_count": 42,
   "id": "a99061d4",
   "metadata": {},
   "outputs": [],
   "source": [
    "import requests\n",
    "from bs4 import BeautifulSoup\n",
    "from csv import reader, writer"
   ]
  },
  {
   "cell_type": "code",
   "execution_count": 43,
   "id": "9a93f263",
   "metadata": {},
   "outputs": [],
   "source": [
    "url = \"https://www.rithmschool.com/blog\"\n",
    "response = requests.get(url)"
   ]
  },
  {
   "cell_type": "code",
   "execution_count": 44,
   "id": "d9904d73",
   "metadata": {},
   "outputs": [],
   "source": [
    "soup = BeautifulSoup(response.text, \"html.parser\")"
   ]
  },
  {
   "cell_type": "code",
   "execution_count": 45,
   "id": "deaa066a",
   "metadata": {},
   "outputs": [],
   "source": [
    "articles = soup.select(\"article\")"
   ]
  },
  {
   "cell_type": "code",
   "execution_count": 47,
   "id": "e905a8ba",
   "metadata": {},
   "outputs": [],
   "source": [
    "with open(\"blog_data\", \"w\") as csv_file:\n",
    "    csv_writer = writer(csv_file)\n",
    "    csv_writer.writerow(['Title', 'Link', 'Date'])\n",
    "    \n",
    "    for article in articles:\n",
    "        a_tag = article.find(\"a\")\n",
    "\n",
    "        title = a_tag.get_text()\n",
    "        url = a_tag[\"href\"]\n",
    "        date = article.find(\"time\")['datetime']\n",
    "        csv_writer.writerow([title, url, date])"
   ]
  },
  {
   "cell_type": "code",
   "execution_count": null,
   "id": "499eb49f",
   "metadata": {},
   "outputs": [],
   "source": []
  }
 ],
 "metadata": {
  "kernelspec": {
   "display_name": "Python 3",
   "language": "python",
   "name": "python3"
  },
  "language_info": {
   "codemirror_mode": {
    "name": "ipython",
    "version": 3
   },
   "file_extension": ".py",
   "mimetype": "text/x-python",
   "name": "python",
   "nbconvert_exporter": "python",
   "pygments_lexer": "ipython3",
   "version": "3.8.5"
  }
 },
 "nbformat": 4,
 "nbformat_minor": 5
}
