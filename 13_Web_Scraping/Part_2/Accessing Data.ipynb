{
 "cells": [
  {
   "cell_type": "code",
   "execution_count": 2,
   "id": "b1162eab",
   "metadata": {},
   "outputs": [],
   "source": [
    "from bs4 import BeautifulSoup"
   ]
  },
  {
   "cell_type": "code",
   "execution_count": 3,
   "id": "25489552",
   "metadata": {},
   "outputs": [],
   "source": [
    "html = \"\"\"\n",
    "<!DOCTYPE html>\n",
    "<html lang=\"en\">\n",
    "<head>\n",
    "  <meta charset=\"UTF-8\">\n",
    "  <title>First HTML Page</title>\n",
    "</head>\n",
    "<body>\n",
    "  <div id=\"first\">\n",
    "    <h3 data-example=\"yes\">hi</h3>\n",
    "    <p>more text.</p>\n",
    "  </div>\n",
    "  <ol>\n",
    "    <li class=\"special\">This list item is special.</li>\n",
    "    <li class=\"special\">This list item is also special.</li>\n",
    "    <li>This list item is not special.</li>\n",
    "  </ol>\n",
    "  <div data-example=\"yes\">bye</div>\n",
    "</body>\n",
    "</html>\n",
    "\"\"\""
   ]
  },
  {
   "cell_type": "code",
   "execution_count": 4,
   "id": "bb7bd6c7",
   "metadata": {},
   "outputs": [],
   "source": [
    "soup = BeautifulSoup(html, \"html.parser\")"
   ]
  },
  {
   "cell_type": "code",
   "execution_count": 5,
   "id": "6028573b",
   "metadata": {},
   "outputs": [],
   "source": [
    "li = soup.select(\".special\")[0]"
   ]
  },
  {
   "cell_type": "code",
   "execution_count": 6,
   "id": "7839dd35",
   "metadata": {},
   "outputs": [
    {
     "data": {
      "text/plain": [
       "'This list item is special.'"
      ]
     },
     "execution_count": 6,
     "metadata": {},
     "output_type": "execute_result"
    }
   ],
   "source": [
    "li.text"
   ]
  },
  {
   "cell_type": "code",
   "execution_count": 9,
   "id": "1059a619",
   "metadata": {},
   "outputs": [
    {
     "name": "stdout",
     "output_type": "stream",
     "text": [
      "This list item is special.\n"
     ]
    }
   ],
   "source": [
    "# get the element's inner text\n",
    "print(li.get_text())"
   ]
  },
  {
   "cell_type": "code",
   "execution_count": 10,
   "id": "0ddc6f85",
   "metadata": {},
   "outputs": [
    {
     "name": "stdout",
     "output_type": "stream",
     "text": [
      "This list item is special.\n",
      "This list item is also special.\n"
     ]
    }
   ],
   "source": [
    "for li in soup.select(\".special\"):\n",
    "    print(li.get_text())"
   ]
  },
  {
   "cell_type": "code",
   "execution_count": 11,
   "id": "f04867e8",
   "metadata": {},
   "outputs": [
    {
     "name": "stdout",
     "output_type": "stream",
     "text": [
      "li\n",
      "li\n"
     ]
    }
   ],
   "source": [
    "# name property returns the tag name\n",
    "for li in soup.select(\".special\"):\n",
    "    print(li.name)"
   ]
  },
  {
   "cell_type": "code",
   "execution_count": 13,
   "id": "a3a3081e",
   "metadata": {},
   "outputs": [
    {
     "name": "stdout",
     "output_type": "stream",
     "text": [
      "{'class': ['special']}\n",
      "{'class': ['special']}\n"
     ]
    }
   ],
   "source": [
    "# name property returns a dictionary containing all an element's attributes\n",
    "for li in soup.select(\".special\"):\n",
    "    print(li.attrs)"
   ]
  },
  {
   "cell_type": "code",
   "execution_count": 14,
   "id": "cb845674",
   "metadata": {},
   "outputs": [
    {
     "name": "stdout",
     "output_type": "stream",
     "text": [
      "first\n"
     ]
    }
   ],
   "source": [
    "# alternative attribute selection\n",
    "print(soup.find(\"div\")[\"id\"])"
   ]
  },
  {
   "cell_type": "code",
   "execution_count": null,
   "id": "80fa295f",
   "metadata": {},
   "outputs": [],
   "source": []
  }
 ],
 "metadata": {
  "kernelspec": {
   "display_name": "Python 3",
   "language": "python",
   "name": "python3"
  },
  "language_info": {
   "codemirror_mode": {
    "name": "ipython",
    "version": 3
   },
   "file_extension": ".py",
   "mimetype": "text/x-python",
   "name": "python",
   "nbconvert_exporter": "python",
   "pygments_lexer": "ipython3",
   "version": "3.8.5"
  }
 },
 "nbformat": 4,
 "nbformat_minor": 5
}
