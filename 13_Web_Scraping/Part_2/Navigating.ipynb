{
 "cells": [
  {
   "cell_type": "code",
   "execution_count": 1,
   "id": "9906b780",
   "metadata": {},
   "outputs": [],
   "source": [
    "from bs4 import BeautifulSoup"
   ]
  },
  {
   "cell_type": "code",
   "execution_count": 2,
   "id": "b91c69e8",
   "metadata": {},
   "outputs": [],
   "source": [
    "html = \"\"\"\n",
    "<!DOCTYPE html>\n",
    "<html lang=\"en\">\n",
    "<head>\n",
    "  <meta charset=\"UTF-8\">\n",
    "  <title>First HTML Page</title>\n",
    "</head>\n",
    "<body>\n",
    "  <div id=\"first\">\n",
    "    <h3 data-example=\"yes\">hi</h3>\n",
    "    <p>more text.</p>\n",
    "  </div>\n",
    "  <ol>\n",
    "    <li class=\"special\">This list item is special.</li>\n",
    "    <li class=\"special\">This list item is also special.</li>\n",
    "    <li>This list item is not special.</li>\n",
    "  </ol>\n",
    "  <div data-example=\"yes\">bye</div>\n",
    "</body>\n",
    "</html>\n",
    "\"\"\""
   ]
  },
  {
   "cell_type": "code",
   "execution_count": 3,
   "id": "a068d9a3",
   "metadata": {},
   "outputs": [],
   "source": [
    "soup = BeautifulSoup(html, \"html.parser\")"
   ]
  },
  {
   "cell_type": "code",
   "execution_count": 4,
   "id": "8d886abf",
   "metadata": {},
   "outputs": [
    {
     "data": {
      "text/plain": [
       "<body>\n",
       "<div id=\"first\">\n",
       "<h3 data-example=\"yes\">hi</h3>\n",
       "<p>more text.</p>\n",
       "</div>\n",
       "<ol>\n",
       "<li class=\"special\">This list item is special.</li>\n",
       "<li class=\"special\">This list item is also special.</li>\n",
       "<li>This list item is not special.</li>\n",
       "</ol>\n",
       "<div data-example=\"yes\">bye</div>\n",
       "</body>"
      ]
     },
     "execution_count": 4,
     "metadata": {},
     "output_type": "execute_result"
    }
   ],
   "source": [
    "soup.body"
   ]
  },
  {
   "cell_type": "code",
   "execution_count": 5,
   "id": "05b3abce",
   "metadata": {},
   "outputs": [
    {
     "data": {
      "text/plain": [
       "['\\n',\n",
       " <div id=\"first\">\n",
       " <h3 data-example=\"yes\">hi</h3>\n",
       " <p>more text.</p>\n",
       " </div>,\n",
       " '\\n',\n",
       " <ol>\n",
       " <li class=\"special\">This list item is special.</li>\n",
       " <li class=\"special\">This list item is also special.</li>\n",
       " <li>This list item is not special.</li>\n",
       " </ol>,\n",
       " '\\n',\n",
       " <div data-example=\"yes\">bye</div>,\n",
       " '\\n']"
      ]
     },
     "execution_count": 5,
     "metadata": {},
     "output_type": "execute_result"
    }
   ],
   "source": [
    "# returns a list of element objects\n",
    "soup.body.contents"
   ]
  },
  {
   "cell_type": "code",
   "execution_count": 6,
   "id": "03b9dad8",
   "metadata": {},
   "outputs": [
    {
     "data": {
      "text/plain": [
       "<div id=\"first\">\n",
       "<h3 data-example=\"yes\">hi</h3>\n",
       "<p>more text.</p>\n",
       "</div>"
      ]
     },
     "execution_count": 6,
     "metadata": {},
     "output_type": "execute_result"
    }
   ],
   "source": [
    "soup.body.contents[1]"
   ]
  },
  {
   "cell_type": "code",
   "execution_count": 7,
   "id": "e9e6b00b",
   "metadata": {},
   "outputs": [
    {
     "data": {
      "text/plain": [
       "['\\n', <h3 data-example=\"yes\">hi</h3>, '\\n', <p>more text.</p>, '\\n']"
      ]
     },
     "execution_count": 7,
     "metadata": {},
     "output_type": "execute_result"
    }
   ],
   "source": [
    "soup.body.contents[1].contents"
   ]
  },
  {
   "cell_type": "code",
   "execution_count": 8,
   "id": "c111f212",
   "metadata": {},
   "outputs": [
    {
     "data": {
      "text/plain": [
       "'\\n'"
      ]
     },
     "execution_count": 8,
     "metadata": {},
     "output_type": "execute_result"
    }
   ],
   "source": [
    "# returns the next sibling, which can be not an element but a new line escape character\n",
    "soup.body.contents[1].next_sibling"
   ]
  },
  {
   "cell_type": "code",
   "execution_count": 9,
   "id": "5a89ee60",
   "metadata": {},
   "outputs": [
    {
     "data": {
      "text/plain": [
       "<ol>\n",
       "<li class=\"special\">This list item is special.</li>\n",
       "<li class=\"special\">This list item is also special.</li>\n",
       "<li>This list item is not special.</li>\n",
       "</ol>"
      ]
     },
     "execution_count": 9,
     "metadata": {},
     "output_type": "execute_result"
    }
   ],
   "source": [
    "soup.body.contents[1].next_sibling.next_sibling"
   ]
  },
  {
   "cell_type": "code",
   "execution_count": 10,
   "id": "5a61c688",
   "metadata": {},
   "outputs": [
    {
     "data": {
      "text/plain": [
       "<ol>\n",
       "<li class=\"special\">This list item is special.</li>\n",
       "<li class=\"special\">This list item is also special.</li>\n",
       "<li>This list item is not special.</li>\n",
       "</ol>"
      ]
     },
     "execution_count": 10,
     "metadata": {},
     "output_type": "execute_result"
    }
   ],
   "source": [
    "soup.find(id = 'first').find_next_sibling()"
   ]
  },
  {
   "cell_type": "code",
   "execution_count": 11,
   "id": "e3e25132",
   "metadata": {},
   "outputs": [
    {
     "data": {
      "text/plain": [
       "<ol>\n",
       "<li class=\"special\">This list item is special.</li>\n",
       "<li class=\"special\">This list item is also special.</li>\n",
       "<li>This list item is not special.</li>\n",
       "</ol>"
      ]
     },
     "execution_count": 11,
     "metadata": {},
     "output_type": "execute_result"
    }
   ],
   "source": [
    "soup.find(class_ = \"special\").parent"
   ]
  },
  {
   "cell_type": "code",
   "execution_count": 12,
   "id": "23d66223",
   "metadata": {},
   "outputs": [
    {
     "data": {
      "text/plain": [
       "<ol>\n",
       "<li class=\"special\">This list item is special.</li>\n",
       "<li class=\"special\">This list item is also special.</li>\n",
       "<li>This list item is not special.</li>\n",
       "</ol>"
      ]
     },
     "execution_count": 12,
     "metadata": {},
     "output_type": "execute_result"
    }
   ],
   "source": [
    "soup.select(\"[data-example]\")[1].find_previous_sibling()"
   ]
  },
  {
   "cell_type": "code",
   "execution_count": 15,
   "id": "87a5ae0a",
   "metadata": {},
   "outputs": [],
   "source": [
    "soup.find(id = \"first\").find_next_sibling(class_ = \"special\")"
   ]
  },
  {
   "cell_type": "code",
   "execution_count": null,
   "id": "0d045247",
   "metadata": {},
   "outputs": [],
   "source": []
  }
 ],
 "metadata": {
  "kernelspec": {
   "display_name": "Python 3",
   "language": "python",
   "name": "python3"
  },
  "language_info": {
   "codemirror_mode": {
    "name": "ipython",
    "version": 3
   },
   "file_extension": ".py",
   "mimetype": "text/x-python",
   "name": "python",
   "nbconvert_exporter": "python",
   "pygments_lexer": "ipython3",
   "version": "3.8.5"
  }
 },
 "nbformat": 4,
 "nbformat_minor": 5
}
