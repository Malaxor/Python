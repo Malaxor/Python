{
 "cells": [
  {
   "cell_type": "code",
   "execution_count": 1,
   "id": "2ceef964",
   "metadata": {},
   "outputs": [],
   "source": [
    "from requests import get\n",
    "from bs4 import BeautifulSoup\n",
    "from random import choice\n",
    "from csv import DictReader, DictWriter"
   ]
  },
  {
   "cell_type": "code",
   "execution_count": 2,
   "id": "4188e668",
   "metadata": {},
   "outputs": [],
   "source": [
    "class Celebrity:\n",
    "    def __init__(self, name, born = ''):\n",
    "        self.name = name\n",
    "        self.born = born\n",
    "        self.quotes = []\n",
    "    \n",
    "    def __str__(self):\n",
    "         return f\"{self.name}: {self.born}\"\n",
    "    \n",
    "    def display_born(self):\n",
    "        return f\"The author was born {self.born}\"\n",
    "    \n",
    "    def add_quote(self, quote):\n",
    "        self.quotes.append(quote)\n",
    "    \n",
    "    def get_quote(self):\n",
    "        if len(self.quotes) > 1:\n",
    "            return choice(self.quotes)\n",
    "        return self.quotes[0]\n",
    "    \n",
    "    def initials(self):\n",
    "        \"\"\"\n",
    "        return the celebrity's first and last name initials, each wrapped in a message (a hint)\n",
    "        \"\"\"\n",
    "        \n",
    "        name = self.name.split(\" \")\n",
    "        fname_initial = name[0][0]\n",
    "        \n",
    "        if len(name) == 2 or self.name.endswith('fils'):\n",
    "            lname_initial = name[1][0]\n",
    "        elif len(name) == 3 or (len(name) == 4 and self.name.endswith('.jr')):\n",
    "            lname_initial = name[2][0]\n",
    "        \n",
    "        return (f\"The author's first name starts with {fname_initial}\", f\"The author's last name starts with {lname_initial}\")"
   ]
  },
  {
   "cell_type": "code",
   "execution_count": 3,
   "id": "fd61441e",
   "metadata": {},
   "outputs": [],
   "source": [
    "def request(endpoint):\n",
    "    if type(endpoint) == int:\n",
    "        url = f\"https://quotes.toscrape.com/page/{endpoint}\"\n",
    "    else:\n",
    "        url = f\"https://quotes.toscrape.com{endpoint}\"\n",
    "    \n",
    "    response = get(url)\n",
    "    return BeautifulSoup(response.text, \"html.parser\")"
   ]
  },
  {
   "cell_type": "code",
   "execution_count": 4,
   "id": "174ecc9a",
   "metadata": {},
   "outputs": [],
   "source": [
    "def authors(request):\n",
    "    authors = set()\n",
    "    page = 1\n",
    "    \n",
    "    while True:\n",
    "        soup = request(page)\n",
    "        \n",
    "        for author in soup.select(\".author\"):\n",
    "            authors.add(author.text)\n",
    "        \n",
    "        if not soup.find(class_ = 'next'):\n",
    "            break\n",
    "        page += 1\n",
    "    return authors"
   ]
  },
  {
   "cell_type": "code",
   "execution_count": 5,
   "id": "889ade4f",
   "metadata": {},
   "outputs": [],
   "source": [
    "authors = authors(request)"
   ]
  },
  {
   "cell_type": "code",
   "execution_count": 6,
   "id": "6cefee04",
   "metadata": {},
   "outputs": [],
   "source": [
    "def get_quotes(request):\n",
    "    quotes = []\n",
    "    page = 1\n",
    "    \n",
    "    while True:\n",
    "        soup = request(page)\n",
    "        quotes.extend(soup.select(\".quote\"))\n",
    "        \n",
    "        if not soup.find(class_ = 'next'):\n",
    "            break\n",
    "        page += 1\n",
    "        \n",
    "    return quotes"
   ]
  },
  {
   "cell_type": "code",
   "execution_count": 7,
   "id": "707fcbfc",
   "metadata": {},
   "outputs": [],
   "source": [
    "quotes = get_quotes(request)"
   ]
  },
  {
   "cell_type": "code",
   "execution_count": 8,
   "id": "7b273d1e",
   "metadata": {},
   "outputs": [],
   "source": [
    "def celeb_instances(request, authors, quotes):\n",
    "    celebs = []\n",
    "\n",
    "    for author in authors:\n",
    "        celeb = Celebrity(author)\n",
    "        celebs.append(celeb)\n",
    "        \n",
    "        for quote in quotes:\n",
    "            if quote.find(class_ = 'author').text == author:\n",
    "                quotation = quote.find(class_ = 'text').text\n",
    "                celeb.add_quote(quotation)\n",
    "                \n",
    "                if not celeb.born:\n",
    "                    about = quote.find(\"a\")['href']\n",
    "                    soup = request(about)\n",
    "                    birth_date, birth_location = soup.find(class_ = 'author-details').select('span')\n",
    "                    born = f\"{birth_date.get_text()} {birth_location.get_text()}\"\n",
    "                    celeb.born = born\n",
    "    return celebs"
   ]
  },
  {
   "cell_type": "code",
   "execution_count": 9,
   "id": "06fdc7f9",
   "metadata": {},
   "outputs": [],
   "source": [
    "celebs = celeb_instances(request, authors, quotes)"
   ]
  },
  {
   "cell_type": "code",
   "execution_count": 10,
   "id": "cbac62b4",
   "metadata": {},
   "outputs": [],
   "source": [
    "def hint(guesses, **kwargs):\n",
    "    if guesses == 3:\n",
    "        hint = kwargs[\"born\"]\n",
    "    elif guesses == 2:\n",
    "        hint = kwargs[\"fname_initial\"]\n",
    "    else:\n",
    "        hint = kwargs[\"lname_initial\"]\n",
    "    return hint"
   ]
  },
  {
   "cell_type": "code",
   "execution_count": 16,
   "id": "f1c2d3a4",
   "metadata": {},
   "outputs": [],
   "source": [
    "def game():\n",
    "    celebrity = choice(celebs)\n",
    "    born = celebrity.display_born()\n",
    "    quote = celebrity.get_quote()\n",
    "    fname_initial, lname_initial = celebrity.initials()\n",
    "    game_on = True\n",
    "    \n",
    "    while game_on:\n",
    "        print(\"Here's a quote:\")\n",
    "        print(celebrity.get_quote())\n",
    "        \n",
    "        guesses = 4\n",
    "        guess = ''\n",
    "        \n",
    "        while guesses > 0:\n",
    "            guess = input(f\"\\nWho said this? Guesses remaining: {guesses}: \")\n",
    "            \n",
    "            if guess == celebrity.name:\n",
    "                print(\"Congrats! You've guessed correctly.\")\n",
    "                play_again = input(\"Play again? (y/n) \")\n",
    "                if play_again.lower() == 'y':\n",
    "                    print(\"Here we go again.\")\n",
    "                    print(\"\")\n",
    "                    game()\n",
    "                else:\n",
    "                    print(\"Catch you next time.\")\n",
    "                    return\n",
    "            else:\n",
    "                guesses -= 1\n",
    "                print(hint(guesses, born = born, fname_initial = fname_initial, lname_initial = lname_initial))\n",
    "        else:\n",
    "            print(\"\\nYou've exhausted all 4 guesses.\")\n",
    "            print(f\"The quote's author is {celebrity.name}\")\n",
    "            play_again = input(\"Play again? (y/n) \")\n",
    "            if play_again.lower() == 'y':\n",
    "                print(\"Here we go again.\")\n",
    "                print(\"\")\n",
    "                game()\n",
    "            else:\n",
    "                print(\"Catch you next time.\")\n",
    "                return"
   ]
  },
  {
   "cell_type": "code",
   "execution_count": null,
   "id": "2b7f5e06",
   "metadata": {},
   "outputs": [],
   "source": [
    "game()"
   ]
  }
 ],
 "metadata": {
  "kernelspec": {
   "display_name": "Python 3",
   "language": "python",
   "name": "python3"
  },
  "language_info": {
   "codemirror_mode": {
    "name": "ipython",
    "version": 3
   },
   "file_extension": ".py",
   "mimetype": "text/x-python",
   "name": "python",
   "nbconvert_exporter": "python",
   "pygments_lexer": "ipython3",
   "version": "3.8.5"
  }
 },
 "nbformat": 4,
 "nbformat_minor": 5
}
