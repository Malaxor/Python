{
 "cells": [
  {
   "cell_type": "code",
   "execution_count": 1,
   "id": "4b19bcff",
   "metadata": {},
   "outputs": [],
   "source": [
    "import re"
   ]
  },
  {
   "cell_type": "code",
   "execution_count": 2,
   "id": "3c25122b",
   "metadata": {},
   "outputs": [],
   "source": [
    "titles = [\n",
    "    \"Significant Others (1987)\",\n",
    "    \"Tales of the City (1978)\",\n",
    "    \"The Days of Anna Madrigal (2014)\",\n",
    "    \"Mary Ann in Autumn (2010)\",\n",
    "    \"Further Tales of the City (1982)\",\n",
    "    \"Babycakes (1984)\",\n",
    "    \"More Tales of the City (1980)\",\n",
    "    \"Sure of You (1989)\",\n",
    "    \"Michael Tolliver Lives (2007)\"\n",
    "]"
   ]
  },
  {
   "cell_type": "code",
   "execution_count": 11,
   "id": "5c798db6",
   "metadata": {},
   "outputs": [],
   "source": [
    "fixed_titles = []"
   ]
  },
  {
   "cell_type": "code",
   "execution_count": 12,
   "id": "8b2cd3f1",
   "metadata": {},
   "outputs": [],
   "source": [
    "pattern = re.compile(r\"(^[\\w ]+) \\((\\d{4})\\)\")"
   ]
  },
  {
   "cell_type": "code",
   "execution_count": 13,
   "id": "afc0e7d1",
   "metadata": {},
   "outputs": [],
   "source": [
    "for book in titles:\n",
    "    res = pattern.sub(\"\\g<2> - \\g<1>\", book)\n",
    "    fixed_titles.append(res)"
   ]
  },
  {
   "cell_type": "code",
   "execution_count": 14,
   "id": "e8ee46a7",
   "metadata": {},
   "outputs": [
    {
     "data": {
      "text/plain": [
       "['1987 - Significant Others',\n",
       " '1978 - Tales of the City',\n",
       " '2014 - The Days of Anna Madrigal',\n",
       " '2010 - Mary Ann in Autumn',\n",
       " '1982 - Further Tales of the City',\n",
       " '1984 - Babycakes',\n",
       " '1980 - More Tales of the City',\n",
       " '1989 - Sure of You',\n",
       " '2007 - Michael Tolliver Lives']"
      ]
     },
     "execution_count": 14,
     "metadata": {},
     "output_type": "execute_result"
    }
   ],
   "source": [
    "fixed_titles"
   ]
  },
  {
   "cell_type": "code",
   "execution_count": null,
   "id": "5d289120",
   "metadata": {},
   "outputs": [],
   "source": []
  }
 ],
 "metadata": {
  "kernelspec": {
   "display_name": "Python 3",
   "language": "python",
   "name": "python3"
  },
  "language_info": {
   "codemirror_mode": {
    "name": "ipython",
    "version": 3
   },
   "file_extension": ".py",
   "mimetype": "text/x-python",
   "name": "python",
   "nbconvert_exporter": "python",
   "pygments_lexer": "ipython3",
   "version": "3.8.5"
  }
 },
 "nbformat": 4,
 "nbformat_minor": 5
}
