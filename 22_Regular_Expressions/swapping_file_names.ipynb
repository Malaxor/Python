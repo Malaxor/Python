{
 "cells": [
  {
   "cell_type": "code",
   "execution_count": 1,
   "id": "e87df98c",
   "metadata": {},
   "outputs": [],
   "source": [
    "import re"
   ]
  },
  {
   "cell_type": "code",
   "execution_count": 2,
   "id": "4681b541",
   "metadata": {},
   "outputs": [],
   "source": [
    "titles = [\n",
    "    \"Significant Others (1987)\",\n",
    "    \"Tales of the City (1978)\",\n",
    "    \"The Days of Anna Madrigal (2014)\",\n",
    "    \"Mary Ann in Autumn (2010)\",\n",
    "    \"Further Tales of the City (1982)\",\n",
    "    \"Babycakes (1984)\",\n",
    "    \"More Tales of the City (1980)\",\n",
    "    \"Sure of You (1989)\",\n",
    "    \"Michael Tolliver Lives (2007)\"\n",
    "]"
   ]
  },
  {
   "cell_type": "code",
   "execution_count": 3,
   "id": "941f9bfd",
   "metadata": {},
   "outputs": [],
   "source": [
    "fixed_titles = []"
   ]
  },
  {
   "cell_type": "code",
   "execution_count": 4,
   "id": "1bb17bff",
   "metadata": {},
   "outputs": [],
   "source": [
    "pattern = re.compile(r\"(^[\\w ]+) \\((\\d{4})\\)\")"
   ]
  },
  {
   "cell_type": "code",
   "execution_count": 5,
   "id": "91f5e21b",
   "metadata": {},
   "outputs": [],
   "source": [
    "for book in titles:\n",
    "    res = pattern.sub(\"\\g<2> - \\g<1>\", book)\n",
    "    fixed_titles.append(res)"
   ]
  },
  {
   "cell_type": "code",
   "execution_count": 7,
   "id": "254a2865",
   "metadata": {},
   "outputs": [],
   "source": [
    "fixed_titles.sort()"
   ]
  },
  {
   "cell_type": "code",
   "execution_count": 8,
   "id": "102acb03",
   "metadata": {},
   "outputs": [
    {
     "data": {
      "text/plain": [
       "['1978 - Tales of the City',\n",
       " '1980 - More Tales of the City',\n",
       " '1982 - Further Tales of the City',\n",
       " '1984 - Babycakes',\n",
       " '1987 - Significant Others',\n",
       " '1989 - Sure of You',\n",
       " '2007 - Michael Tolliver Lives',\n",
       " '2010 - Mary Ann in Autumn',\n",
       " '2014 - The Days of Anna Madrigal']"
      ]
     },
     "execution_count": 8,
     "metadata": {},
     "output_type": "execute_result"
    }
   ],
   "source": [
    "fixed_titles"
   ]
  },
  {
   "cell_type": "code",
   "execution_count": null,
   "id": "530bfb80",
   "metadata": {},
   "outputs": [],
   "source": []
  }
 ],
 "metadata": {
  "kernelspec": {
   "display_name": "Python 3",
   "language": "python",
   "name": "python3"
  },
  "language_info": {
   "codemirror_mode": {
    "name": "ipython",
    "version": 3
   },
   "file_extension": ".py",
   "mimetype": "text/x-python",
   "name": "python",
   "nbconvert_exporter": "python",
   "pygments_lexer": "ipython3",
   "version": "3.8.5"
  }
 },
 "nbformat": 4,
 "nbformat_minor": 5
}
