{
 "cells": [
  {
   "cell_type": "code",
   "execution_count": 1,
   "id": "57bba0cb",
   "metadata": {},
   "outputs": [],
   "source": [
    "import re"
   ]
  },
  {
   "cell_type": "code",
   "execution_count": 2,
   "id": "837fae12",
   "metadata": {},
   "outputs": [],
   "source": [
    "text = \"Last night, Mrs. Daisy and Mr. White slaughtered Ms. Chow\""
   ]
  },
  {
   "cell_type": "code",
   "execution_count": 3,
   "id": "b5135b54",
   "metadata": {},
   "outputs": [],
   "source": [
    "pattern = re.compile(r\"(Mr.|Mrs.|Ms.) [a-z]+\", re.I)\n",
    "res = pattern.sub(\"REDACTED\", text)"
   ]
  },
  {
   "cell_type": "code",
   "execution_count": 4,
   "id": "eeef95ad",
   "metadata": {},
   "outputs": [
    {
     "data": {
      "text/plain": [
       "'Last night, REDACTED and REDACTED slaughtered REDACTED'"
      ]
     },
     "execution_count": 4,
     "metadata": {},
     "output_type": "execute_result"
    }
   ],
   "source": [
    "res"
   ]
  },
  {
   "cell_type": "code",
   "execution_count": 5,
   "id": "4794c9d7",
   "metadata": {},
   "outputs": [],
   "source": [
    "pattern = re.compile(r\"(Mr.|Mrs.|Ms.) [a-z]+\", re.I)\n",
    "res = pattern.sub(\"\\g<1> REDACTED\", text)"
   ]
  },
  {
   "cell_type": "code",
   "execution_count": 6,
   "id": "fc7547a5",
   "metadata": {},
   "outputs": [
    {
     "data": {
      "text/plain": [
       "'Last night, Mrs. REDACTED and Mr. REDACTED slaughtered Ms. REDACTED'"
      ]
     },
     "execution_count": 6,
     "metadata": {},
     "output_type": "execute_result"
    }
   ],
   "source": [
    "res"
   ]
  },
  {
   "cell_type": "code",
   "execution_count": 13,
   "id": "076e6f36",
   "metadata": {},
   "outputs": [],
   "source": [
    "# parens a-z captures the first letter of any word in the second group\n",
    "pattern = re.compile(r\"(Mr.|Mrs.|Ms.) ([a-z])[a-z]+\", re.I)\n",
    "res = pattern.sub(\"\\g<1> \\g<2>\", text)"
   ]
  },
  {
   "cell_type": "code",
   "execution_count": 14,
   "id": "64bd46ab",
   "metadata": {},
   "outputs": [
    {
     "data": {
      "text/plain": [
       "'Last night, Mrs. D and Mr. W slaughtered Ms. C'"
      ]
     },
     "execution_count": 14,
     "metadata": {},
     "output_type": "execute_result"
    }
   ],
   "source": [
    "res"
   ]
  },
  {
   "cell_type": "code",
   "execution_count": 8,
   "id": "02a0c009",
   "metadata": {},
   "outputs": [],
   "source": [
    "pattern = re.compile(r\"(Mr.|Mrs.|Ms.) ([a-z]+)\", re.I)\n",
    "res = pattern.findall(text)"
   ]
  },
  {
   "cell_type": "code",
   "execution_count": 9,
   "id": "bf3d984b",
   "metadata": {},
   "outputs": [
    {
     "data": {
      "text/plain": [
       "[('Mrs.', 'Daisy'), ('Mr.', 'White'), ('Ms.', 'Chow')]"
      ]
     },
     "execution_count": 9,
     "metadata": {},
     "output_type": "execute_result"
    }
   ],
   "source": [
    "res"
   ]
  },
  {
   "cell_type": "code",
   "execution_count": null,
   "id": "411c4fb8",
   "metadata": {},
   "outputs": [],
   "source": []
  }
 ],
 "metadata": {
  "kernelspec": {
   "display_name": "Python 3",
   "language": "python",
   "name": "python3"
  },
  "language_info": {
   "codemirror_mode": {
    "name": "ipython",
    "version": 3
   },
   "file_extension": ".py",
   "mimetype": "text/x-python",
   "name": "python",
   "nbconvert_exporter": "python",
   "pygments_lexer": "ipython3",
   "version": "3.8.5"
  }
 },
 "nbformat": 4,
 "nbformat_minor": 5
}
