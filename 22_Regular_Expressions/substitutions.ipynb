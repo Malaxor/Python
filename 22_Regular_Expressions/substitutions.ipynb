{
 "cells": [
  {
   "cell_type": "code",
   "execution_count": 1,
   "id": "bd783a06",
   "metadata": {},
   "outputs": [],
   "source": [
    "import re"
   ]
  },
  {
   "cell_type": "code",
   "execution_count": 2,
   "id": "4cf84173",
   "metadata": {},
   "outputs": [],
   "source": [
    "text = \"Last night, Mrs. Daisy and Mr. White slaughtered Ms. Chow\""
   ]
  },
  {
   "cell_type": "code",
   "execution_count": 3,
   "id": "8df3311e",
   "metadata": {},
   "outputs": [],
   "source": [
    "pattern = re.compile(r\"(Mr.|Mrs.|Ms.) [a-z]+\", re.I)\n",
    "res = pattern.sub(\"REDACTED\", text)"
   ]
  },
  {
   "cell_type": "code",
   "execution_count": 4,
   "id": "f3f6e8d6",
   "metadata": {},
   "outputs": [
    {
     "data": {
      "text/plain": [
       "'Last night, REDACTED and REDACTED slaughtered REDACTED'"
      ]
     },
     "execution_count": 4,
     "metadata": {},
     "output_type": "execute_result"
    }
   ],
   "source": [
    "res"
   ]
  },
  {
   "cell_type": "code",
   "execution_count": 5,
   "id": "36c23b9b",
   "metadata": {},
   "outputs": [],
   "source": [
    "pattern = re.compile(r\"(Mr.|Mrs.|Ms.) [a-z]+\", re.I)\n",
    "res = pattern.sub(\"\\g<1> REDACTED\", text)"
   ]
  },
  {
   "cell_type": "code",
   "execution_count": 6,
   "id": "bbf8877c",
   "metadata": {},
   "outputs": [
    {
     "data": {
      "text/plain": [
       "'Last night, Mrs. REDACTED and Mr. REDACTED slaughtered Ms. REDACTED'"
      ]
     },
     "execution_count": 6,
     "metadata": {},
     "output_type": "execute_result"
    }
   ],
   "source": [
    "res"
   ]
  },
  {
   "cell_type": "code",
   "execution_count": 10,
   "id": "619b8200",
   "metadata": {},
   "outputs": [],
   "source": [
    "# parens a-z captures the first letter of any word in the second group\n",
    "pattern = re.compile(r\"(Mr.|Mrs.|Ms.) [a-z]+\", re.I)\n",
    "res = pattern.sub(\"\\g<1> \\g<2>\", text)"
   ]
  },
  {
   "cell_type": "code",
   "execution_count": 11,
   "id": "396bbed0",
   "metadata": {},
   "outputs": [
    {
     "data": {
      "text/plain": [
       "<re.Match object; span=(12, 22), match='Mrs. Daisy'>"
      ]
     },
     "execution_count": 11,
     "metadata": {},
     "output_type": "execute_result"
    }
   ],
   "source": [
    "res"
   ]
  },
  {
   "cell_type": "code",
   "execution_count": 8,
   "id": "26ac2ec0",
   "metadata": {},
   "outputs": [],
   "source": [
    "pattern = re.compile(r\"(Mr.|Mrs.|Ms.) ([a-z]+)\", re.I)\n",
    "res = pattern.findall(text)"
   ]
  },
  {
   "cell_type": "code",
   "execution_count": 9,
   "id": "b7cf60f6",
   "metadata": {},
   "outputs": [
    {
     "data": {
      "text/plain": [
       "[('Mrs.', 'Daisy'), ('Mr.', 'White'), ('Ms.', 'Chow')]"
      ]
     },
     "execution_count": 9,
     "metadata": {},
     "output_type": "execute_result"
    }
   ],
   "source": [
    "res"
   ]
  },
  {
   "cell_type": "code",
   "execution_count": null,
   "id": "c76e6a3f",
   "metadata": {},
   "outputs": [],
   "source": []
  }
 ],
 "metadata": {
  "kernelspec": {
   "display_name": "Python 3",
   "language": "python",
   "name": "python3"
  },
  "language_info": {
   "codemirror_mode": {
    "name": "ipython",
    "version": 3
   },
   "file_extension": ".py",
   "mimetype": "text/x-python",
   "name": "python",
   "nbconvert_exporter": "python",
   "pygments_lexer": "ipython3",
   "version": "3.8.5"
  }
 },
 "nbformat": 4,
 "nbformat_minor": 5
}
