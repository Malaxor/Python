{
 "cells": [
  {
   "cell_type": "code",
   "execution_count": 1,
   "id": "727a8f0b",
   "metadata": {},
   "outputs": [],
   "source": [
    "import re"
   ]
  },
  {
   "cell_type": "code",
   "execution_count": 2,
   "id": "7816e001",
   "metadata": {},
   "outputs": [],
   "source": [
    "def extract_phone(st):\n",
    "    phone_regex = re.compile(r'\\b\\d{3} \\d{3}-\\d{4}\\b')\n",
    "    match = phone_regex.search(st)\n",
    "    if match:\n",
    "        return match.group()\n",
    "    return None"
   ]
  },
  {
   "cell_type": "code",
   "execution_count": 3,
   "id": "f6680a20",
   "metadata": {},
   "outputs": [
    {
     "data": {
      "text/plain": [
       "'313 549-9145'"
      ]
     },
     "execution_count": 3,
     "metadata": {},
     "output_type": "execute_result"
    }
   ],
   "source": [
    "extract_phone('my number is 313 549-9145')"
   ]
  },
  {
   "cell_type": "code",
   "execution_count": 4,
   "id": "9beea117",
   "metadata": {},
   "outputs": [
    {
     "name": "stdout",
     "output_type": "stream",
     "text": [
      "None\n"
     ]
    }
   ],
   "source": [
    "print(extract_phone('my number is 313 549-914500'))"
   ]
  },
  {
   "cell_type": "code",
   "execution_count": 5,
   "id": "090028fe",
   "metadata": {},
   "outputs": [
    {
     "name": "stdout",
     "output_type": "stream",
     "text": [
      "313 549-9145\n"
     ]
    }
   ],
   "source": [
    "print(extract_phone('313 549-9145 asdsdfasdf'))"
   ]
  },
  {
   "cell_type": "code",
   "execution_count": 6,
   "id": "86954d95",
   "metadata": {},
   "outputs": [],
   "source": [
    "def extract_all_phone(st):\n",
    "    phone_regex = re.compile(r'\\b\\d{3} \\d{3}-\\d{4}\\b')\n",
    "    return phone_regex.findall(st)"
   ]
  },
  {
   "cell_type": "code",
   "execution_count": 7,
   "id": "e242a3c8",
   "metadata": {},
   "outputs": [
    {
     "name": "stdout",
     "output_type": "stream",
     "text": [
      "['313 549-9145', '597 789-5521']\n"
     ]
    }
   ],
   "source": [
    "print(extract_all_phone(\"my number is 313 549-9145 or call me at 597 789-5521\"))"
   ]
  },
  {
   "cell_type": "code",
   "execution_count": 8,
   "id": "ae135030",
   "metadata": {},
   "outputs": [
    {
     "name": "stdout",
     "output_type": "stream",
     "text": [
      "[]\n"
     ]
    }
   ],
   "source": [
    "print(extract_all_phone(\"my number is 313 549-91\"))"
   ]
  },
  {
   "cell_type": "code",
   "execution_count": 20,
   "id": "11cf4d7b",
   "metadata": {},
   "outputs": [],
   "source": [
    "def is_valid_phone(st):\n",
    "    phone_regex = re.compile(r'\\d{3} \\d{3}-\\d{4}')\n",
    "    match = phone_regex.fullmatch(st)\n",
    "    return bool(match) or False"
   ]
  },
  {
   "cell_type": "code",
   "execution_count": 21,
   "id": "f0afa5a3",
   "metadata": {},
   "outputs": [
    {
     "name": "stdout",
     "output_type": "stream",
     "text": [
      "True\n"
     ]
    }
   ],
   "source": [
    "print(is_valid_phone('453 456-8796'))"
   ]
  },
  {
   "cell_type": "code",
   "execution_count": 22,
   "id": "71aca8d0",
   "metadata": {},
   "outputs": [
    {
     "name": "stdout",
     "output_type": "stream",
     "text": [
      "False\n"
     ]
    }
   ],
   "source": [
    "print(is_valid_phone('453 456-8796 asx'))"
   ]
  },
  {
   "cell_type": "code",
   "execution_count": 19,
   "id": "20c9e500",
   "metadata": {},
   "outputs": [
    {
     "name": "stdout",
     "output_type": "stream",
     "text": [
      "False\n"
     ]
    }
   ],
   "source": [
    "print(is_valid_phone('asdf 453 456-8796 asx'))"
   ]
  },
  {
   "cell_type": "code",
   "execution_count": null,
   "id": "63895eae",
   "metadata": {},
   "outputs": [],
   "source": []
  }
 ],
 "metadata": {
  "kernelspec": {
   "display_name": "Python 3",
   "language": "python",
   "name": "python3"
  },
  "language_info": {
   "codemirror_mode": {
    "name": "ipython",
    "version": 3
   },
   "file_extension": ".py",
   "mimetype": "text/x-python",
   "name": "python",
   "nbconvert_exporter": "python",
   "pygments_lexer": "ipython3",
   "version": "3.8.5"
  }
 },
 "nbformat": 4,
 "nbformat_minor": 5
}
