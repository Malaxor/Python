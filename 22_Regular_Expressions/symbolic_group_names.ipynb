{
 "cells": [
  {
   "cell_type": "code",
   "execution_count": 3,
   "id": "f98c6fa3",
   "metadata": {},
   "outputs": [],
   "source": [
    "import re"
   ]
  },
  {
   "cell_type": "code",
   "execution_count": 4,
   "id": "17e3f9c2",
   "metadata": {},
   "outputs": [],
   "source": [
    "def parse_name(name):\n",
    "    # labelling the second group with a custom name that goes between the brackets: ?P<first>\n",
    "    name_regex = re.compile(r\"(Mr\\.|Mrs\\.|Ms\\.|Mdme\\.) (?P<first>[a-z]+) (?P<last>[a-z]+)\", re.I)\n",
    "    res = name_regex.search(name)\n",
    "    print(res.group('first'))\n",
    "    print(res.group('last'))"
   ]
  },
  {
   "cell_type": "code",
   "execution_count": 5,
   "id": "698d0972",
   "metadata": {},
   "outputs": [
    {
     "name": "stdout",
     "output_type": "stream",
     "text": [
      "Philip\n",
      "Costache\n"
     ]
    }
   ],
   "source": [
    "parse_name('Mr. Philip Costache')"
   ]
  },
  {
   "cell_type": "code",
   "execution_count": 21,
   "id": "bf24ab0b",
   "metadata": {},
   "outputs": [],
   "source": [
    "def parse_date(st):\n",
    "    date_regex = re.compile(r\"(\\d{2})[./,](\\d{2})[./,](\\d{4})\")\n",
    "    res = date_regex.fullmatch(st)\n",
    "    if res:\n",
    "        return { 'd': res.group(1), 'm': res.group(2), 'y': res.group(3) }\n",
    "    return None"
   ]
  },
  {
   "cell_type": "code",
   "execution_count": 22,
   "id": "64cc4eb6",
   "metadata": {},
   "outputs": [
    {
     "data": {
      "text/plain": [
       "{'d': '11', 'm': '11', 'y': '2020'}"
      ]
     },
     "execution_count": 22,
     "metadata": {},
     "output_type": "execute_result"
    }
   ],
   "source": [
    "parse_date('11/11/2020')"
   ]
  },
  {
   "cell_type": "code",
   "execution_count": 23,
   "id": "8964b5e6",
   "metadata": {},
   "outputs": [
    {
     "data": {
      "text/plain": [
       "{'d': '30', 'm': '06', 'y': '2020'}"
      ]
     },
     "execution_count": 23,
     "metadata": {},
     "output_type": "execute_result"
    }
   ],
   "source": [
    "parse_date('30.06.2020')"
   ]
  },
  {
   "cell_type": "code",
   "execution_count": 24,
   "id": "381e3b38",
   "metadata": {},
   "outputs": [
    {
     "data": {
      "text/plain": [
       "{'d': '04', 'm': '03', 'y': '1983'}"
      ]
     },
     "execution_count": 24,
     "metadata": {},
     "output_type": "execute_result"
    }
   ],
   "source": [
    "parse_date('04,03,1983')"
   ]
  },
  {
   "cell_type": "code",
   "execution_count": 25,
   "id": "604f2171",
   "metadata": {},
   "outputs": [],
   "source": [
    "parse_date('04,03,1983asdf')"
   ]
  },
  {
   "cell_type": "code",
   "execution_count": null,
   "id": "16a5a23c",
   "metadata": {},
   "outputs": [],
   "source": []
  }
 ],
 "metadata": {
  "kernelspec": {
   "display_name": "Python 3",
   "language": "python",
   "name": "python3"
  },
  "language_info": {
   "codemirror_mode": {
    "name": "ipython",
    "version": 3
   },
   "file_extension": ".py",
   "mimetype": "text/x-python",
   "name": "python",
   "nbconvert_exporter": "python",
   "pygments_lexer": "ipython3",
   "version": "3.8.5"
  }
 },
 "nbformat": 4,
 "nbformat_minor": 5
}
