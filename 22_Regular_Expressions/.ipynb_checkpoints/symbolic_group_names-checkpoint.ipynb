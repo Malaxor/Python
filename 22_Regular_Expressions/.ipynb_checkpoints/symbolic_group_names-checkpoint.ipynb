{
 "cells": [
  {
   "cell_type": "code",
   "execution_count": 1,
   "id": "1fac4f8b",
   "metadata": {},
   "outputs": [],
   "source": [
    "import re"
   ]
  },
  {
   "cell_type": "code",
   "execution_count": 15,
   "id": "67851e2b",
   "metadata": {},
   "outputs": [],
   "source": [
    "def parse_name(name):\n",
    "    # labelling the second group with a custom name that goes between the brackets: ?P<first>\n",
    "    name_regex = re.compile(r\"(Mr\\.|Mrs\\.|Ms\\.|Mdme\\.) (?P<first>[A-Za-z]+) (?P<last>[A-Za-z]+)\")\n",
    "    res = name_regex.search(name)\n",
    "    print(res.group('first'))"
   ]
  },
  {
   "cell_type": "code",
   "execution_count": 16,
   "id": "26034200",
   "metadata": {},
   "outputs": [
    {
     "name": "stdout",
     "output_type": "stream",
     "text": [
      "Philip\n"
     ]
    }
   ],
   "source": [
    "parse_name('Mr. Philip Costache')"
   ]
  },
  {
   "cell_type": "code",
   "execution_count": null,
   "id": "1b091361",
   "metadata": {},
   "outputs": [],
   "source": []
  }
 ],
 "metadata": {
  "kernelspec": {
   "display_name": "Python 3",
   "language": "python",
   "name": "python3"
  },
  "language_info": {
   "codemirror_mode": {
    "name": "ipython",
    "version": 3
   },
   "file_extension": ".py",
   "mimetype": "text/x-python",
   "name": "python",
   "nbconvert_exporter": "python",
   "pygments_lexer": "ipython3",
   "version": "3.8.5"
  }
 },
 "nbformat": 4,
 "nbformat_minor": 5
}
