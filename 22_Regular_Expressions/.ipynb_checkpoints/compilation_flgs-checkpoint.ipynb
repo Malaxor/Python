{
 "cells": [
  {
   "cell_type": "code",
   "execution_count": 1,
   "id": "4ab982a2",
   "metadata": {},
   "outputs": [],
   "source": [
    "import re"
   ]
  },
  {
   "cell_type": "code",
   "execution_count": 2,
   "id": "6f60b784",
   "metadata": {},
   "outputs": [
    {
     "name": "stdout",
     "output_type": "stream",
     "text": [
      "ThomaS123@Yahoo.com\n",
      "('ThomaS123', 'Yahoo', 'com')\n"
     ]
    }
   ],
   "source": [
    "import re\n",
    "pattern = re.compile(r\"\"\"\n",
    "    ^([a-z0-9_\\.-]+)   #first part of email\n",
    "    @   #single @ sign\n",
    "    ([0-9a-z\\.-]+)   #email provider\n",
    "    \\.   #single period\n",
    "    ([a-z\\.]{2,6})$   #com, org, net, etc.\n",
    "\"\"\", re.X | re.I) # re.x == verbose () # re.I == ignores cases\n",
    "\n",
    "match = pattern.search(\"ThomaS123@Yahoo.com\")\n",
    "print(match.group())\n",
    "print(match.groups())"
   ]
  },
  {
   "cell_type": "code",
   "execution_count": null,
   "id": "c2221b35",
   "metadata": {},
   "outputs": [],
   "source": []
  }
 ],
 "metadata": {
  "kernelspec": {
   "display_name": "Python 3",
   "language": "python",
   "name": "python3"
  },
  "language_info": {
   "codemirror_mode": {
    "name": "ipython",
    "version": 3
   },
   "file_extension": ".py",
   "mimetype": "text/x-python",
   "name": "python",
   "nbconvert_exporter": "python",
   "pygments_lexer": "ipython3",
   "version": "3.8.5"
  }
 },
 "nbformat": 4,
 "nbformat_minor": 5
}
