{
 "cells": [
  {
   "cell_type": "code",
   "execution_count": 1,
   "id": "c308cefb",
   "metadata": {},
   "outputs": [],
   "source": [
    "import re"
   ]
  },
  {
   "cell_type": "code",
   "execution_count": 2,
   "id": "e3b8461d",
   "metadata": {},
   "outputs": [],
   "source": [
    "titles = [\n",
    "    \"Significant Others (1987)\",\n",
    "    \"Tales of the City (1978)\",\n",
    "    \"The Days of Anna Madrigal (2014)\",\n",
    "    \"Mary Ann in Autumn (2010)\",\n",
    "    \"Further Tales of the City (1982)\",\n",
    "    \"Babycakes (1984)\",\n",
    "    \"More Tales of the City (1980)\",\n",
    "    \"Sure of You (1989)\",\n",
    "    \"Michael Tolliver Lives (2007)\"\n",
    "]"
   ]
  },
  {
   "cell_type": "code",
   "execution_count": null,
   "id": "eec60eeb",
   "metadata": {},
   "outputs": [],
   "source": [
    "fixed_titles = []"
   ]
  },
  {
   "cell_type": "code",
   "execution_count": 6,
   "id": "887bc9c5",
   "metadata": {},
   "outputs": [],
   "source": [
    "pattern = re.compile(r\"(^[\\w ]+) \\((\\d{4})\\)\")"
   ]
  },
  {
   "cell_type": "code",
   "execution_count": 7,
   "id": "9eb84636",
   "metadata": {},
   "outputs": [],
   "source": [
    "for book in titles:\n",
    "    res = pattern.sub(\"\\g<2> - \\g<1>\", titles[0])"
   ]
  },
  {
   "cell_type": "code",
   "execution_count": null,
   "id": "506f5744",
   "metadata": {},
   "outputs": [],
   "source": []
  }
 ],
 "metadata": {
  "kernelspec": {
   "display_name": "Python 3",
   "language": "python",
   "name": "python3"
  },
  "language_info": {
   "codemirror_mode": {
    "name": "ipython",
    "version": 3
   },
   "file_extension": ".py",
   "mimetype": "text/x-python",
   "name": "python",
   "nbconvert_exporter": "python",
   "pygments_lexer": "ipython3",
   "version": "3.8.5"
  }
 },
 "nbformat": 4,
 "nbformat_minor": 5
}
