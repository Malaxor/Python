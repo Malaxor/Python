{
 "cells": [
  {
   "cell_type": "code",
   "execution_count": 5,
   "id": "68313c52",
   "metadata": {},
   "outputs": [],
   "source": [
    "import re"
   ]
  },
  {
   "cell_type": "code",
   "execution_count": 6,
   "id": "715eb54c",
   "metadata": {},
   "outputs": [],
   "source": [
    "url_regex = re.compile(r\"(https?)://(www\\.[A-za-z-]{2,256}\\.[a-z]{2,6})([-a-zA-Z0-9@:%_\\+.~#?&//=]*)\")"
   ]
  },
  {
   "cell_type": "code",
   "execution_count": 7,
   "id": "da38c8ee",
   "metadata": {},
   "outputs": [],
   "source": [
    "match = url_regex.search(\"https://www.youtube.com/videos/about/cars/rockets\")"
   ]
  },
  {
   "cell_type": "code",
   "execution_count": 8,
   "id": "d5e54b94",
   "metadata": {},
   "outputs": [
    {
     "data": {
      "text/plain": [
       "'https://www.youtube.com/videos/about/cars/rockets'"
      ]
     },
     "execution_count": 8,
     "metadata": {},
     "output_type": "execute_result"
    }
   ],
   "source": [
    "match.group()"
   ]
  },
  {
   "cell_type": "code",
   "execution_count": 9,
   "id": "076ec5f5",
   "metadata": {},
   "outputs": [
    {
     "data": {
      "text/plain": [
       "('https', 'www.youtube.com', '/videos/about/cars/rockets')"
      ]
     },
     "execution_count": 9,
     "metadata": {},
     "output_type": "execute_result"
    }
   ],
   "source": [
    "match.groups()"
   ]
  },
  {
   "cell_type": "code",
   "execution_count": null,
   "id": "45b0ebe1",
   "metadata": {},
   "outputs": [],
   "source": []
  }
 ],
 "metadata": {
  "kernelspec": {
   "display_name": "Python 3",
   "language": "python",
   "name": "python3"
  },
  "language_info": {
   "codemirror_mode": {
    "name": "ipython",
    "version": 3
   },
   "file_extension": ".py",
   "mimetype": "text/x-python",
   "name": "python",
   "nbconvert_exporter": "python",
   "pygments_lexer": "ipython3",
   "version": "3.8.5"
  }
 },
 "nbformat": 4,
 "nbformat_minor": 5
}
