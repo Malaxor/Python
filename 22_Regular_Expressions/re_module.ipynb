{
 "cells": [
  {
   "cell_type": "code",
   "execution_count": 1,
   "id": "fa002061",
   "metadata": {},
   "outputs": [],
   "source": [
    "# character     # description                      # Example        # Ex. Match\n",
    "# \\d             a digit                            file_\\d\\d         file_25\n",
    "# \\w             letter, digit or underscore        \\w-\\w\\w\\w         A-b_1\n",
    "# \\s             white space                         a\\sb\\sc          a b c\n",
    "# \\D             non-digit                           \\D\\D\\D           ABC\n",
    "# \\W             non-alphanumeric                    \\W\\W\\W\\W\\W       *-+=)\n",
    "# \\S             non-whitespace                      \\S\\S\\S\\S         Yoyo\n",
    "# .              any char except line break"
   ]
  },
  {
   "cell_type": "code",
   "execution_count": 2,
   "id": "965d33e1",
   "metadata": {},
   "outputs": [],
   "source": [
    "# Quantifiers\n",
    "\n",
    "# character     # description                  # Example               # Ex. Match\n",
    "# +              occurs one or more times       Version \\w-\\w+          Version A-b1_1\n",
    "# {3}            occurs exactly 3 times         \\D}{3}                  abc\n",
    "# {2,4}          occurs 2 to 4 times            \\d{2,4}                 123\n",
    "# {3, }          occurs 3 or more               \\w{3, }                 anycharacters\n",
    "# *              occurs 0 or more               A*B*C*                  AAACC\n",
    "# ?              once or none                   plurals?                plural"
   ]
  },
  {
   "cell_type": "code",
   "execution_count": 3,
   "id": "8594c6e9",
   "metadata": {},
   "outputs": [],
   "source": [
    "import re"
   ]
  },
  {
   "cell_type": "code",
   "execution_count": 4,
   "id": "58686169",
   "metadata": {},
   "outputs": [],
   "source": [
    "pattern = re.compile(r\"(\\(\\d{3}\\)|\\d{3}) (\\d{3}-\\d{4})\")"
   ]
  },
  {
   "cell_type": "code",
   "execution_count": 5,
   "id": "33dcfb8a",
   "metadata": {},
   "outputs": [],
   "source": [
    "# search will return only the first match\n",
    "res = pattern.search(\"Call me at 415 555-1234\")"
   ]
  },
  {
   "cell_type": "code",
   "execution_count": 6,
   "id": "1219dad9",
   "metadata": {},
   "outputs": [
    {
     "data": {
      "text/plain": [
       "<re.Match object; span=(11, 23), match='415 555-1234'>"
      ]
     },
     "execution_count": 6,
     "metadata": {},
     "output_type": "execute_result"
    }
   ],
   "source": [
    "res"
   ]
  },
  {
   "cell_type": "code",
   "execution_count": 7,
   "id": "4a4b9f4f",
   "metadata": {},
   "outputs": [
    {
     "data": {
      "text/plain": [
       "'415 555-1234'"
      ]
     },
     "execution_count": 7,
     "metadata": {},
     "output_type": "execute_result"
    }
   ],
   "source": [
    "res.group()"
   ]
  },
  {
   "cell_type": "code",
   "execution_count": 53,
   "id": "0dfdeb02",
   "metadata": {},
   "outputs": [],
   "source": [
    "# returns all groupings\n",
    "res = pattern.findall(\"Call me at 415 555-1234 or (310) 349-1900\")"
   ]
  },
  {
   "cell_type": "code",
   "execution_count": 91,
   "id": "7f5f95cc",
   "metadata": {},
   "outputs": [],
   "source": [
    "# fullmatch matches against the whole string\n",
    "def is_valid_time(st):\n",
    "    pattern = re.compile(r'\\d{1,2}:\\d{2}')\n",
    "    match = pattern.findall(st)\n",
    "    return match"
   ]
  },
  {
   "cell_type": "code",
   "execution_count": 92,
   "id": "07978167",
   "metadata": {},
   "outputs": [
    {
     "name": "stdout",
     "output_type": "stream",
     "text": [
      "['12:13', '03:30']\n"
     ]
    }
   ],
   "source": [
    "print(is_valid_time(\"12:13 03:30\"))"
   ]
  },
  {
   "cell_type": "code",
   "execution_count": 93,
   "id": "0fbb9e7f",
   "metadata": {},
   "outputs": [
    {
     "name": "stdout",
     "output_type": "stream",
     "text": [
      "['1:13']\n"
     ]
    }
   ],
   "source": [
    "print(is_valid_time(\"1:13 asdf\"))"
   ]
  },
  {
   "cell_type": "code",
   "execution_count": null,
   "id": "3e7ae026",
   "metadata": {},
   "outputs": [],
   "source": []
  }
 ],
 "metadata": {
  "kernelspec": {
   "display_name": "Python 3",
   "language": "python",
   "name": "python3"
  },
  "language_info": {
   "codemirror_mode": {
    "name": "ipython",
    "version": 3
   },
   "file_extension": ".py",
   "mimetype": "text/x-python",
   "name": "python",
   "nbconvert_exporter": "python",
   "pygments_lexer": "ipython3",
   "version": "3.8.5"
  }
 },
 "nbformat": 4,
 "nbformat_minor": 5
}
