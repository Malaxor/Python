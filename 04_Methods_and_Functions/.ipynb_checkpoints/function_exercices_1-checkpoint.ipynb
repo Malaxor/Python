{
 "cells": [
  {
   "cell_type": "code",
   "execution_count": 4,
   "metadata": {},
   "outputs": [
    {
     "data": {
      "text/plain": [
       "5"
      ]
     },
     "execution_count": 4,
     "metadata": {},
     "output_type": "execute_result"
    }
   ],
   "source": [
    "# write a function that returns the lesser of two given numbers if both numbers are even ->\n",
    "# ->, but returns the greater if one or both numbers are odd\n",
    "def lesser_of_two_evens(a, b):\n",
    "    if a % 2 == 0 and b % 2 == 0:\n",
    "        return min(a, b)\n",
    "    else:\n",
    "        return max(a, b)\n",
    "    \n",
    "lesser_of_two_evens(2, 5)"
   ]
  },
  {
   "cell_type": "code",
   "execution_count": 1,
   "metadata": {},
   "outputs": [
    {
     "data": {
      "text/plain": [
       "True"
      ]
     },
     "execution_count": 1,
     "metadata": {},
     "output_type": "execute_result"
    }
   ],
   "source": [
    "# write a function that takes in a two-word string and returns True if both words begin with the same letter\n",
    "def animal_crackers(string):\n",
    "    listString = string.lower().split()\n",
    "    \n",
    "    return listString[0][0] == listString[1][0]\n",
    "\n",
    "animal_crackers('Phil Pie')"
   ]
  },
  {
   "cell_type": "code",
   "execution_count": 1,
   "metadata": {},
   "outputs": [],
   "source": [
    "# given two integers, return True if their sum is 20 or if one of the intergers is 20\n",
    "def makes_twenty(n1, n2):\n",
    "    return (n1 + n2 == 20) or (n1 == 20) or (n2 == 20) "
   ]
  },
  {
   "cell_type": "code",
   "execution_count": 2,
   "metadata": {},
   "outputs": [
    {
     "data": {
      "text/plain": [
       "True"
      ]
     },
     "execution_count": 2,
     "metadata": {},
     "output_type": "execute_result"
    }
   ],
   "source": [
    "makes_twenty(10, 10)"
   ]
  }
 ],
 "metadata": {
  "kernelspec": {
   "display_name": "Python 3",
   "language": "python",
   "name": "python3"
  },
  "language_info": {
   "codemirror_mode": {
    "name": "ipython",
    "version": 3
   },
   "file_extension": ".py",
   "mimetype": "text/x-python",
   "name": "python",
   "nbconvert_exporter": "python",
   "pygments_lexer": "ipython3",
   "version": "3.8.5"
  }
 },
 "nbformat": 4,
 "nbformat_minor": 4
}
