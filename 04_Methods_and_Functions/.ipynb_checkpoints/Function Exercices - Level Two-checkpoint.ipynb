{
 "cells": [
  {
   "cell_type": "code",
   "execution_count": null,
   "metadata": {},
   "outputs": [],
   "source": [
    "# given a list of integers, return True if the array contains a 3 next to another 3\n",
    "# solution 1\n",
    "def has_33(nums):\n",
    "    for i in range(0, len(nums) - 1):\n",
    "        if nums[i] == 3 and nums[i + 1] == 3:\n",
    "            return True\n",
    "    return False\n",
    "\n",
    "has_33([1,2,3,4])"
   ]
  },
  {
   "cell_type": "code",
   "execution_count": null,
   "metadata": {},
   "outputs": [],
   "source": [
    "# given a list of integers, return True if the list contains a 3 next to another 3\n",
    "# solution 2\n",
    "def has_33(nums):\n",
    "    for i in range(0, len(nums) - 1):\n",
    "        if num[i:i+2] == [3,3]:\n",
    "            return True\n",
    "    return False"
   ]
  },
  {
   "cell_type": "code",
   "execution_count": null,
   "metadata": {},
   "outputs": [],
   "source": [
    "# given a string, return a string where for every character in the original there are 3 characters\n",
    "def paper_doll(string):\n",
    "    result = ''\n",
    "    \n",
    "    for char in string:\n",
    "        result += char * 3\n",
    "    return result\n",
    "paper_doll('phil')"
   ]
  },
  {
   "cell_type": "code",
   "execution_count": 1,
   "metadata": {},
   "outputs": [
    {
     "data": {
      "text/plain": [
       "15"
      ]
     },
     "execution_count": 1,
     "metadata": {},
     "output_type": "execute_result"
    }
   ],
   "source": [
    "# given three integers between 1 and 11, return their sum if its less than or equal to 21. ->\n",
    "# -> if their sum is between 22 and 31 and there's an 11, reduce the total sum by 10 ->\n",
    "# -> Finally, if the sum (even after, adjustment) exceeds 21, return 'BUST'\n",
    "\n",
    "def blackjack(a,b,c):\n",
    "    if sum([a,b,c]) <= 21:\n",
    "        return sum([a,b,c])\n",
    "    elif 11 in [a,b,c] and sum([a,b,c]) <= 31:\n",
    "        return sum([a,b,c]) - 10\n",
    "    else:\n",
    "        return 'Bust'\n",
    "\n",
    "blackjack(2, 2, 11)"
   ]
  },
  {
   "cell_type": "code",
   "execution_count": 2,
   "metadata": {},
   "outputs": [
    {
     "data": {
      "text/plain": [
       "21"
      ]
     },
     "execution_count": 2,
     "metadata": {},
     "output_type": "execute_result"
    }
   ],
   "source": [
    "blackjack(10, 10, 11)"
   ]
  },
  {
   "cell_type": "code",
   "execution_count": null,
   "metadata": {},
   "outputs": [],
   "source": [
    "# return the sum of the numbers in the array but ignore sections of numbers starting with a 6 and extending to the next 9 ->\n",
    "# -> (every 6 will be followed by at least one 9). Return 0 for no numbers.\n",
    "\n",
    "def summer_69(arr):\n",
    "    total = 0\n",
    "    adding = True\n",
    "    \n",
    "    for num in arr:\n",
    "        while adding:\n",
    "            if num != 6:\n",
    "                total += num\n",
    "                break\n",
    "            else:\n",
    "                adding = False\n",
    "        while not adding:\n",
    "            if num != 9:\n",
    "                break\n",
    "            else:\n",
    "                adding = True\n",
    "                break\n",
    "    \n",
    "    return total"
   ]
  },
  {
   "cell_type": "code",
   "execution_count": null,
   "metadata": {},
   "outputs": [],
   "source": [
    "summer_69([2, 4, 5, 6, 0, 1, 9, 7])"
   ]
  },
  {
   "cell_type": "code",
   "execution_count": null,
   "metadata": {},
   "outputs": [],
   "source": [
    "summer_69([6, 9])"
   ]
  },
  {
   "cell_type": "code",
   "execution_count": null,
   "metadata": {},
   "outputs": [],
   "source": [
    "summer_69([6, 9, 1])"
   ]
  },
  {
   "cell_type": "code",
   "execution_count": null,
   "metadata": {},
   "outputs": [],
   "source": [
    "summer_69([2, 3, 4])"
   ]
  },
  {
   "cell_type": "code",
   "execution_count": null,
   "metadata": {},
   "outputs": [],
   "source": [
    "def maxChar(st):\n",
    "    charMap = {}\n",
    "    charObj = {\n",
    "        \"chars\": [],\n",
    "        \"eachCharMax\": 0\n",
    "    }\n",
    "    \n",
    "    for char in st:\n",
    "        if char in charMap:\n",
    "            charMap[char] = charMap[char] + 1\n",
    "        else:\n",
    "            charMap[char] = 1\n",
    "    \n",
    "    charObj['eachCharMax'] = max(charMap.values())\n",
    "    charObj['chars'] = list(filter(lambda key: charMap[key] == charObj['eachCharMax'], charMap.keys()))\n",
    "    \n",
    "    return charObj"
   ]
  },
  {
   "cell_type": "code",
   "execution_count": 4,
   "metadata": {},
   "outputs": [],
   "source": [
    "def maxChar(st):\n",
    "    charObj = {\n",
    "        \"chars\": [],\n",
    "        \"eachCharMax\": 0\n",
    "    }\n",
    "    charMap = { letter: st.count(letter) for letter in st }\n",
    "    \n",
    "    charObj['eachCharMax'] = max(charMap.values())\n",
    "    charObj['chars'] = list(filter(lambda key: charMap[key] == charObj['eachCharMax'], charMap.keys()))\n",
    "    \n",
    "    return charObj"
   ]
  },
  {
   "cell_type": "code",
   "execution_count": 5,
   "metadata": {},
   "outputs": [
    {
     "name": "stdout",
     "output_type": "stream",
     "text": [
      "{'chars': ['p', 'i'], 'eachCharMax': 2}\n"
     ]
    }
   ],
   "source": [
    "print(maxChar('philip'))"
   ]
  }
 ],
 "metadata": {
  "kernelspec": {
   "display_name": "Python 3",
   "language": "python",
   "name": "python3"
  },
  "language_info": {
   "codemirror_mode": {
    "name": "ipython",
    "version": 3
   },
   "file_extension": ".py",
   "mimetype": "text/x-python",
   "name": "python",
   "nbconvert_exporter": "python",
   "pygments_lexer": "ipython3",
   "version": "3.8.5"
  }
 },
 "nbformat": 4,
 "nbformat_minor": 4
}
