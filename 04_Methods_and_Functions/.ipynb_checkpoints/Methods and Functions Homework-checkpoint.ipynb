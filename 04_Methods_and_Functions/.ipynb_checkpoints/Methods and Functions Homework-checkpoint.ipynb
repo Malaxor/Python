{
 "cells": [
  {
   "cell_type": "code",
   "execution_count": 6,
   "metadata": {},
   "outputs": [],
   "source": [
    "# write a function that computes the volume of a sphere give its radius\n",
    "def vol(rad):\n",
    "    return (4 / 3) * (3.14) * (rad ** 3)"
   ]
  },
  {
   "cell_type": "code",
   "execution_count": 6,
   "metadata": {},
   "outputs": [],
   "source": [
    "# wite a funciton that checks if a number is in a given range (inclusive of high and low)\n",
    "def ran_check(num, low, high):\n",
    "    if num in range(low, high + 1):\n",
    "        return (f'{num} is in range of {low} and {high}')\n",
    "    return('not in rage')"
   ]
  },
  {
   "cell_type": "code",
   "execution_count": 10,
   "metadata": {},
   "outputs": [
    {
     "data": {
      "text/plain": [
       "'5 is in range of 2 and 7'"
      ]
     },
     "execution_count": 10,
     "metadata": {},
     "output_type": "execute_result"
    }
   ],
   "source": [
    "ran_check(5, 2, 7)"
   ]
  },
  {
   "cell_type": "code",
   "execution_count": 11,
   "metadata": {},
   "outputs": [
    {
     "data": {
      "text/plain": [
       "'not in rage'"
      ]
     },
     "execution_count": 11,
     "metadata": {},
     "output_type": "execute_result"
    }
   ],
   "source": [
    "ran_check(5, 6, 9)"
   ]
  },
  {
   "cell_type": "code",
   "execution_count": 1,
   "metadata": {},
   "outputs": [
    {
     "name": "stdout",
     "output_type": "stream",
     "text": [
      "Original String: Hello, I'm Philip Alexander Costache, AKA Alex\n",
      "lowercase count: 28\n",
      "uppercase count: 9\n"
     ]
    }
   ],
   "source": [
    "# write a function that accepts a string and calculates the number of lower-case and upper-case letter\n",
    "def up_low(s):\n",
    "    d = {'upper': 0, 'lower': 0}\n",
    "    \n",
    "    for char in s: \n",
    "        if char.isupper():\n",
    "            d['upper'] += 1\n",
    "        elif char.islower():\n",
    "            d['lower'] += 1\n",
    "    \n",
    "    print(f\"Original String: {s}\")\n",
    "    print(f\"lowercase count: {d['lower']}\")\n",
    "    print(f\"uppercase count: {d['upper']}\")\n",
    "\n",
    "up_low(\"Hello, I'm Philip Alexander Costache, AKA Alex\")"
   ]
  },
  {
   "cell_type": "code",
   "execution_count": 25,
   "metadata": {},
   "outputs": [
    {
     "data": {
      "text/plain": [
       "[1, 2, 3, 4, 5]"
      ]
     },
     "execution_count": 25,
     "metadata": {},
     "output_type": "execute_result"
    }
   ],
   "source": [
    "# write a function that takes a list and returns a new list with unique elements of the first list\n",
    "def unique(arr):\n",
    "    unique_arr = []\n",
    "    \n",
    "    for num in arr:\n",
    "        if num not in unique_arr:\n",
    "            unique_arr.append(num)\n",
    "    return unique_arr\n",
    "\n",
    "unique([1,1, 2, 3, 4, 4, 5])"
   ]
  },
  {
   "cell_type": "code",
   "execution_count": 29,
   "metadata": {},
   "outputs": [
    {
     "data": {
      "text/plain": [
       "24"
      ]
     },
     "execution_count": 29,
     "metadata": {},
     "output_type": "execute_result"
    }
   ],
   "source": [
    "# write a function that multiplies all the numbers in a list\n",
    "def multiply(numbers):\n",
    "    total = 1\n",
    "    \n",
    "    for num in numbers:\n",
    "        total *= num\n",
    "    return total\n",
    "\n",
    "multiply([2, 3, 4])"
   ]
  },
  {
   "cell_type": "code",
   "execution_count": 30,
   "metadata": {},
   "outputs": [],
   "source": [
    "# write a function that checks if a word is palindrome"
   ]
  },
  {
   "cell_type": "code",
   "execution_count": 31,
   "metadata": {},
   "outputs": [],
   "source": [
    "def palindrome(st):\n",
    "    st = st.replace(' ', '')\n",
    "    return st == st[::-1]\n"
   ]
  },
  {
   "cell_type": "code",
   "execution_count": 32,
   "metadata": {},
   "outputs": [
    {
     "data": {
      "text/plain": [
       "True"
      ]
     },
     "execution_count": 32,
     "metadata": {},
     "output_type": "execute_result"
    }
   ],
   "source": [
    "palindrome('nurses run')"
   ]
  },
  {
   "cell_type": "code",
   "execution_count": 38,
   "metadata": {},
   "outputs": [
    {
     "data": {
      "text/plain": [
       "True"
      ]
     },
     "execution_count": 38,
     "metadata": {},
     "output_type": "execute_result"
    }
   ],
   "source": [
    "# write a function that checks if a string is pangram or not\n",
    "import string\n",
    "\n",
    "def pangram(st, alphabet=string.ascii_lowercase):\n",
    "    # create a set of the alphabet\n",
    "    alphaset = set(alphabet)\n",
    "    # remove spaces, then lower case the string\n",
    "    st = st.replace(' ', '')\n",
    "    st = st.lower()\n",
    "    # grab all unique letters from the string set()\n",
    "    st = set(st)\n",
    "    return st == alphaset\n",
    "\n",
    "pangram('The quick brown fox jumps over the lazy dog')"
   ]
  },
  {
   "cell_type": "code",
   "execution_count": 39,
   "metadata": {},
   "outputs": [
    {
     "data": {
      "text/plain": [
       "'abcdefghijklmnopqrstuvwxyz'"
      ]
     },
     "execution_count": 39,
     "metadata": {},
     "output_type": "execute_result"
    }
   ],
   "source": [
    "string.ascii_lowercase"
   ]
  }
 ],
 "metadata": {
  "kernelspec": {
   "display_name": "Python 3",
   "language": "python",
   "name": "python3"
  },
  "language_info": {
   "codemirror_mode": {
    "name": "ipython",
    "version": 3
   },
   "file_extension": ".py",
   "mimetype": "text/x-python",
   "name": "python",
   "nbconvert_exporter": "python",
   "pygments_lexer": "ipython3",
   "version": "3.8.5"
  }
 },
 "nbformat": 4,
 "nbformat_minor": 4
}
