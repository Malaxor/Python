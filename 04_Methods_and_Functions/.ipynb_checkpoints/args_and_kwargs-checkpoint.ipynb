{
 "cells": [
  {
   "cell_type": "code",
   "execution_count": 5,
   "metadata": {},
   "outputs": [],
   "source": [
    "def myFunc(a, b, c = 0, d = 0, e = 0):\n",
    "    # returns 5% of the sum of a and b\n",
    "    return sum((a, b, c)) * 0.05"
   ]
  },
  {
   "cell_type": "code",
   "execution_count": 6,
   "metadata": {},
   "outputs": [
    {
     "data": {
      "text/plain": [
       "10.0"
      ]
     },
     "execution_count": 6,
     "metadata": {},
     "output_type": "execute_result"
    }
   ],
   "source": [
    "myFunc(40,60,100,100,3)"
   ]
  },
  {
   "cell_type": "code",
   "execution_count": 1,
   "metadata": {},
   "outputs": [],
   "source": [
    "# star * collects all the arguments into a tupple\n",
    "def myfunc(*args):\n",
    "    return [num for num in args if num % 2 == 0]"
   ]
  },
  {
   "cell_type": "code",
   "execution_count": 17,
   "metadata": {},
   "outputs": [
    {
     "data": {
      "text/plain": [
       "[(40, 60, 100, 1, 34)]"
      ]
     },
     "execution_count": 17,
     "metadata": {},
     "output_type": "execute_result"
    }
   ],
   "source": [
    "myfunc(40, 60, 100, 1, 34)"
   ]
  },
  {
   "cell_type": "code",
   "execution_count": 6,
   "metadata": {},
   "outputs": [],
   "source": [
    "def myfunc(*args):\n",
    "    for item in args:\n",
    "        print(item)"
   ]
  },
  {
   "cell_type": "code",
   "execution_count": 7,
   "metadata": {},
   "outputs": [
    {
     "name": "stdout",
     "output_type": "stream",
     "text": [
      "hello\n",
      "True\n",
      "{'key1': 'val1'}\n",
      "10\n"
     ]
    }
   ],
   "source": [
    "myfunc('hello', True, { 'key1': 'val1' }, 10)"
   ]
  },
  {
   "cell_type": "code",
   "execution_count": 11,
   "metadata": {},
   "outputs": [],
   "source": [
    "# collects all keyword arguments into a dictionary \n",
    "def myfunc(**kwargs):\n",
    "    print(kwargs)\n",
    "    if 'fruit' in kwargs:\n",
    "        print('My fruit of choice is {}'.format(kwargs['fruit']))\n",
    "    else:\n",
    "        print('No fruit here...')"
   ]
  },
  {
   "cell_type": "code",
   "execution_count": 12,
   "metadata": {},
   "outputs": [
    {
     "name": "stdout",
     "output_type": "stream",
     "text": [
      "{'fruit': 'apple', 'veggie': 'lettuce'}\n",
      "My fruit of choice is apple\n"
     ]
    }
   ],
   "source": [
    "myfunc(fruit = 'apple', veggie = 'lettuce')"
   ]
  },
  {
   "cell_type": "code",
   "execution_count": 13,
   "metadata": {},
   "outputs": [],
   "source": [
    "def myfunc(*args, **kwargs):\n",
    "    print('I would like {} {}'.format(args[0], kwargs['food']))"
   ]
  },
  {
   "cell_type": "code",
   "execution_count": 15,
   "metadata": {},
   "outputs": [
    {
     "name": "stdout",
     "output_type": "stream",
     "text": [
      "I would like 10 eggs\n"
     ]
    }
   ],
   "source": [
    "myfunc(10, 20, 30, fruit = 'oranges', food = 'eggs', animal = 'dogs')"
   ]
  },
  {
   "cell_type": "code",
   "execution_count": 4,
   "metadata": {},
   "outputs": [
    {
     "name": "stdout",
     "output_type": "stream",
     "text": [
      "Alex asks what's up brah?\n"
     ]
    }
   ],
   "source": [
    "def special_greeting(**kwargs):\n",
    "    if \"Alex\" in kwargs and kwargs['Alex'] == 'brah':\n",
    "        return \"Alex asks what's up brah?\"\n",
    "    elif 'Alex' in kwargs:\n",
    "        return f\"{kwargs['Alex']}, guy.\"\n",
    "    return 'Who are you?'\n",
    "\n",
    "greet = special_greeting(Alex = 'brah')\n",
    "print(greet)\n",
    "    "
   ]
  },
  {
   "cell_type": "code",
   "execution_count": 6,
   "metadata": {},
   "outputs": [
    {
     "name": "stdout",
     "output_type": "stream",
     "text": [
      "sup, guy.\n"
     ]
    }
   ],
   "source": [
    "greet = special_greeting(Alex = 'sup')\n",
    "print(greet)"
   ]
  },
  {
   "cell_type": "code",
   "execution_count": 7,
   "metadata": {},
   "outputs": [
    {
     "data": {
      "text/plain": [
       "'Who are you?'"
      ]
     },
     "execution_count": 7,
     "metadata": {},
     "output_type": "execute_result"
    }
   ],
   "source": [
    "special_greeting(Charlie = 'yo')"
   ]
  },
  {
   "cell_type": "code",
   "execution_count": null,
   "metadata": {},
   "outputs": [],
   "source": [
    "def calculate(**kwargs):\n",
    "    operation_lookup = {\n",
    "        'add': kwargs.get('first') + kwargs.get('second'),\n",
    "        'subtract': kwargs.get('first') - kwargs.get('second'),\n",
    "        'divide': kwargs.get('first') / kwargs.get('second'),\n",
    "        'multiply': kwargs.get('first') * kwargs.get('second')\n",
    "    }\n",
    "    operation = kwargs['operation']\n",
    "    operation_value = operation_lookup[operation]\n",
    "    print(operation_lookup)\n",
    "    \n",
    "    if kwargs['is_float']:\n",
    "        return \"{} {}\".format(kwargs.get('message','The result is'), float(operation_value))\n",
    "    return\"{} {}\".format(kwargs.get('message','The result is'), int(operation_value))"
   ]
  },
  {
   "cell_type": "code",
   "execution_count": 33,
   "metadata": {},
   "outputs": [],
   "source": [
    "def stuff(*args):\n",
    "    print(a, b, c, d)"
   ]
  },
  {
   "cell_type": "code",
   "execution_count": 34,
   "metadata": {},
   "outputs": [
    {
     "name": "stdout",
     "output_type": "stream",
     "text": [
      "('hello', 'goodbye', 'food', 'stuff')\n"
     ]
    }
   ],
   "source": [
    "stuff('hello', 'goodbye', 'food', 'stuff')"
   ]
  },
  {
   "cell_type": "code",
   "execution_count": 36,
   "metadata": {},
   "outputs": [
    {
     "name": "stdout",
     "output_type": "stream",
     "text": [
      "(1, 2, 3, 4, 'hello')\n"
     ]
    }
   ],
   "source": [
    "stuff(*[1, 2, 3, 4], 'hello')"
   ]
  },
  {
   "cell_type": "code",
   "execution_count": 37,
   "metadata": {},
   "outputs": [],
   "source": [
    "def do_stuff(**kwargs):\n",
    "    print(kwargs)"
   ]
  },
  {
   "cell_type": "code",
   "execution_count": 38,
   "metadata": {},
   "outputs": [
    {
     "name": "stdout",
     "output_type": "stream",
     "text": [
      "{'wave': 'hello', 'eat': 'food'}\n"
     ]
    }
   ],
   "source": [
    "do_stuff(wave = 'hello', eat = 'food')"
   ]
  },
  {
   "cell_type": "code",
   "execution_count": 39,
   "metadata": {},
   "outputs": [],
   "source": [
    "do = {'wave': 'hello', 'eat': 'food'}"
   ]
  },
  {
   "cell_type": "code",
   "execution_count": 41,
   "metadata": {},
   "outputs": [
    {
     "name": "stdout",
     "output_type": "stream",
     "text": [
      "{'wave': 'hello', 'eat': 'food'}\n"
     ]
    }
   ],
   "source": [
    "do_stuff(**do)"
   ]
  },
  {
   "cell_type": "code",
   "execution_count": null,
   "metadata": {},
   "outputs": [],
   "source": []
  }
 ],
 "metadata": {
  "kernelspec": {
   "display_name": "Python 3",
   "language": "python",
   "name": "python3"
  },
  "language_info": {
   "codemirror_mode": {
    "name": "ipython",
    "version": 3
   },
   "file_extension": ".py",
   "mimetype": "text/x-python",
   "name": "python",
   "nbconvert_exporter": "python",
   "pygments_lexer": "ipython3",
   "version": "3.8.5"
  }
 },
 "nbformat": 4,
 "nbformat_minor": 4
}
