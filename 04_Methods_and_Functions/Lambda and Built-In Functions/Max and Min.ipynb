{
 "cells": [
  {
   "cell_type": "code",
   "execution_count": 1,
   "id": "792dd667",
   "metadata": {},
   "outputs": [
    {
     "data": {
      "text/plain": [
       "4"
      ]
     },
     "execution_count": 1,
     "metadata": {},
     "output_type": "execute_result"
    }
   ],
   "source": [
    "# max: returns the largest item in an iterable or the largest of two or more arguments\n",
    "max(1, 2, 3, 4)"
   ]
  },
  {
   "cell_type": "code",
   "execution_count": 2,
   "id": "5b9b162c",
   "metadata": {},
   "outputs": [
    {
     "data": {
      "text/plain": [
       "'p'"
      ]
     },
     "execution_count": 2,
     "metadata": {},
     "output_type": "execute_result"
    }
   ],
   "source": [
    "max('philip')"
   ]
  },
  {
   "cell_type": "code",
   "execution_count": 3,
   "id": "0784d11d",
   "metadata": {},
   "outputs": [
    {
     "data": {
      "text/plain": [
       "'h'"
      ]
     },
     "execution_count": 3,
     "metadata": {},
     "output_type": "execute_result"
    }
   ],
   "source": [
    "min('philip')"
   ]
  },
  {
   "cell_type": "code",
   "execution_count": 4,
   "id": "4cffb832",
   "metadata": {},
   "outputs": [
    {
     "data": {
      "text/plain": [
       "100"
      ]
     },
     "execution_count": 4,
     "metadata": {},
     "output_type": "execute_result"
    }
   ],
   "source": [
    "max([10, 100, 5, 2])"
   ]
  },
  {
   "cell_type": "code",
   "execution_count": 6,
   "id": "2539456b",
   "metadata": {},
   "outputs": [
    {
     "data": {
      "text/plain": [
       "'Arya'"
      ]
     },
     "execution_count": 6,
     "metadata": {},
     "output_type": "execute_result"
    }
   ],
   "source": [
    "names = ['Arya', 'Samson', 'Dora', 'Tim', 'Ollivander']\n",
    "\n",
    "min(names)"
   ]
  },
  {
   "cell_type": "code",
   "execution_count": 7,
   "id": "d941fa4b",
   "metadata": {},
   "outputs": [
    {
     "data": {
      "text/plain": [
       "'Tim'"
      ]
     },
     "execution_count": 7,
     "metadata": {},
     "output_type": "execute_result"
    }
   ],
   "source": [
    "max(names)"
   ]
  },
  {
   "cell_type": "code",
   "execution_count": 8,
   "id": "db0998da",
   "metadata": {},
   "outputs": [
    {
     "data": {
      "text/plain": [
       "3"
      ]
     },
     "execution_count": 8,
     "metadata": {},
     "output_type": "execute_result"
    }
   ],
   "source": [
    "min(len(name) for name in names)"
   ]
  },
  {
   "cell_type": "code",
   "execution_count": 9,
   "id": "40ec84b6",
   "metadata": {},
   "outputs": [
    {
     "data": {
      "text/plain": [
       "10"
      ]
     },
     "execution_count": 9,
     "metadata": {},
     "output_type": "execute_result"
    }
   ],
   "source": [
    "max(len(name) for name in names)"
   ]
  },
  {
   "cell_type": "code",
   "execution_count": 10,
   "id": "968d58d5",
   "metadata": {},
   "outputs": [
    {
     "data": {
      "text/plain": [
       "'Ollivander'"
      ]
     },
     "execution_count": 10,
     "metadata": {},
     "output_type": "execute_result"
    }
   ],
   "source": [
    "max(names, key = lambda n: len(n))"
   ]
  },
  {
   "cell_type": "code",
   "execution_count": 11,
   "id": "d36d73fe",
   "metadata": {},
   "outputs": [
    {
     "data": {
      "text/plain": [
       "'Tim'"
      ]
     },
     "execution_count": 11,
     "metadata": {},
     "output_type": "execute_result"
    }
   ],
   "source": [
    "min(names, key = lambda n: len(n))"
   ]
  },
  {
   "cell_type": "code",
   "execution_count": 12,
   "id": "f16ed4bc",
   "metadata": {},
   "outputs": [
    {
     "data": {
      "text/plain": [
       "{'title': 'happy bday', 'playcount': 1}"
      ]
     },
     "execution_count": 12,
     "metadata": {},
     "output_type": "execute_result"
    }
   ],
   "source": [
    "songs = [\n",
    "    { \"title\": \"happy bday\", \"playcount\": 1 },\n",
    "    { \"title\": \"Survive\", \"playcount\": 6 },\n",
    "    { \"title\": \"YMCA\", \"playcount\": 99 },\n",
    "    { \"title\": \"Toxic\", \"playcount\": 31 }\n",
    "]\n",
    "\n",
    "min(songs, key = lambda song: song['playcount'])"
   ]
  },
  {
   "cell_type": "code",
   "execution_count": 13,
   "id": "b1b6449c",
   "metadata": {},
   "outputs": [
    {
     "data": {
      "text/plain": [
       "{'title': 'YMCA', 'playcount': 99}"
      ]
     },
     "execution_count": 13,
     "metadata": {},
     "output_type": "execute_result"
    }
   ],
   "source": [
    "max(songs, key = lambda song: song['playcount'])"
   ]
  },
  {
   "cell_type": "code",
   "execution_count": null,
   "id": "3331cf27",
   "metadata": {},
   "outputs": [],
   "source": []
  }
 ],
 "metadata": {
  "kernelspec": {
   "display_name": "Python 3",
   "language": "python",
   "name": "python3"
  },
  "language_info": {
   "codemirror_mode": {
    "name": "ipython",
    "version": 3
   },
   "file_extension": ".py",
   "mimetype": "text/x-python",
   "name": "python",
   "nbconvert_exporter": "python",
   "pygments_lexer": "ipython3",
   "version": "3.8.5"
  }
 },
 "nbformat": 4,
 "nbformat_minor": 5
}
