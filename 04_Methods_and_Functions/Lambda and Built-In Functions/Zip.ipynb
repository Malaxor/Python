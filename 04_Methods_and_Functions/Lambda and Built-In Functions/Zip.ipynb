{
 "cells": [
  {
   "cell_type": "code",
   "execution_count": null,
   "id": "cfbcfc05",
   "metadata": {},
   "outputs": [],
   "source": [
    "nums1 = [1, 2, 3, 4, 5]\n",
    "nums2 = [6, 7, 8, 9, 10, 11, 12]"
   ]
  },
  {
   "cell_type": "code",
   "execution_count": null,
   "id": "b20c7ccf",
   "metadata": {},
   "outputs": [],
   "source": [
    "zip(nums1, nums2)"
   ]
  },
  {
   "cell_type": "code",
   "execution_count": null,
   "id": "5af29dd1",
   "metadata": {},
   "outputs": [],
   "source": [
    "list(zip(nums1, nums2))"
   ]
  },
  {
   "cell_type": "code",
   "execution_count": null,
   "id": "f23a940b",
   "metadata": {},
   "outputs": [],
   "source": [
    "dict(zip(nums1, nums2))"
   ]
  },
  {
   "cell_type": "code",
   "execution_count": null,
   "id": "8c93f463",
   "metadata": {},
   "outputs": [],
   "source": [
    "tuple(zip(nums1, nums2))"
   ]
  },
  {
   "cell_type": "code",
   "execution_count": null,
   "id": "1126a783",
   "metadata": {},
   "outputs": [],
   "source": [
    "five_by_two = [(0, 1), (1, 2), (2, 3), (3, 4), (4, 5)]\n",
    "list(zip(*five_by_two))"
   ]
  },
  {
   "cell_type": "code",
   "execution_count": 1,
   "id": "765779fd",
   "metadata": {},
   "outputs": [
    {
     "data": {
      "text/plain": [
       "{'dan': 98, 'ang': 91, 'kate': 78}"
      ]
     },
     "execution_count": 1,
     "metadata": {},
     "output_type": "execute_result"
    }
   ],
   "source": [
    "midterms = [80, 91, 78]\n",
    "finals = [98, 89, 54]\n",
    "students = ['dan', 'ang', 'kate']\n",
    "\n",
    "highest_grades = {student: max(midterm, finals) for (student, midterm, finals) in zip(students, midterms, finals)}\n",
    "highest_grades"
   ]
  },
  {
   "cell_type": "code",
   "execution_count": null,
   "id": "0c687068",
   "metadata": {},
   "outputs": [],
   "source": []
  }
 ],
 "metadata": {
  "kernelspec": {
   "display_name": "Python 3",
   "language": "python",
   "name": "python3"
  },
  "language_info": {
   "codemirror_mode": {
    "name": "ipython",
    "version": 3
   },
   "file_extension": ".py",
   "mimetype": "text/x-python",
   "name": "python",
   "nbconvert_exporter": "python",
   "pygments_lexer": "ipython3",
   "version": "3.8.5"
  }
 },
 "nbformat": 4,
 "nbformat_minor": 5
}
