{
 "cells": [
  {
   "cell_type": "code",
   "execution_count": 2,
   "id": "f89a0fec",
   "metadata": {},
   "outputs": [
    {
     "data": {
      "text/plain": [
       "True"
      ]
     },
     "execution_count": 2,
     "metadata": {},
     "output_type": "execute_result"
    }
   ],
   "source": [
    "# all: returns true if all elements in an iterable are truthy\n",
    "# list brackets are optional\n",
    "\n",
    "people = ['Charlie', 'Casey', 'Cody', 'Carly', 'Cristina']\n",
    "\n",
    "all([name[0] == 'C' for name in people])"
   ]
  },
  {
   "cell_type": "code",
   "execution_count": 4,
   "id": "3a4206cc",
   "metadata": {},
   "outputs": [
    {
     "data": {
      "text/plain": [
       "True"
      ]
     },
     "execution_count": 4,
     "metadata": {},
     "output_type": "execute_result"
    }
   ],
   "source": [
    "# any: returns true if at least one element in an iterable is truthy\n",
    "\n",
    "people = ['Charlie', 'Casey', 'Cody', 'Carly', 'Cristina', 'Philip']\n",
    "\n",
    "any(name[0] == 'P' for name in people)"
   ]
  },
  {
   "cell_type": "code",
   "execution_count": null,
   "id": "208325c6",
   "metadata": {},
   "outputs": [],
   "source": []
  }
 ],
 "metadata": {
  "kernelspec": {
   "display_name": "Python 3",
   "language": "python",
   "name": "python3"
  },
  "language_info": {
   "codemirror_mode": {
    "name": "ipython",
    "version": 3
   },
   "file_extension": ".py",
   "mimetype": "text/x-python",
   "name": "python",
   "nbconvert_exporter": "python",
   "pygments_lexer": "ipython3",
   "version": "3.8.5"
  }
 },
 "nbformat": 4,
 "nbformat_minor": 5
}
