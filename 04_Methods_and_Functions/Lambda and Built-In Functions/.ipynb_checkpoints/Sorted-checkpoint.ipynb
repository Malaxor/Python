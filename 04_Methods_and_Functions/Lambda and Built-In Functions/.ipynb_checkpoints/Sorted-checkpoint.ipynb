{
 "cells": [
  {
   "cell_type": "code",
   "execution_count": 1,
   "id": "099d51f4",
   "metadata": {},
   "outputs": [
    {
     "data": {
      "text/plain": [
       "[1, 3, 5, 10]"
      ]
     },
     "execution_count": 1,
     "metadata": {},
     "output_type": "execute_result"
    }
   ],
   "source": [
    "# sorted works on any iterable\n",
    "nums = [10, 3, 5, 1]\n",
    "# returns a copy of the iterable, leaving the original unchanged\n",
    "sorted(nums)"
   ]
  },
  {
   "cell_type": "code",
   "execution_count": 2,
   "id": "559da0ab",
   "metadata": {},
   "outputs": [
    {
     "data": {
      "text/plain": [
       "[10, 5, 3, 1]"
      ]
     },
     "execution_count": 2,
     "metadata": {},
     "output_type": "execute_result"
    }
   ],
   "source": [
    "sorted(nums, reverse = True)"
   ]
  },
  {
   "cell_type": "code",
   "execution_count": 3,
   "id": "0040e233",
   "metadata": {},
   "outputs": [
    {
     "data": {
      "text/plain": [
       "[{'name': 'Billy', 'age': 20, 'location': 'WI'},\n",
       " {'name': 'Charlie', 'age': 35, 'location': 'HI'},\n",
       " {'name': 'Philip', 'age': 38, 'location': 'MI'}]"
      ]
     },
     "execution_count": 3,
     "metadata": {},
     "output_type": "execute_result"
    }
   ],
   "source": [
    "users = [\n",
    "    { 'name': 'Philip', 'age': 38, \"location\": 'MI' },\n",
    "    { 'name': 'Charlie', 'age': 35, 'location': 'HI' },\n",
    "    { 'name': 'Billy', 'age': 20, 'location': 'WI' }\n",
    "]\n",
    "# sort by user name (ascending)\n",
    "sorted(users, key = lambda user: user['name'])"
   ]
  },
  {
   "cell_type": "code",
   "execution_count": 5,
   "id": "6a08f6bd",
   "metadata": {},
   "outputs": [],
   "source": [
    "nums = [1, 2, 4, 5, 6, 8, 10]"
   ]
  },
  {
   "cell_type": "code",
   "execution_count": 6,
   "id": "ebfd8d5a",
   "metadata": {},
   "outputs": [
    {
     "data": {
      "text/plain": [
       "True"
      ]
     },
     "execution_count": 6,
     "metadata": {},
     "output_type": "execute_result"
    }
   ],
   "source": [
    "2 in nums"
   ]
  },
  {
   "cell_type": "code",
   "execution_count": null,
   "id": "9d123666",
   "metadata": {},
   "outputs": [],
   "source": []
  }
 ],
 "metadata": {
  "kernelspec": {
   "display_name": "Python 3",
   "language": "python",
   "name": "python3"
  },
  "language_info": {
   "codemirror_mode": {
    "name": "ipython",
    "version": 3
   },
   "file_extension": ".py",
   "mimetype": "text/x-python",
   "name": "python",
   "nbconvert_exporter": "python",
   "pygments_lexer": "ipython3",
   "version": "3.8.5"
  }
 },
 "nbformat": 4,
 "nbformat_minor": 5
}
