{
 "cells": [
  {
   "cell_type": "code",
   "execution_count": 2,
   "id": "f89a0fec",
   "metadata": {},
   "outputs": [
    {
     "data": {
      "text/plain": [
       "True"
      ]
     },
     "execution_count": 2,
     "metadata": {},
     "output_type": "execute_result"
    }
   ],
   "source": [
    "# all: returns true if all elements of an iterable are truthy\n",
    "people = ['Charlie', 'Casey', 'Cody', 'Carly', 'Cristina']\n",
    "all([name[0] == 'C' for name in people])"
   ]
  },
  {
   "cell_type": "code",
   "execution_count": null,
   "id": "405691c8",
   "metadata": {},
   "outputs": [],
   "source": [
    "# any: returns true if at least one element of an iterable is truthy\n",
    "people = ['Charlie', 'Casey', 'Cody', 'Carly', 'Cristina', 'Philip']"
   ]
  }
 ],
 "metadata": {
  "kernelspec": {
   "display_name": "Python 3",
   "language": "python",
   "name": "python3"
  },
  "language_info": {
   "codemirror_mode": {
    "name": "ipython",
    "version": 3
   },
   "file_extension": ".py",
   "mimetype": "text/x-python",
   "name": "python",
   "nbconvert_exporter": "python",
   "pygments_lexer": "ipython3",
   "version": "3.8.5"
  }
 },
 "nbformat": 4,
 "nbformat_minor": 5
}
