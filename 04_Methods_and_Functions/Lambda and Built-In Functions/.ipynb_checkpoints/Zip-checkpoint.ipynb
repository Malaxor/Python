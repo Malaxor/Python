{
 "cells": [
  {
   "cell_type": "code",
   "execution_count": 1,
   "id": "32cf325e",
   "metadata": {},
   "outputs": [],
   "source": [
    "nums1 = [1, 2, 3, 4, 5]\n",
    "nums2 = [6, 7, 8, 9, 10, 11, 12]"
   ]
  },
  {
   "cell_type": "code",
   "execution_count": 2,
   "id": "f8731cd9",
   "metadata": {},
   "outputs": [
    {
     "data": {
      "text/plain": [
       "<zip at 0x1c78de36540>"
      ]
     },
     "execution_count": 2,
     "metadata": {},
     "output_type": "execute_result"
    }
   ],
   "source": [
    "zip(nums1, nums2)"
   ]
  },
  {
   "cell_type": "code",
   "execution_count": 3,
   "id": "14f6fcb5",
   "metadata": {},
   "outputs": [
    {
     "data": {
      "text/plain": [
       "[(1, 6), (2, 7), (3, 8), (4, 9), (5, 10)]"
      ]
     },
     "execution_count": 3,
     "metadata": {},
     "output_type": "execute_result"
    }
   ],
   "source": [
    "list(zip(nums1, nums2))"
   ]
  },
  {
   "cell_type": "code",
   "execution_count": 4,
   "id": "607be7da",
   "metadata": {},
   "outputs": [
    {
     "data": {
      "text/plain": [
       "{1: 6, 2: 7, 3: 8, 4: 9, 5: 10}"
      ]
     },
     "execution_count": 4,
     "metadata": {},
     "output_type": "execute_result"
    }
   ],
   "source": [
    "dict(zip(nums1, nums2))"
   ]
  },
  {
   "cell_type": "code",
   "execution_count": 5,
   "id": "45175b75",
   "metadata": {},
   "outputs": [
    {
     "data": {
      "text/plain": [
       "((1, 6), (2, 7), (3, 8), (4, 9), (5, 10))"
      ]
     },
     "execution_count": 5,
     "metadata": {},
     "output_type": "execute_result"
    }
   ],
   "source": [
    "tuple(zip(nums1, nums2))"
   ]
  },
  {
   "cell_type": "code",
   "execution_count": 6,
   "id": "eb495354",
   "metadata": {},
   "outputs": [
    {
     "data": {
      "text/plain": [
       "[(0, 1, 2, 3, 4), (1, 2, 3, 4, 5)]"
      ]
     },
     "execution_count": 6,
     "metadata": {},
     "output_type": "execute_result"
    }
   ],
   "source": [
    "five_by_two = [(0, 1), (1, 2), (2, 3), (3, 4), (4, 5)]\n",
    "list(zip(*five_by_two))"
   ]
  },
  {
   "cell_type": "code",
   "execution_count": 13,
   "id": "827a1805",
   "metadata": {},
   "outputs": [],
   "source": [
    "midterms = [80, 91, 78]\n",
    "finals = [98, 89, 54]\n",
    "students = ['dan', 'ang', 'kate']\n",
    "\n",
    "highest_grades = {student: max(midterm, finals) for (student, midterm, finals) in zip(students, midterms, finals)}\n"
   ]
  },
  {
   "cell_type": "code",
   "execution_count": null,
   "id": "1202550f",
   "metadata": {},
   "outputs": [],
   "source": []
  }
 ],
 "metadata": {
  "kernelspec": {
   "display_name": "Python 3",
   "language": "python",
   "name": "python3"
  },
  "language_info": {
   "codemirror_mode": {
    "name": "ipython",
    "version": 3
   },
   "file_extension": ".py",
   "mimetype": "text/x-python",
   "name": "python",
   "nbconvert_exporter": "python",
   "pygments_lexer": "ipython3",
   "version": "3.8.5"
  }
 },
 "nbformat": 4,
 "nbformat_minor": 5
}
