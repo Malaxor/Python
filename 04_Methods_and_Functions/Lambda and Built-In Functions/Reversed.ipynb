{
 "cells": [
  {
   "cell_type": "code",
   "execution_count": 1,
   "id": "775efc58",
   "metadata": {},
   "outputs": [],
   "source": [
    "me = 'philip'"
   ]
  },
  {
   "cell_type": "code",
   "execution_count": 2,
   "id": "8de64669",
   "metadata": {},
   "outputs": [
    {
     "data": {
      "text/plain": [
       "<reversed at 0x1c7ff791e20>"
      ]
     },
     "execution_count": 2,
     "metadata": {},
     "output_type": "execute_result"
    }
   ],
   "source": [
    "# reversed takes in any iterable and returns an interator object\n",
    "reversed(me)"
   ]
  },
  {
   "cell_type": "code",
   "execution_count": 3,
   "id": "fdd7288c",
   "metadata": {},
   "outputs": [
    {
     "data": {
      "text/plain": [
       "('p', 'i', 'l', 'i', 'h', 'p')"
      ]
     },
     "execution_count": 3,
     "metadata": {},
     "output_type": "execute_result"
    }
   ],
   "source": [
    "tuple(reversed(me))"
   ]
  },
  {
   "cell_type": "code",
   "execution_count": 4,
   "id": "1c199fdd",
   "metadata": {},
   "outputs": [
    {
     "name": "stdout",
     "output_type": "stream",
     "text": [
      "p\n",
      "i\n",
      "l\n",
      "i\n",
      "h\n",
      "p\n"
     ]
    }
   ],
   "source": [
    "for char in reversed(me):\n",
    "    print(char)"
   ]
  },
  {
   "cell_type": "code",
   "execution_count": null,
   "id": "01aef501",
   "metadata": {},
   "outputs": [],
   "source": []
  }
 ],
 "metadata": {
  "kernelspec": {
   "display_name": "Python 3",
   "language": "python",
   "name": "python3"
  },
  "language_info": {
   "codemirror_mode": {
    "name": "ipython",
    "version": 3
   },
   "file_extension": ".py",
   "mimetype": "text/x-python",
   "name": "python",
   "nbconvert_exporter": "python",
   "pygments_lexer": "ipython3",
   "version": "3.8.5"
  }
 },
 "nbformat": 4,
 "nbformat_minor": 5
}
