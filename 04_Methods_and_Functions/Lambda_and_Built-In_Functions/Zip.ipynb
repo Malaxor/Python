{
 "cells": [
  {
   "cell_type": "code",
   "execution_count": 1,
   "id": "cfbcfc05",
   "metadata": {},
   "outputs": [],
   "source": [
    "nums1 = [1, 2, 3, 4, 5]\n",
    "nums2 = [6, 7, 8, 9, 10, 11, 12]"
   ]
  },
  {
   "cell_type": "code",
   "execution_count": 2,
   "id": "b20c7ccf",
   "metadata": {},
   "outputs": [
    {
     "data": {
      "text/plain": [
       "<zip at 0x2b934ea40c0>"
      ]
     },
     "execution_count": 2,
     "metadata": {},
     "output_type": "execute_result"
    }
   ],
   "source": [
    "zip(nums1, nums2)"
   ]
  },
  {
   "cell_type": "code",
   "execution_count": 3,
   "id": "6d490af5",
   "metadata": {},
   "outputs": [
    {
     "data": {
      "text/plain": [
       "('1a', '2b', '3c')"
      ]
     },
     "execution_count": 3,
     "metadata": {},
     "output_type": "execute_result"
    }
   ],
   "source": [
    "tuple((\"\".join(x) for x in zip('123', 'abc')))"
   ]
  },
  {
   "cell_type": "code",
   "execution_count": 4,
   "id": "5af29dd1",
   "metadata": {},
   "outputs": [
    {
     "data": {
      "text/plain": [
       "[(1, 6), (2, 7), (3, 8), (4, 9), (5, 10)]"
      ]
     },
     "execution_count": 4,
     "metadata": {},
     "output_type": "execute_result"
    }
   ],
   "source": [
    "list(zip(nums1, nums2))"
   ]
  },
  {
   "cell_type": "code",
   "execution_count": 5,
   "id": "f23a940b",
   "metadata": {},
   "outputs": [
    {
     "data": {
      "text/plain": [
       "{1: 6, 2: 7, 3: 8, 4: 9, 5: 10}"
      ]
     },
     "execution_count": 5,
     "metadata": {},
     "output_type": "execute_result"
    }
   ],
   "source": [
    "dict(zip(nums1, nums2))"
   ]
  },
  {
   "cell_type": "code",
   "execution_count": 6,
   "id": "8c93f463",
   "metadata": {},
   "outputs": [
    {
     "data": {
      "text/plain": [
       "((1, 6), (2, 7), (3, 8), (4, 9), (5, 10))"
      ]
     },
     "execution_count": 6,
     "metadata": {},
     "output_type": "execute_result"
    }
   ],
   "source": [
    "tuple(zip(nums1, nums2))"
   ]
  },
  {
   "cell_type": "code",
   "execution_count": 7,
   "id": "1126a783",
   "metadata": {},
   "outputs": [
    {
     "data": {
      "text/plain": [
       "[(0, 1, 2, 3, 4), (1, 2, 3, 4, 5)]"
      ]
     },
     "execution_count": 7,
     "metadata": {},
     "output_type": "execute_result"
    }
   ],
   "source": [
    "five_by_two = [(0, 1), (1, 2), (2, 3), (3, 4), (4, 5)]\n",
    "list(zip(*five_by_two))"
   ]
  },
  {
   "cell_type": "code",
   "execution_count": 1,
   "id": "765779fd",
   "metadata": {},
   "outputs": [
    {
     "data": {
      "text/plain": [
       "{'dan': 98, 'ang': 91, 'kate': 78}"
      ]
     },
     "execution_count": 1,
     "metadata": {},
     "output_type": "execute_result"
    }
   ],
   "source": [
    "midterms = [80, 91, 78]\n",
    "finals = [98, 89, 54]\n",
    "students = ['dan', 'ang', 'kate']\n",
    "\n",
    "highest_grades = {student: max(midterm, final) for (student, midterm, final) in zip(students, midterms, finals)}\n",
    "highest_grades"
   ]
  },
  {
   "cell_type": "code",
   "execution_count": 9,
   "id": "7ad88708",
   "metadata": {},
   "outputs": [],
   "source": [
    "def inter_leave(s1, s2):\n",
    "    output = ''\n",
    "\n",
    "    for chars in zip(s1, s2):\n",
    "        output += chars[0] + chars[1]\n",
    "    \n",
    "    return output"
   ]
  },
  {
   "cell_type": "code",
   "execution_count": 10,
   "id": "57b0f50f",
   "metadata": {},
   "outputs": [
    {
     "data": {
      "text/plain": [
       "'axbycs'"
      ]
     },
     "execution_count": 10,
     "metadata": {},
     "output_type": "execute_result"
    }
   ],
   "source": [
    "inter_leave('abc', 'xys')"
   ]
  },
  {
   "cell_type": "code",
   "execution_count": 11,
   "id": "5d62ea95",
   "metadata": {},
   "outputs": [
    {
     "data": {
      "text/plain": [
       "(('a', 'x'), ('b', 'y'), ('c', 'z'))"
      ]
     },
     "execution_count": 11,
     "metadata": {},
     "output_type": "execute_result"
    }
   ],
   "source": [
    "tuple(zip('abc', 'xyz'))"
   ]
  },
  {
   "cell_type": "code",
   "execution_count": 12,
   "id": "f5476ed3",
   "metadata": {},
   "outputs": [
    {
     "data": {
      "text/plain": [
       "'axbycz'"
      ]
     },
     "execution_count": 12,
     "metadata": {},
     "output_type": "execute_result"
    }
   ],
   "source": [
    "arr = []\n",
    "\n",
    "for x in zip('abc', 'xyz'):\n",
    "    arr.extend(x)\n",
    "\n",
    "\"\".join(arr)"
   ]
  },
  {
   "cell_type": "code",
   "execution_count": 13,
   "id": "a8fb8918",
   "metadata": {},
   "outputs": [
    {
     "data": {
      "text/plain": [
       "['a', 'x', 'b', 'y', 'c', 'z']"
      ]
     },
     "execution_count": 13,
     "metadata": {},
     "output_type": "execute_result"
    }
   ],
   "source": [
    "arr"
   ]
  },
  {
   "cell_type": "code",
   "execution_count": 14,
   "id": "3a17153b",
   "metadata": {},
   "outputs": [
    {
     "data": {
      "text/plain": [
       "'axbycz'"
      ]
     },
     "execution_count": 14,
     "metadata": {},
     "output_type": "execute_result"
    }
   ],
   "source": [
    "\"\".join((map(lambda x, y: x + y, 'abc', 'xyz')))"
   ]
  },
  {
   "cell_type": "code",
   "execution_count": 15,
   "id": "9eb1ed38",
   "metadata": {},
   "outputs": [
    {
     "data": {
      "text/plain": [
       "'a1b2c3'"
      ]
     },
     "execution_count": 15,
     "metadata": {},
     "output_type": "execute_result"
    }
   ],
   "source": [
    "\"\".join(\"\".join(x) for x in zip('abc', '123'))"
   ]
  }
 ],
 "metadata": {
  "kernelspec": {
   "display_name": "Python 3",
   "language": "python",
   "name": "python3"
  },
  "language_info": {
   "codemirror_mode": {
    "name": "ipython",
    "version": 3
   },
   "file_extension": ".py",
   "mimetype": "text/x-python",
   "name": "python",
   "nbconvert_exporter": "python",
   "pygments_lexer": "ipython3",
   "version": "3.8.5"
  }
 },
 "nbformat": 4,
 "nbformat_minor": 5
}
