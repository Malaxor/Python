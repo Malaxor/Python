{
 "cells": [
  {
   "cell_type": "code",
   "execution_count": null,
   "metadata": {},
   "outputs": [],
   "source": [
    "from IPython.display import clear_output"
   ]
  },
  {
   "cell_type": "code",
   "execution_count": 198,
   "metadata": {},
   "outputs": [],
   "source": [
    "def display_board():\n",
    "    b = ['X'] * 9\n",
    "    \n",
    "    print('    ' + '|   |' + '    ')\n",
    "    print(f'  {b[6]} ' + f'| {b[7]} |' + f' {b[8]}')\n",
    "    print(' ___' + '|___|' + '___ ')\n",
    "    print('    ' + '|   |' + '    ')\n",
    "    print(f'  {b[3]} ' + f'| {b[4]} |' + f' {b[5]}')\n",
    "    print(' ___' + '|___|' + '___ ')\n",
    "    print('    ' + '|   |' + '    ')\n",
    "    print(f'  {b[0]} ' + f'| {b[1]} |' + f' {b[2]}')\n",
    "    print('    ' + '|   |' + '    ')"
   ]
  },
  {
   "cell_type": "code",
   "execution_count": 199,
   "metadata": {},
   "outputs": [
    {
     "name": "stdout",
     "output_type": "stream",
     "text": [
      "    |   |    \n",
      "  X | X | X\n",
      " ___|___|___ \n",
      "    |   |    \n",
      "  X | X | X\n",
      " ___|___|___ \n",
      "    |   |    \n",
      "  X | X | X\n",
      "    |   |    \n"
     ]
    }
   ],
   "source": [
    "display_board()"
   ]
  },
  {
   "cell_type": "code",
   "execution_count": null,
   "metadata": {},
   "outputs": [],
   "source": []
  }
 ],
 "metadata": {
  "kernelspec": {
   "display_name": "Python 3",
   "language": "python",
   "name": "python3"
  },
  "language_info": {
   "codemirror_mode": {
    "name": "ipython",
    "version": 3
   },
   "file_extension": ".py",
   "mimetype": "text/x-python",
   "name": "python",
   "nbconvert_exporter": "python",
   "pygments_lexer": "ipython3",
   "version": "3.8.5"
  }
 },
 "nbformat": 4,
 "nbformat_minor": 4
}
