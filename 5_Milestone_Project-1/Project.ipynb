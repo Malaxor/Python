{
 "cells": [
  {
   "cell_type": "code",
   "execution_count": 1,
   "metadata": {},
   "outputs": [],
   "source": [
    "from IPython.display import clear_output"
   ]
  },
  {
   "cell_type": "code",
   "execution_count": 2,
   "metadata": {},
   "outputs": [],
   "source": [
    "# game board\n",
    "def display_board():\n",
    "    b = [' '] * 10\n",
    "    \n",
    "    print('    ' + '|   |' + '    ')\n",
    "    print(f'  {b[7]} ' + f'| {b[8]} |' + f' {b[9]}')\n",
    "    print('____' + '|___|' + '____')\n",
    "    print('    ' + '|   |' + '    ')\n",
    "    print(f'  {b[4]} ' + f'| {b[5]} |' + f' {b[6]}')\n",
    "    print('____' + '|___|' + '____')\n",
    "    print('    ' + '|   |' + '    ')\n",
    "    print(f'  {b[1]} ' + f'| {b[2]} |' + f' {b[3]}')\n",
    "    print('    ' + '|   |' + '    ')"
   ]
  },
  {
   "cell_type": "code",
   "execution_count": 3,
   "metadata": {},
   "outputs": [
    {
     "name": "stdout",
     "output_type": "stream",
     "text": [
      "    |   |    \n",
      "    |   |  \n",
      "____|___|____\n",
      "    |   |    \n",
      "    |   |  \n",
      "____|___|____\n",
      "    |   |    \n",
      "    |   |  \n",
      "    |   |    \n"
     ]
    }
   ],
   "source": [
    "display_board()"
   ]
  },
  {
   "cell_type": "code",
   "execution_count": 4,
   "metadata": {},
   "outputs": [],
   "source": [
    "# choose to go first (X) or second (O)\n",
    "def choose_turn():\n",
    "    choices = ['X', 'O']\n",
    "    mark = None\n",
    "    \n",
    "    while mark not in choices:\n",
    "        mark = input('Player 1, choose X or O: ')\n",
    "    \n",
    "        if mark == 'X':\n",
    "            return \"Player One will go first!\"\n",
    "        elif mark == 'O':\n",
    "            return \"Player Two will go first!\"\n",
    "        \n",
    "        print('Please choose X or O')"
   ]
  },
  {
   "cell_type": "code",
   "execution_count": 5,
   "metadata": {},
   "outputs": [
    {
     "name": "stdout",
     "output_type": "stream",
     "text": [
      "Player 1, choose X or O: a\n",
      "Please choose X or O\n",
      "Player 1, choose X or O: X\n"
     ]
    },
    {
     "data": {
      "text/plain": [
       "'Player One will go first!'"
      ]
     },
     "execution_count": 5,
     "metadata": {},
     "output_type": "execute_result"
    }
   ],
   "source": [
    "choose_turn()"
   ]
  },
  {
   "cell_type": "code",
   "execution_count": 6,
   "metadata": {},
   "outputs": [
    {
     "name": "stdout",
     "output_type": "stream",
     "text": [
      "Player 1, choose X or O: O\n"
     ]
    },
    {
     "data": {
      "text/plain": [
       "'Player Two will go first!'"
      ]
     },
     "execution_count": 6,
     "metadata": {},
     "output_type": "execute_result"
    }
   ],
   "source": [
    "choose_turn()"
   ]
  },
  {
   "cell_type": "code",
   "execution_count": 7,
   "metadata": {},
   "outputs": [],
   "source": [
    "# ask player if he/she is ready to play\n",
    "def ready_play():\n",
    "    choices = [\"Yes\", \"No\"]\n",
    "    answer = None\n",
    "    \n",
    "    while answer not in choices:\n",
    "        answer = input(\"Are you ready to play (Yes or No)? \")\n",
    "        \n",
    "        if answer == \"Yes\":\n",
    "            return True\n",
    "        elif answer == \"No\":\n",
    "            return False\n",
    "        \n",
    "        print(\"Please enter Yes or No\")"
   ]
  },
  {
   "cell_type": "code",
   "execution_count": 8,
   "metadata": {},
   "outputs": [
    {
     "name": "stdout",
     "output_type": "stream",
     "text": [
      "Are you ready to play (Yes or No)? asdf\n",
      "Please enter Yes or No\n",
      "Are you ready to play (Yes or No)? Yes\n"
     ]
    },
    {
     "data": {
      "text/plain": [
       "True"
      ]
     },
     "execution_count": 8,
     "metadata": {},
     "output_type": "execute_result"
    }
   ],
   "source": [
    "ready_play()"
   ]
  },
  {
   "cell_type": "code",
   "execution_count": 12,
   "metadata": {},
   "outputs": [],
   "source": [
    "def position():\n",
    "    choices = ['1', '2', '3', '4', '5', '6', '7', '8', '9']\n",
    "    \n",
    "    while True:\n",
    "        user_choice = input(\"Pick your square (1 - 9): \")\n",
    "        \n",
    "        if user_choice in choices:\n",
    "            return int(user_choice)\n",
    "        \n",
    "        print('Pick any number 1 - 9') "
   ]
  },
  {
   "cell_type": "code",
   "execution_count": 13,
   "metadata": {},
   "outputs": [
    {
     "name": "stdout",
     "output_type": "stream",
     "text": [
      "Pick your square (1 - 9)d\n",
      "Pick any number 1 - 9\n",
      "Pick your square (1 - 9)0\n",
      "Pick any number 1 - 9\n",
      "Pick your square (1 - 9)1\n"
     ]
    },
    {
     "data": {
      "text/plain": [
       "1"
      ]
     },
     "execution_count": 13,
     "metadata": {},
     "output_type": "execute_result"
    }
   ],
   "source": [
    "position()"
   ]
  },
  {
   "cell_type": "code",
   "execution_count": 9,
   "metadata": {},
   "outputs": [],
   "source": [
    "def tic_tac_toe():\n",
    "    print('Welcome to Tic-Tac-Toe')\n",
    "    print(choose_turn())\n",
    "    \n",
    "    if ready_play():\n",
    "        clear_output()\n",
    "        display_board()\n",
    "    return"
   ]
  },
  {
   "cell_type": "code",
   "execution_count": 10,
   "metadata": {},
   "outputs": [
    {
     "name": "stdout",
     "output_type": "stream",
     "text": [
      "    |   |    \n",
      "    |   |  \n",
      "____|___|____\n",
      "    |   |    \n",
      "    |   |  \n",
      "____|___|____\n",
      "    |   |    \n",
      "    |   |  \n",
      "    |   |    \n"
     ]
    }
   ],
   "source": [
    "tic_tac_toe()"
   ]
  },
  {
   "cell_type": "code",
   "execution_count": null,
   "metadata": {},
   "outputs": [],
   "source": []
  }
 ],
 "metadata": {
  "kernelspec": {
   "display_name": "Python 3",
   "language": "python",
   "name": "python3"
  },
  "language_info": {
   "codemirror_mode": {
    "name": "ipython",
    "version": 3
   },
   "file_extension": ".py",
   "mimetype": "text/x-python",
   "name": "python",
   "nbconvert_exporter": "python",
   "pygments_lexer": "ipython3",
   "version": "3.8.5"
  }
 },
 "nbformat": 4,
 "nbformat_minor": 4
}
