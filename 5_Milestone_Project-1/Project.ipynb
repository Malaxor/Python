{
 "cells": [
  {
   "cell_type": "code",
   "execution_count": 1,
   "metadata": {},
   "outputs": [],
   "source": [
    "from IPython.display import clear_output"
   ]
  },
  {
   "cell_type": "code",
   "execution_count": 2,
   "metadata": {},
   "outputs": [],
   "source": [
    "board = [\" \"] * 10\n",
    "\n",
    "def display_board(board):\n",
    "    clear_output()\n",
    "    print('    ' + '|   |' + '    ')\n",
    "    print(f'  {board[7]} ' + f'| {board[8]} |' + f' {board[9]}')\n",
    "    print('____' + '|___|' + '____')\n",
    "    print('    ' + '|   |' + '    ')\n",
    "    print(f'  {board[4]} ' + f'| {board[5]} |' + f' {board[6]}')\n",
    "    print('____' + '|___|' + '____')\n",
    "    print('    ' + '|   |' + '    ')\n",
    "    print(f'  {board[1]} ' + f'| {board[2]} |' + f' {board[3]}')\n",
    "    print('    ' + '|   |' + '    ')"
   ]
  },
  {
   "cell_type": "code",
   "execution_count": 3,
   "metadata": {},
   "outputs": [
    {
     "name": "stdout",
     "output_type": "stream",
     "text": [
      "    |   |    \n",
      "    |   |  \n",
      "____|___|____\n",
      "    |   |    \n",
      "    |   |  \n",
      "____|___|____\n",
      "    |   |    \n",
      "    |   |  \n",
      "    |   |    \n"
     ]
    }
   ],
   "source": [
    "display_board(board)"
   ]
  },
  {
   "cell_type": "code",
   "execution_count": 4,
   "metadata": {},
   "outputs": [],
   "source": [
    "# choose to go first (X) or second (O)\n",
    "def player_mark():\n",
    "    mark = None\n",
    "    \n",
    "    while mark != 'X' and mark != 'O':\n",
    "        mark = input('Player 1, choose X or O: ').upper()\n",
    "    \n",
    "    if mark == 'X':\n",
    "        return ('X', 'O')\n",
    "    return ('O', 'X')"
   ]
  },
  {
   "cell_type": "code",
   "execution_count": 5,
   "metadata": {},
   "outputs": [
    {
     "name": "stdout",
     "output_type": "stream",
     "text": [
      "Player 1, choose X or O: x\n"
     ]
    }
   ],
   "source": [
    "player1_marker, player2_marker = player_mark()"
   ]
  },
  {
   "cell_type": "code",
   "execution_count": 6,
   "metadata": {},
   "outputs": [
    {
     "data": {
      "text/plain": [
       "'X'"
      ]
     },
     "execution_count": 6,
     "metadata": {},
     "output_type": "execute_result"
    }
   ],
   "source": [
    "player1_marker"
   ]
  },
  {
   "cell_type": "code",
   "execution_count": 7,
   "metadata": {},
   "outputs": [
    {
     "data": {
      "text/plain": [
       "'O'"
      ]
     },
     "execution_count": 7,
     "metadata": {},
     "output_type": "execute_result"
    }
   ],
   "source": [
    "player2_marker"
   ]
  },
  {
   "cell_type": "code",
   "execution_count": 13,
   "metadata": {},
   "outputs": [],
   "source": [
    "# ask player if he/she is ready to play\n",
    "def ready_play():\n",
    "    answer = None\n",
    "    \n",
    "    while not (answer == 'Y' or answer == 'N'):\n",
    "        answer = input(\"Are you ready to play (Y or N)? \").upper()\n",
    "        \n",
    "        if answer == \"Y\":\n",
    "            return True\n",
    "        return False\n",
    "        \n",
    "        print(\"Please enter Y or N\")"
   ]
  },
  {
   "cell_type": "code",
   "execution_count": 15,
   "metadata": {},
   "outputs": [
    {
     "name": "stdout",
     "output_type": "stream",
     "text": [
      "Are you ready to play (Y or N)? y\n"
     ]
    },
    {
     "data": {
      "text/plain": [
       "True"
      ]
     },
     "execution_count": 15,
     "metadata": {},
     "output_type": "execute_result"
    }
   ],
   "source": [
    "ready_play()"
   ]
  },
  {
   "cell_type": "code",
   "execution_count": 9,
   "metadata": {},
   "outputs": [],
   "source": [
    "def place_marker(board, marker, position):\n",
    "    boared[position] = marker"
   ]
  },
  {
   "cell_type": "code",
   "execution_count": 10,
   "metadata": {},
   "outputs": [],
   "source": [
    "# player picks a tic-tac-toe squre\n",
    "# bottom: 1 - 3; middle: 4 - 6; top: 7 - 9\n",
    "def position(player, mark = 'X'):\n",
    "    print(board())\n",
    "    \n",
    "    while True:\n",
    "        choice = input(f\"{player} ({mark}), pick your square (1 - 9): \")\n",
    "        \n",
    "        if choice.isdigit():\n",
    "            if int(choice) in range(1, 10):\n",
    "                return int(choice)\n",
    "        \n",
    "            print(\"That number is out of range (1 - 9)\")\n",
    "            continue\n",
    "        \n",
    "        print(\"That's not a digit...\") "
   ]
  },
  {
   "cell_type": "code",
   "execution_count": 11,
   "metadata": {},
   "outputs": [],
   "source": [
    "def tic_tac_toe():\n",
    "    # player one chooses to go first or second\n",
    "    mark = choose_turn()\n",
    "    win = {          # bottom, # middle, # top\n",
    "        \"horizontal\": [b[1:4], b[4:7], b[7:10]],\n",
    "                    # left, # middle, # right\n",
    "        \"vertical\": [b[1::3], b[2::3], b[3::3]],\n",
    "                    # leaning right diagonal, leaning left diagonal\n",
    "        \"diagonal\": [b[1::4], b[3:9:2]]\n",
    "    }\n",
    "    \n",
    "    # ask user if ready to play\n",
    "    if ready_play():\n",
    "        # when player one goes first\n",
    "        while mark == \"X\":\n",
    "            # player one marks X on a position\n",
    "            square = position('Player 1')\n",
    "            # display board with X on marked position\n",
    "            marked_board(square, mark)\n",
    "            clear_output()\n",
    "            # player two marks O on a position\n",
    "            square = position('Player 2', \"O\")\n",
    "            # display board with O on marked position\n",
    "            marked_board(square, 'O')\n",
    "            # when player one goes second \n",
    "        while mark == \"O\":\n",
    "            # player two marks X on a position\n",
    "            square = position('Player 2')\n",
    "            # display board with X on marked position\n",
    "            marked_board(square, mark)\n",
    "            clear_output()\n",
    "            # player one marks O on a position\n",
    "            square = position('Player 1', mark)\n",
    "            # display board with O on marked position\n",
    "            marked_board(square, 'X')\n",
    "    return"
   ]
  },
  {
   "cell_type": "code",
   "execution_count": 12,
   "metadata": {},
   "outputs": [
    {
     "ename": "NameError",
     "evalue": "name 'choose_turn' is not defined",
     "output_type": "error",
     "traceback": [
      "\u001b[1;31m---------------------------------------------------------------------------\u001b[0m",
      "\u001b[1;31mNameError\u001b[0m                                 Traceback (most recent call last)",
      "\u001b[1;32m<ipython-input-12-d5912735471a>\u001b[0m in \u001b[0;36m<module>\u001b[1;34m\u001b[0m\n\u001b[1;32m----> 1\u001b[1;33m \u001b[0mtic_tac_toe\u001b[0m\u001b[1;33m(\u001b[0m\u001b[1;33m)\u001b[0m\u001b[1;33m\u001b[0m\u001b[1;33m\u001b[0m\u001b[0m\n\u001b[0m",
      "\u001b[1;32m<ipython-input-11-c5cd1d5d1211>\u001b[0m in \u001b[0;36mtic_tac_toe\u001b[1;34m()\u001b[0m\n\u001b[0;32m      1\u001b[0m \u001b[1;32mdef\u001b[0m \u001b[0mtic_tac_toe\u001b[0m\u001b[1;33m(\u001b[0m\u001b[1;33m)\u001b[0m\u001b[1;33m:\u001b[0m\u001b[1;33m\u001b[0m\u001b[1;33m\u001b[0m\u001b[0m\n\u001b[0;32m      2\u001b[0m     \u001b[1;31m# player one chooses to go first or second\u001b[0m\u001b[1;33m\u001b[0m\u001b[1;33m\u001b[0m\u001b[1;33m\u001b[0m\u001b[0m\n\u001b[1;32m----> 3\u001b[1;33m     \u001b[0mmark\u001b[0m \u001b[1;33m=\u001b[0m \u001b[0mchoose_turn\u001b[0m\u001b[1;33m(\u001b[0m\u001b[1;33m)\u001b[0m\u001b[1;33m\u001b[0m\u001b[1;33m\u001b[0m\u001b[0m\n\u001b[0m\u001b[0;32m      4\u001b[0m     win = {          # bottom, # middle, # top\n\u001b[0;32m      5\u001b[0m         \u001b[1;34m\"horizontal\"\u001b[0m\u001b[1;33m:\u001b[0m \u001b[1;33m[\u001b[0m\u001b[0mb\u001b[0m\u001b[1;33m[\u001b[0m\u001b[1;36m1\u001b[0m\u001b[1;33m:\u001b[0m\u001b[1;36m4\u001b[0m\u001b[1;33m]\u001b[0m\u001b[1;33m,\u001b[0m \u001b[0mb\u001b[0m\u001b[1;33m[\u001b[0m\u001b[1;36m4\u001b[0m\u001b[1;33m:\u001b[0m\u001b[1;36m7\u001b[0m\u001b[1;33m]\u001b[0m\u001b[1;33m,\u001b[0m \u001b[0mb\u001b[0m\u001b[1;33m[\u001b[0m\u001b[1;36m7\u001b[0m\u001b[1;33m:\u001b[0m\u001b[1;36m10\u001b[0m\u001b[1;33m]\u001b[0m\u001b[1;33m]\u001b[0m\u001b[1;33m,\u001b[0m\u001b[1;33m\u001b[0m\u001b[1;33m\u001b[0m\u001b[0m\n",
      "\u001b[1;31mNameError\u001b[0m: name 'choose_turn' is not defined"
     ]
    }
   ],
   "source": [
    "tic_tac_toe()"
   ]
  },
  {
   "cell_type": "code",
   "execution_count": null,
   "metadata": {},
   "outputs": [],
   "source": [
    "board()"
   ]
  }
 ],
 "metadata": {
  "kernelspec": {
   "display_name": "Python 3",
   "language": "python",
   "name": "python3"
  },
  "language_info": {
   "codemirror_mode": {
    "name": "ipython",
    "version": 3
   },
   "file_extension": ".py",
   "mimetype": "text/x-python",
   "name": "python",
   "nbconvert_exporter": "python",
   "pygments_lexer": "ipython3",
   "version": "3.8.5"
  }
 },
 "nbformat": 4,
 "nbformat_minor": 4
}
