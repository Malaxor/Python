{
 "cells": [
  {
   "cell_type": "code",
   "execution_count": 1,
   "metadata": {},
   "outputs": [],
   "source": [
    "from IPython.display import clear_output"
   ]
  },
  {
   "cell_type": "code",
   "execution_count": 2,
   "metadata": {},
   "outputs": [],
   "source": [
    "def display_board():\n",
    "    b = ['X'] * 10\n",
    "    \n",
    "    print('    ' + '|   |' + '    ')\n",
    "    print(f'  {b[7]} ' + f'| {b[8]} |' + f' {b[9]}')\n",
    "    print('____' + '|___|' + '____')\n",
    "    print('    ' + '|   |' + '    ')\n",
    "    print(f'  {b[4]} ' + f'| {b[5]} |' + f' {b[6]}')\n",
    "    print('____' + '|___|' + '____')\n",
    "    print('    ' + '|   |' + '    ')\n",
    "    print(f'  {b[1]} ' + f'| {b[2]} |' + f' {b[3]}')\n",
    "    print('    ' + '|   |' + '    ')"
   ]
  },
  {
   "cell_type": "code",
   "execution_count": 3,
   "metadata": {},
   "outputs": [
    {
     "name": "stdout",
     "output_type": "stream",
     "text": [
      "    |   |    \n",
      "  X | X | X\n",
      "____|___|____\n",
      "    |   |    \n",
      "  X | X | X\n",
      "____|___|____\n",
      "    |   |    \n",
      "  X | X | X\n",
      "    |   |    \n"
     ]
    }
   ],
   "source": [
    "display_board()"
   ]
  },
  {
   "cell_type": "code",
   "execution_count": 13,
   "metadata": {},
   "outputs": [],
   "source": [
    "def choose_turn():\n",
    "    choices = ['X', 'O']\n",
    "    mark = None\n",
    "    \n",
    "    while mark not in choices:\n",
    "        mark = input('Player 1, choose X or O: ')\n",
    "\n",
    "        if mark == 'X':\n",
    "            return \"Player One will go first!\"\n",
    "        elif mark == 'O':\n",
    "            return \"Player Two will go first!\"\n",
    "        \n",
    "        print('Please choose X or O')\n",
    "        continue"
   ]
  },
  {
   "cell_type": "code",
   "execution_count": null,
   "metadata": {},
   "outputs": [
    {
     "name": "stdout",
     "output_type": "stream",
     "text": [
      "Player 1, choose X or O: df\n",
      "Please choose X or O\n",
      "Player 1, choose X or O: x\n",
      "Please choose X or O\n"
     ]
    }
   ],
   "source": [
    "choose_turn()"
   ]
  },
  {
   "cell_type": "code",
   "execution_count": null,
   "metadata": {},
   "outputs": [],
   "source": []
  }
 ],
 "metadata": {
  "kernelspec": {
   "display_name": "Python 3",
   "language": "python",
   "name": "python3"
  },
  "language_info": {
   "codemirror_mode": {
    "name": "ipython",
    "version": 3
   },
   "file_extension": ".py",
   "mimetype": "text/x-python",
   "name": "python",
   "nbconvert_exporter": "python",
   "pygments_lexer": "ipython3",
   "version": "3.8.5"
  }
 },
 "nbformat": 4,
 "nbformat_minor": 4
}
