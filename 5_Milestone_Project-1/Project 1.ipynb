{
 "cells": [
  {
   "cell_type": "code",
   "execution_count": null,
   "metadata": {},
   "outputs": [],
   "source": [
    "from IPython.display import clear_output"
   ]
  },
  {
   "cell_type": "code",
   "execution_count": null,
   "metadata": {},
   "outputs": [],
   "source": [
    "board = [\" \"] * 10\n",
    "\n",
    "def display_board(board):\n",
    "    clear_output()\n",
    "    print('    ' + '|   |' + '    ')\n",
    "    print(f'  {board[7]} ' + f'| {board[8]} |' + f' {board[9]}')\n",
    "    print('____' + '|___|' + '____')\n",
    "    print('    ' + '|   |' + '    ')\n",
    "    print(f'  {board[4]} ' + f'| {board[5]} |' + f' {board[6]}')\n",
    "    print('____' + '|___|' + '____')\n",
    "    print('    ' + '|   |' + '    ')\n",
    "    print(f'  {board[1]} ' + f'| {board[2]} |' + f' {board[3]}')\n",
    "    print('    ' + '|   |' + '    ')"
   ]
  },
  {
   "cell_type": "code",
   "execution_count": null,
   "metadata": {},
   "outputs": [],
   "source": [
    "display_board(board)"
   ]
  },
  {
   "cell_type": "code",
   "execution_count": null,
   "metadata": {},
   "outputs": [],
   "source": [
    "# choose to go first (X) or second (O)\n",
    "def player_mark():\n",
    "    '''\n",
    "    Output = (player 1 marker, player 2 marker)\n",
    "    '''\n",
    "    mark = None\n",
    "    \n",
    "    while mark != 'X' and mark != 'O':\n",
    "        mark = input('Player 1, choose X or O: ').upper()\n",
    "    \n",
    "    if mark == 'X':\n",
    "        return ('X', 'O')\n",
    "    return ('O', 'X')"
   ]
  },
  {
   "cell_type": "code",
   "execution_count": null,
   "metadata": {},
   "outputs": [],
   "source": [
    "player1_marker, player2_marker = player_mark()"
   ]
  },
  {
   "cell_type": "code",
   "execution_count": null,
   "metadata": {},
   "outputs": [],
   "source": [
    "player1_marker"
   ]
  },
  {
   "cell_type": "code",
   "execution_count": null,
   "metadata": {},
   "outputs": [],
   "source": [
    "player2_marker"
   ]
  },
  {
   "cell_type": "code",
   "execution_count": null,
   "metadata": {},
   "outputs": [],
   "source": [
    "# ask player if he/she is ready to play\n",
    "def ready_play():\n",
    "    answer = None\n",
    "    \n",
    "    while not (answer == 'Y' or answer == 'N'):\n",
    "        answer = input(\"Are you ready to play (Y or N)? \").upper()\n",
    "        \n",
    "    if answer == \"Y\":\n",
    "        return True\n",
    "    return False"
   ]
  },
  {
   "cell_type": "code",
   "execution_count": null,
   "metadata": {},
   "outputs": [],
   "source": [
    "ready_play()"
   ]
  },
  {
   "cell_type": "code",
   "execution_count": 5,
   "metadata": {},
   "outputs": [],
   "source": [
    "# write a function that uses the random module to randomly decide which player goes first\n",
    "import random\n",
    "\n",
    "def choose_first():\n",
    "    flip = random.randint(0, 1)\n",
    "    \n",
    "    if flip == 0:\n",
    "        return 'Player 1'\n",
    "    return 'Player 2'"
   ]
  },
  {
   "cell_type": "code",
   "execution_count": 8,
   "metadata": {},
   "outputs": [
    {
     "data": {
      "text/plain": [
       "'Player 2'"
      ]
     },
     "execution_count": 8,
     "metadata": {},
     "output_type": "execute_result"
    }
   ],
   "source": [
    "choose_first()"
   ]
  },
  {
   "cell_type": "code",
   "execution_count": 11,
   "metadata": {},
   "outputs": [],
   "source": [
    "# write a function that returns a boolean indicating whether a space on the board if freely available\n",
    "def space_check(board, position):\n",
    "    return board[position] == \" \""
   ]
  },
  {
   "cell_type": "code",
   "execution_count": null,
   "metadata": {},
   "outputs": [],
   "source": [
    "# write a function that checks if the board is full, returning a boolean.\n",
    "def full_board_check(board):\n",
    "    \n",
    "    for i in range (1, 10):\n",
    "        space_check(board, i)"
   ]
  },
  {
   "cell_type": "code",
   "execution_count": null,
   "metadata": {},
   "outputs": [],
   "source": [
    "# write a function that asks for a player's next position (number 1 - 9), and then uses the space_check function. \n",
    "def player_choice(board):\n",
    "    position = 0\n",
    "    \n",
    "    while position not in range(1, 10) or not space_check(board, position):\n",
    "        position = int(input('Choose a position (1 - 9): '))\n",
    "    return position"
   ]
  },
  {
   "cell_type": "code",
   "execution_count": null,
   "metadata": {},
   "outputs": [],
   "source": [
    "def place_marker(board, mark, position):\n",
    "    board[position] = mark"
   ]
  },
  {
   "cell_type": "code",
   "execution_count": null,
   "metadata": {},
   "outputs": [],
   "source": [
    "# write a function that asks if they want to play again\n",
    "def replay():\n",
    "    choice = input('Play again? (Yes or No): ')\n",
    "    return choice == 'Yes'"
   ]
  },
  {
   "cell_type": "code",
   "execution_count": null,
   "metadata": {},
   "outputs": [],
   "source": [
    "place_marker(board, '$', 1)"
   ]
  },
  {
   "cell_type": "code",
   "execution_count": null,
   "metadata": {},
   "outputs": [],
   "source": [
    "display_board(board)"
   ]
  },
  {
   "cell_type": "code",
   "execution_count": null,
   "metadata": {},
   "outputs": [],
   "source": [
    "def win_check(board, mark):\n",
    "    # bottom row\n",
    "    return (board[1] == board[2] == board[3] == mark or\n",
    "    # middle row\n",
    "    board[4] == board[5] == board[6] == mark or\n",
    "    # top row\n",
    "    board[7] == board[8] == board[9] == mark or\n",
    "    # left column\n",
    "    board[1] == board[4] == board[7] == mark or      \n",
    "    # middle column\n",
    "    board[2] == board[5] == board[8] == mark or\n",
    "    # right column\n",
    "    board[3] == board[6] == board[9] == mark or\n",
    "    # diagonal right \n",
    "    board[1] == board[5] == board[9] == mark or\n",
    "    # diagonal left        \n",
    "    board[3] == board[5] == board[7] == mark)"
   ]
  }
 ],
 "metadata": {
  "kernelspec": {
   "display_name": "Python 3",
   "language": "python",
   "name": "python3"
  },
  "language_info": {
   "codemirror_mode": {
    "name": "ipython",
    "version": 3
   },
   "file_extension": ".py",
   "mimetype": "text/x-python",
   "name": "python",
   "nbconvert_exporter": "python",
   "pygments_lexer": "ipython3",
   "version": "3.8.5"
  }
 },
 "nbformat": 4,
 "nbformat_minor": 4
}
