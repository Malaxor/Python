{
 "cells": [
  {
   "cell_type": "code",
   "execution_count": 1,
   "metadata": {},
   "outputs": [],
   "source": [
    "from IPython.display import clear_output"
   ]
  },
  {
   "cell_type": "code",
   "execution_count": 2,
   "metadata": {},
   "outputs": [],
   "source": [
    "board = [\" \"] * 10\n",
    "\n",
    "def display_board(board):\n",
    "    clear_output()\n",
    "    print('    ' + '|   |' + '    ')\n",
    "    print(f'  {board[7]} ' + f'| {board[8]} |' + f' {board[9]}')\n",
    "    print('____' + '|___|' + '____')\n",
    "    print('    ' + '|   |' + '    ')\n",
    "    print(f'  {board[4]} ' + f'| {board[5]} |' + f' {board[6]}')\n",
    "    print('____' + '|___|' + '____')\n",
    "    print('    ' + '|   |' + '    ')\n",
    "    print(f'  {board[1]} ' + f'| {board[2]} |' + f' {board[3]}')\n",
    "    print('    ' + '|   |' + '    ')"
   ]
  },
  {
   "cell_type": "code",
   "execution_count": 3,
   "metadata": {},
   "outputs": [
    {
     "name": "stdout",
     "output_type": "stream",
     "text": [
      "    |   |    \n",
      "    |   |  \n",
      "____|___|____\n",
      "    |   |    \n",
      "    |   |  \n",
      "____|___|____\n",
      "    |   |    \n",
      "    |   |  \n",
      "    |   |    \n"
     ]
    }
   ],
   "source": [
    "display_board(board)"
   ]
  },
  {
   "cell_type": "code",
   "execution_count": 4,
   "metadata": {},
   "outputs": [],
   "source": [
    "# choose to go first (X) or second (O)\n",
    "def player_mark():\n",
    "    '''\n",
    "    Output = (player 1 marker, player 2 marker)\n",
    "    '''\n",
    "    mark = None\n",
    "    \n",
    "    while mark != 'X' and mark != 'O':\n",
    "        mark = input('Player 1, choose X or O: ').upper()\n",
    "    \n",
    "    if mark == 'X':\n",
    "        return ('X', 'O')\n",
    "    return ('O', 'X')"
   ]
  },
  {
   "cell_type": "code",
   "execution_count": 5,
   "metadata": {},
   "outputs": [
    {
     "name": "stdout",
     "output_type": "stream",
     "text": [
      "Player 1, choose X or O: x\n"
     ]
    }
   ],
   "source": [
    "player1_marker, player2_marker = player_mark()"
   ]
  },
  {
   "cell_type": "code",
   "execution_count": 6,
   "metadata": {},
   "outputs": [
    {
     "data": {
      "text/plain": [
       "'X'"
      ]
     },
     "execution_count": 6,
     "metadata": {},
     "output_type": "execute_result"
    }
   ],
   "source": [
    "player1_marker"
   ]
  },
  {
   "cell_type": "code",
   "execution_count": 7,
   "metadata": {},
   "outputs": [
    {
     "data": {
      "text/plain": [
       "'O'"
      ]
     },
     "execution_count": 7,
     "metadata": {},
     "output_type": "execute_result"
    }
   ],
   "source": [
    "player2_marker"
   ]
  },
  {
   "cell_type": "code",
   "execution_count": 8,
   "metadata": {},
   "outputs": [],
   "source": [
    "# ask player if he/she is ready to play\n",
    "def ready_play():\n",
    "    answer = None\n",
    "    \n",
    "    while not (answer == 'Y' or answer == 'N'):\n",
    "        answer = input(\"Are you ready to play (Y or N)? \").upper()\n",
    "        \n",
    "    if answer == \"Y\":\n",
    "        return True\n",
    "    return False"
   ]
  },
  {
   "cell_type": "code",
   "execution_count": 9,
   "metadata": {},
   "outputs": [
    {
     "name": "stdout",
     "output_type": "stream",
     "text": [
      "Are you ready to play (Y or N)? a\n",
      "Are you ready to play (Y or N)? n\n"
     ]
    },
    {
     "data": {
      "text/plain": [
       "False"
      ]
     },
     "execution_count": 9,
     "metadata": {},
     "output_type": "execute_result"
    }
   ],
   "source": [
    "ready_play()"
   ]
  },
  {
   "cell_type": "code",
   "execution_count": null,
   "metadata": {},
   "outputs": [],
   "source": [
    "# player picks a tic-tac-toe squre\n",
    "# bottom: 1 - 3; middle: 4 - 6; top: 7 - 9\n",
    "def position(player, mark = 'X'):\n",
    "    print(board())\n",
    "    \n",
    "    while True:\n",
    "        choice = input(f\"{player} ({mark}), pick your square (1 - 9): \")\n",
    "        \n",
    "        if choice.isdigit():\n",
    "            if int(choice) in range(1, 10):\n",
    "                return int(choice)\n",
    "        \n",
    "            print(\"That number is out of range (1 - 9)\")\n",
    "            continue\n",
    "        \n",
    "        print(\"That's not a digit...\") "
   ]
  },
  {
   "cell_type": "code",
   "execution_count": null,
   "metadata": {},
   "outputs": [],
   "source": [
    "def place_marker(board, mark, position):\n",
    "    board[position] = mark"
   ]
  },
  {
   "cell_type": "code",
   "execution_count": null,
   "metadata": {},
   "outputs": [],
   "source": []
  }
 ],
 "metadata": {
  "kernelspec": {
   "display_name": "Python 3",
   "language": "python",
   "name": "python3"
  },
  "language_info": {
   "codemirror_mode": {
    "name": "ipython",
    "version": 3
   },
   "file_extension": ".py",
   "mimetype": "text/x-python",
   "name": "python",
   "nbconvert_exporter": "python",
   "pygments_lexer": "ipython3",
   "version": "3.8.5"
  }
 },
 "nbformat": 4,
 "nbformat_minor": 4
}
