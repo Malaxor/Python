{
 "cells": [
  {
   "cell_type": "code",
   "execution_count": 1,
   "metadata": {},
   "outputs": [],
   "source": [
    "from IPython.display import clear_output"
   ]
  },
  {
   "cell_type": "code",
   "execution_count": 2,
   "metadata": {},
   "outputs": [],
   "source": [
    "# game board\n",
    "def display_board(position, mark):\n",
    "    b = [' '] * 10\n",
    "    b[position] = mark\n",
    "    \n",
    "    print('    ' + '|   |' + '    ')\n",
    "    print(f'  {b[7]} ' + f'| {b[8]} |' + f' {b[9]}')\n",
    "    print('____' + '|___|' + '____')\n",
    "    print('    ' + '|   |' + '    ')\n",
    "    print(f'  {b[4]} ' + f'| {b[5]} |' + f' {b[6]}')\n",
    "    print('____' + '|___|' + '____')\n",
    "    print('    ' + '|   |' + '    ')\n",
    "    print(f'  {b[1]} ' + f'| {b[2]} |' + f' {b[3]}')\n",
    "    print('    ' + '|   |' + '    ')\n",
    "    "
   ]
  },
  {
   "cell_type": "code",
   "execution_count": 5,
   "metadata": {},
   "outputs": [
    {
     "name": "stdout",
     "output_type": "stream",
     "text": [
      "    |   |    \n",
      "    |   |  \n",
      "____|___|____\n",
      "    |   |    \n",
      "    |   |  \n",
      "____|___|____\n",
      "    |   |    \n",
      "    | X |  \n",
      "    |   |    \n"
     ]
    }
   ],
   "source": [
    "display_board(2, 'X')"
   ]
  },
  {
   "cell_type": "code",
   "execution_count": null,
   "metadata": {},
   "outputs": [],
   "source": [
    "# choose to go first (X) or second (O)\n",
    "def choose_turn():\n",
    "    choices = ['X', 'O']\n",
    "    mark = None\n",
    "    \n",
    "    while mark not in choices:\n",
    "        mark = input('Player 1, choose X or O: ')\n",
    "    \n",
    "        if mark == 'X':\n",
    "            print(\"Player One will go first!\")\n",
    "            break\n",
    "        elif mark == 'O':\n",
    "            print(\"Player Two will go first!\")\n",
    "            break\n",
    "        print('Please choose X or O')\n",
    "    return mark"
   ]
  },
  {
   "cell_type": "code",
   "execution_count": null,
   "metadata": {},
   "outputs": [],
   "source": [
    "choose_turn()"
   ]
  },
  {
   "cell_type": "code",
   "execution_count": null,
   "metadata": {},
   "outputs": [],
   "source": [
    "choose_turn()"
   ]
  },
  {
   "cell_type": "code",
   "execution_count": null,
   "metadata": {},
   "outputs": [],
   "source": [
    "# ask player if he/she is ready to play\n",
    "def ready_play():\n",
    "    choices = [\"Yes\", \"No\"]\n",
    "    answer = None\n",
    "    \n",
    "    while answer not in choices:\n",
    "        answer = input(\"Are you ready to play (Yes or No)? \")\n",
    "        \n",
    "        if answer == \"Yes\":\n",
    "            return True\n",
    "        elif answer == \"No\":\n",
    "            return False\n",
    "        \n",
    "        print(\"Please enter Yes or No\")"
   ]
  },
  {
   "cell_type": "code",
   "execution_count": null,
   "metadata": {},
   "outputs": [],
   "source": [
    "ready_play()"
   ]
  },
  {
   "cell_type": "code",
   "execution_count": null,
   "metadata": {},
   "outputs": [],
   "source": [
    "# player picks a tic-tac-toe squre\n",
    "# bottom: 1 - 3; middle: 4 - 6; top: 7 - 9\n",
    "def position():\n",
    "    \n",
    "    while True:\n",
    "        choice = input(\"Pick your square (1 - 9): \")\n",
    "        \n",
    "        if choice.isdigit():\n",
    "            if int(choice) in range(1, 10):\n",
    "                return int(choice)\n",
    "        \n",
    "            print(\"That number is out of range (1 - 9)\")\n",
    "            continue\n",
    "        \n",
    "        print(\"That't not a digit...\") "
   ]
  },
  {
   "cell_type": "code",
   "execution_count": null,
   "metadata": {},
   "outputs": [],
   "source": [
    "position()"
   ]
  },
  {
   "cell_type": "code",
   "execution_count": null,
   "metadata": {},
   "outputs": [],
   "source": [
    "def tic_tac_toe():\n",
    "    print('Welcome to Tic-Tac-Toe')\n",
    "    choose_turn()\n",
    "    \n",
    "    if ready_play():\n",
    "        clear_output()\n",
    "        display_board()\n",
    "    return"
   ]
  },
  {
   "cell_type": "code",
   "execution_count": null,
   "metadata": {},
   "outputs": [],
   "source": [
    "range(0, 10)"
   ]
  }
 ],
 "metadata": {
  "kernelspec": {
   "display_name": "Python 3",
   "language": "python",
   "name": "python3"
  },
  "language_info": {
   "codemirror_mode": {
    "name": "ipython",
    "version": 3
   },
   "file_extension": ".py",
   "mimetype": "text/x-python",
   "name": "python",
   "nbconvert_exporter": "python",
   "pygments_lexer": "ipython3",
   "version": "3.8.5"
  }
 },
 "nbformat": 4,
 "nbformat_minor": 4
}
