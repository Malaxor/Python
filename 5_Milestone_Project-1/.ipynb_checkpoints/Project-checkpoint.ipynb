{
 "cells": [
  {
   "cell_type": "code",
   "execution_count": 1,
   "metadata": {},
   "outputs": [],
   "source": [
    "from IPython.display import clear_output"
   ]
  },
  {
   "cell_type": "code",
   "execution_count": 2,
   "metadata": {},
   "outputs": [],
   "source": [
    "# choose to go first (X) or second (O)\n",
    "def choose_turn():\n",
    "    mark = None\n",
    "    \n",
    "    while mark != 'X' or mark != 'O':\n",
    "        mark = input('Player 1, choose X or O: ')\n",
    "    \n",
    "        if mark == 'X':\n",
    "            print(\"Player One will go first!\")\n",
    "            break\n",
    "        elif mark == 'O':\n",
    "            print(\"Player Two will go first!\")\n",
    "            break\n",
    "        print('Please choose X or O')\n",
    "    return mark"
   ]
  },
  {
   "cell_type": "code",
   "execution_count": 3,
   "metadata": {},
   "outputs": [
    {
     "name": "stdout",
     "output_type": "stream",
     "text": [
      "Player 1, choose X or O: X\n",
      "Player One will go first!\n"
     ]
    }
   ],
   "source": [
    "mark = choose_turn()"
   ]
  },
  {
   "cell_type": "code",
   "execution_count": 4,
   "metadata": {},
   "outputs": [],
   "source": [
    "# ask player if he/she is ready to play\n",
    "def ready_play():\n",
    "    choices = [\"Yes\", \"No\"]\n",
    "    answer = None\n",
    "    \n",
    "    while answer not in choices:\n",
    "        answer = input(\"Are you ready to play (Yes or No)? \")\n",
    "        \n",
    "        if answer == \"Yes\":\n",
    "            return True\n",
    "        elif answer == \"No\":\n",
    "            return False\n",
    "        \n",
    "        print(\"Please enter Yes or No\")"
   ]
  },
  {
   "cell_type": "code",
   "execution_count": 5,
   "metadata": {},
   "outputs": [
    {
     "name": "stdout",
     "output_type": "stream",
     "text": [
      "Are you ready to play (Yes or No)? Yes\n"
     ]
    }
   ],
   "source": [
    "play = ready_play()"
   ]
  },
  {
   "cell_type": "code",
   "execution_count": 10,
   "metadata": {},
   "outputs": [],
   "source": [
    "# player picks a tic-tac-toe squre\n",
    "# bottom: 1 - 3; middle: 4 - 6; top: 7 - 9\n",
    "def position(player, mark = \"X\"):\n",
    "    \n",
    "    while True:\n",
    "        choice = input(f\"{player} ({mark}), pick your square (1 - 9): \")\n",
    "        \n",
    "        if choice.isdigit():\n",
    "            if int(choice) in range(1, 10):\n",
    "                return int(choice)\n",
    "        \n",
    "            print(\"That number is out of range (1 - 9)\")\n",
    "            continue\n",
    "        \n",
    "        print(\"That's not a digit...\") "
   ]
  },
  {
   "cell_type": "code",
   "execution_count": 11,
   "metadata": {},
   "outputs": [
    {
     "name": "stdout",
     "output_type": "stream",
     "text": [
      "Player 1 (X), pick your square (1 - 9): 1\n"
     ]
    }
   ],
   "source": [
    "square = position('Player 1', mark)"
   ]
  },
  {
   "cell_type": "code",
   "execution_count": 12,
   "metadata": {},
   "outputs": [],
   "source": [
    "# game board\n",
    "b = [' '] * 10\n",
    "\n",
    "def display_board(position, mark):\n",
    "    b[position] = mark\n",
    "    \n",
    "    print('    ' + '|   |' + '    ')\n",
    "    print(f'  {b[7]} ' + f'| {b[8]} |' + f' {b[9]}')\n",
    "    print('____' + '|___|' + '____')\n",
    "    print('    ' + '|   |' + '    ')\n",
    "    print(f'  {b[4]} ' + f'| {b[5]} |' + f' {b[6]}')\n",
    "    print('____' + '|___|' + '____')\n",
    "    print('    ' + '|   |' + '    ')\n",
    "    print(f'  {b[1]} ' + f'| {b[2]} |' + f' {b[3]}')\n",
    "    print('    ' + '|   |' + '    ')"
   ]
  },
  {
   "cell_type": "code",
   "execution_count": 13,
   "metadata": {},
   "outputs": [],
   "source": [
    "# game board\n",
    "b = [' '] * 10\n",
    "\n",
    "def tic_tac_toe():\n",
    "    print(\"Welcome to Tic-Tac-Toe!\")\n",
    "    # player one chooses to go first or second\n",
    "    mark = choose_turn()\n",
    "    \n",
    "    # ask user if ready to play\n",
    "    if ready_play():\n",
    "        # when player one goes first\n",
    "        while mark == \"X\":\n",
    "            # player one marks X on a position\n",
    "            square = position('Player 1')\n",
    "            # display board with X on marked position\n",
    "            display_board(square, mark)\n",
    "            # player two marks O on a position\n",
    "            square = position('Player 2', \"O\"})\n",
    "            # display board with O on marked position\n",
    "            display_board(square, 'O')\n",
    "        # when player one goes second \n",
    "        while mark == \"O\":\n",
    "            # player two marks X on a position\n",
    "            square = position('Player 2')\n",
    "            # display board with X on marked position\n",
    "            display_board(square, mark)\n",
    "            # player one marks O on a position\n",
    "            square = position('Player 1', \"O\")\n",
    "            # display board with O on marked position\n",
    "            display_board(square, 'X')\n",
    "    return"
   ]
  },
  {
   "cell_type": "code",
   "execution_count": null,
   "metadata": {},
   "outputs": [
    {
     "name": "stdout",
     "output_type": "stream",
     "text": [
      "Welcome to Tic-Tac-Toe!\n",
      "Player 1, choose X or O: X\n",
      "Player One will go first!\n",
      "Are you ready to play (Yes or No)? Yes\n",
      "Player 1 (X), pick your square (1 - 9): 1\n",
      "    |   |    \n",
      "    |   |  \n",
      "____|___|____\n",
      "    |   |    \n",
      "    |   |  \n",
      "____|___|____\n",
      "    |   |    \n",
      "  X |   |  \n",
      "    |   |    \n"
     ]
    }
   ],
   "source": [
    "tic_tac_toe()"
   ]
  },
  {
   "cell_type": "code",
   "execution_count": null,
   "metadata": {},
   "outputs": [],
   "source": []
  }
 ],
 "metadata": {
  "kernelspec": {
   "display_name": "Python 3",
   "language": "python",
   "name": "python3"
  },
  "language_info": {
   "codemirror_mode": {
    "name": "ipython",
    "version": 3
   },
   "file_extension": ".py",
   "mimetype": "text/x-python",
   "name": "python",
   "nbconvert_exporter": "python",
   "pygments_lexer": "ipython3",
   "version": "3.8.5"
  }
 },
 "nbformat": 4,
 "nbformat_minor": 4
}
