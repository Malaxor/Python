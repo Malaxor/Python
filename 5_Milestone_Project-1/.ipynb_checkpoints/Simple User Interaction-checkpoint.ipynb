{
 "cells": [
  {
   "cell_type": "code",
   "execution_count": 1,
   "metadata": {},
   "outputs": [],
   "source": [
    "game_list = [0,1,2]\n",
    "\n",
    "def display_game(game_list):\n",
    "    print(\"Here is the list:\")\n",
    "    print(game_list)  \n"
   ]
  },
  {
   "cell_type": "code",
   "execution_count": 2,
   "metadata": {},
   "outputs": [
    {
     "name": "stdout",
     "output_type": "stream",
     "text": [
      "Here is the list:\n",
      "[0, 1, 2]\n"
     ]
    }
   ],
   "source": [
    "display_game(game_list)"
   ]
  },
  {
   "cell_type": "code",
   "execution_count": 3,
   "metadata": {},
   "outputs": [],
   "source": [
    "def position_choice():\n",
    "    choice = 'wrong'\n",
    "    value_list = ['0', '1', '2']\n",
    "    \n",
    "    while choice not in value_list:\n",
    "        choice = input(\"Pick a position (0, 1, 2): \")\n",
    "        \n",
    "        if choice not in value_list:\n",
    "            print(\"Invalid choice!\")\n",
    "        \n",
    "    return int(choice)"
   ]
  },
  {
   "cell_type": "code",
   "execution_count": 4,
   "metadata": {},
   "outputs": [
    {
     "name": "stdout",
     "output_type": "stream",
     "text": [
      "Pick a position (0, 1, 2): 0\n"
     ]
    }
   ],
   "source": [
    "position = position_choice()"
   ]
  },
  {
   "cell_type": "code",
   "execution_count": 5,
   "metadata": {},
   "outputs": [],
   "source": [
    "def replacement_choice(game_list, position):\n",
    "    user_choice = input(\"Type a string to place at position: \")\n",
    "    game_list[position] = user_choice\n",
    "    \n",
    "    return game_list"
   ]
  },
  {
   "cell_type": "code",
   "execution_count": 6,
   "metadata": {},
   "outputs": [
    {
     "name": "stdout",
     "output_type": "stream",
     "text": [
      "Type a string to place at position: hello\n"
     ]
    },
    {
     "data": {
      "text/plain": [
       "['hello', 1, 2]"
      ]
     },
     "execution_count": 6,
     "metadata": {},
     "output_type": "execute_result"
    }
   ],
   "source": [
    "replacement_choice(game_list, position)"
   ]
  },
  {
   "cell_type": "code",
   "execution_count": 7,
   "metadata": {},
   "outputs": [],
   "source": [
    "def gameOn_choice():\n",
    "    choice = 'wrong'\n",
    "    value_list = ['Y', 'N']\n",
    "    \n",
    "    while choice not in value_list:\n",
    "        choice = input(\"Keep playing? (Y or N) \")\n",
    "        \n",
    "        if choice not in value_list:\n",
    "            print(\"Please choose Y or N\")\n",
    "        \n",
    "    if choice == \"Y\":\n",
    "        return True\n",
    "    \n",
    "    return False"
   ]
  },
  {
   "cell_type": "code",
   "execution_count": 8,
   "metadata": {},
   "outputs": [
    {
     "name": "stdout",
     "output_type": "stream",
     "text": [
      "Keep playing? (Y or N) Y\n"
     ]
    },
    {
     "data": {
      "text/plain": [
       "True"
      ]
     },
     "execution_count": 8,
     "metadata": {},
     "output_type": "execute_result"
    }
   ],
   "source": [
    "gameOn_choice()"
   ]
  },
  {
   "cell_type": "code",
   "execution_count": 9,
   "metadata": {},
   "outputs": [
    {
     "name": "stdout",
     "output_type": "stream",
     "text": [
      "Here is the list:\n",
      "[0, 1, 2]\n",
      "Pick a position (0, 1, 2): 1\n",
      "Type a string to place at position: hello\n",
      "Here is the list:\n",
      "[0, 'hello', 2]\n",
      "Keep playing? (Y or N) N\n"
     ]
    }
   ],
   "source": [
    "game_on = True\n",
    "game_list = [0,1,2]\n",
    "\n",
    "while game_on:\n",
    "    display_game(game_list)\n",
    "    position = position_choice()\n",
    "    game_list = replacement_choice(game_list, position)\n",
    "    display_game(game_list)\n",
    "    game_on = gameOn_choice()"
   ]
  },
  {
   "cell_type": "code",
   "execution_count": 12,
   "metadata": {},
   "outputs": [],
   "source": [
    "def game():\n",
    "    game_list = [0,1,2]\n",
    "    game_on = True\n",
    "    \n",
    "    while game_on:\n",
    "        display_game(game_list)\n",
    "        position = position_choice()\n",
    "        game_list = replacement_choice(game_list, position)\n",
    "        display_game(game_list)\n",
    "        game_on = gameOn_choice()"
   ]
  },
  {
   "cell_type": "code",
   "execution_count": null,
   "metadata": {},
   "outputs": [
    {
     "name": "stdout",
     "output_type": "stream",
     "text": [
      "Here is the list:\n",
      "[0, 1, 2]\n",
      "Pick a position (0, 1, 2): 4\n",
      "Invalid choice!\n",
      "Pick a position (0, 1, 2): 1\n",
      "Type a string to place at position: crap\n",
      "Here is the list:\n",
      "[0, 'crap', 2]\n",
      "Keep playing? (Y or N) y\n",
      "Please choose Y or N\n",
      "Keep playing? (Y or N) Y\n",
      "Here is the list:\n",
      "[0, 'crap', 2]\n"
     ]
    }
   ],
   "source": [
    "game()"
   ]
  },
  {
   "cell_type": "code",
   "execution_count": null,
   "metadata": {},
   "outputs": [],
   "source": []
  }
 ],
 "metadata": {
  "kernelspec": {
   "display_name": "Python 3",
   "language": "python",
   "name": "python3"
  },
  "language_info": {
   "codemirror_mode": {
    "name": "ipython",
    "version": 3
   },
   "file_extension": ".py",
   "mimetype": "text/x-python",
   "name": "python",
   "nbconvert_exporter": "python",
   "pygments_lexer": "ipython3",
   "version": "3.8.5"
  }
 },
 "nbformat": 4,
 "nbformat_minor": 4
}
