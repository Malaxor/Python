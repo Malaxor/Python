{
 "cells": [
  {
   "cell_type": "code",
   "execution_count": 60,
   "id": "4894544e",
   "metadata": {},
   "outputs": [],
   "source": [
    "def shout(fn):\n",
    "    def wrapper(*args, **kwargs):\n",
    "        return fn(*args, **kwargs)\n",
    "    return wrapper"
   ]
  },
  {
   "cell_type": "code",
   "execution_count": 61,
   "id": "0fa1ec84",
   "metadata": {},
   "outputs": [],
   "source": [
    "def greet(me, you, him):\n",
    "    return f\"{me.capitalize()} and {you.capitalize()} are visiting {him.capitalize()} on Friday.\""
   ]
  },
  {
   "cell_type": "code",
   "execution_count": 62,
   "id": "18aacf08",
   "metadata": {},
   "outputs": [],
   "source": [
    "wrapper = shout(greet)"
   ]
  },
  {
   "cell_type": "code",
   "execution_count": 63,
   "id": "ef2b01c0",
   "metadata": {},
   "outputs": [
    {
     "data": {
      "text/plain": [
       "'Philip and Charlie are visiting Axel on Friday.'"
      ]
     },
     "execution_count": 63,
     "metadata": {},
     "output_type": "execute_result"
    }
   ],
   "source": [
    "wrapper('philip', 'charlie', 'axel')"
   ]
  },
  {
   "cell_type": "code",
   "execution_count": 73,
   "id": "806f858c",
   "metadata": {},
   "outputs": [],
   "source": [
    "@shout\n",
    "def greet(me, you, him):\n",
    "    return f\"{me.capitalize()} and {you.capitalize()} are visiting {him.capitalize()} on Friday.\""
   ]
  },
  {
   "cell_type": "code",
   "execution_count": 74,
   "id": "f7cd5cc2",
   "metadata": {},
   "outputs": [
    {
     "data": {
      "text/plain": [
       "'Philip and Christine are visiting Shane on Friday.'"
      ]
     },
     "execution_count": 74,
     "metadata": {},
     "output_type": "execute_result"
    }
   ],
   "source": [
    "greet('philip', 'christine', 'shane')"
   ]
  },
  {
   "cell_type": "code",
   "execution_count": 65,
   "id": "b1e4420f",
   "metadata": {},
   "outputs": [],
   "source": [
    "@shout\n",
    "def order(main, side):\n",
    "    return f\"Hi! I'd like the {main} with a side of {side}.\""
   ]
  },
  {
   "cell_type": "code",
   "execution_count": 66,
   "id": "e510448b",
   "metadata": {},
   "outputs": [
    {
     "data": {
      "text/plain": [
       "\"Hi, I'd like the steak with a side of fries.\""
      ]
     },
     "execution_count": 66,
     "metadata": {},
     "output_type": "execute_result"
    }
   ],
   "source": [
    "order('steak', 'fries')"
   ]
  },
  {
   "cell_type": "code",
   "execution_count": 67,
   "id": "81c02863",
   "metadata": {},
   "outputs": [],
   "source": [
    "@shout\n",
    "def travel(destination, time):\n",
    "    return f\"I'm going to {destination} in {time}.\""
   ]
  },
  {
   "cell_type": "code",
   "execution_count": 68,
   "id": "e7710352",
   "metadata": {},
   "outputs": [
    {
     "data": {
      "text/plain": [
       "\"I'm going to Argentina in July.\""
      ]
     },
     "execution_count": 68,
     "metadata": {},
     "output_type": "execute_result"
    }
   ],
   "source": [
    "travel(destination = 'Argentina', time = 'July')"
   ]
  },
  {
   "cell_type": "code",
   "execution_count": 69,
   "id": "deb3d6e5",
   "metadata": {},
   "outputs": [],
   "source": [
    "def hello(one, two, three, four):\n",
    "    print(one)\n",
    "    print(two)\n",
    "    print(three)\n",
    "    print(four)"
   ]
  },
  {
   "cell_type": "code",
   "execution_count": 70,
   "id": "4ca68e30",
   "metadata": {},
   "outputs": [],
   "source": [
    "stuff = ('crap', 'mo', 'stank')"
   ]
  },
  {
   "cell_type": "code",
   "execution_count": 27,
   "id": "5c33649f",
   "metadata": {},
   "outputs": [
    {
     "name": "stdout",
     "output_type": "stream",
     "text": [
      "crap\n",
      "mo\n",
      "stank\n",
      "hello\n"
     ]
    }
   ],
   "source": [
    "hello(*stuff, 'hello')"
   ]
  },
  {
   "cell_type": "code",
   "execution_count": null,
   "id": "8b7324b1",
   "metadata": {},
   "outputs": [],
   "source": []
  }
 ],
 "metadata": {
  "kernelspec": {
   "display_name": "Python 3",
   "language": "python",
   "name": "python3"
  },
  "language_info": {
   "codemirror_mode": {
    "name": "ipython",
    "version": 3
   },
   "file_extension": ".py",
   "mimetype": "text/x-python",
   "name": "python",
   "nbconvert_exporter": "python",
   "pygments_lexer": "ipython3",
   "version": "3.8.5"
  }
 },
 "nbformat": 4,
 "nbformat_minor": 5
}
