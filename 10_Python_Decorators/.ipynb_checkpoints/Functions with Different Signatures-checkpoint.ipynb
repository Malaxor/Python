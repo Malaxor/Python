{
 "cells": [
  {
   "cell_type": "code",
   "execution_count": 12,
   "id": "4894544e",
   "metadata": {},
   "outputs": [],
   "source": [
    "def shout(fn):\n",
    "    def wrapper(*args, **kwargs):\n",
    "        return fn(*args, **kwargs).upper()\n",
    "    return wrapper"
   ]
  },
  {
   "cell_type": "code",
   "execution_count": 13,
   "id": "806f858c",
   "metadata": {},
   "outputs": [],
   "source": [
    "@shout\n",
    "def greet(name):\n",
    "    return f\"Hi, I'm {name}.\""
   ]
  },
  {
   "cell_type": "code",
   "execution_count": 14,
   "id": "4d8ed023",
   "metadata": {},
   "outputs": [
    {
     "data": {
      "text/plain": [
       "\"HI, I'M PHILIP.\""
      ]
     },
     "execution_count": 14,
     "metadata": {},
     "output_type": "execute_result"
    }
   ],
   "source": [
    "greet('Philip')"
   ]
  },
  {
   "cell_type": "code",
   "execution_count": 15,
   "id": "b1e4420f",
   "metadata": {},
   "outputs": [],
   "source": [
    "@shout\n",
    "def order(main, side):\n",
    "    return f\"Hi, I'd like the {main} with a side of {side}.\""
   ]
  },
  {
   "cell_type": "code",
   "execution_count": 16,
   "id": "e510448b",
   "metadata": {},
   "outputs": [
    {
     "data": {
      "text/plain": [
       "\"HI, I'D LIKE THE STEAK WITH A SIDE OF FRIES.\""
      ]
     },
     "execution_count": 16,
     "metadata": {},
     "output_type": "execute_result"
    }
   ],
   "source": [
    "order('steak', 'fries')"
   ]
  },
  {
   "cell_type": "code",
   "execution_count": 17,
   "id": "81c02863",
   "metadata": {},
   "outputs": [],
   "source": [
    "@shout\n",
    "def travel(destination, time):\n",
    "    return f\"I'm going to {destination} in {time}.\""
   ]
  },
  {
   "cell_type": "code",
   "execution_count": 19,
   "id": "e7710352",
   "metadata": {},
   "outputs": [
    {
     "data": {
      "text/plain": [
       "\"I'M GOING TO ARGENTINA IN JULY.\""
      ]
     },
     "execution_count": 19,
     "metadata": {},
     "output_type": "execute_result"
    }
   ],
   "source": [
    "travel(destination = 'Argentina', time = 'July')"
   ]
  },
  {
   "cell_type": "code",
   "execution_count": null,
   "id": "deb3d6e5",
   "metadata": {},
   "outputs": [],
   "source": []
  }
 ],
 "metadata": {
  "kernelspec": {
   "display_name": "Python 3",
   "language": "python",
   "name": "python3"
  },
  "language_info": {
   "codemirror_mode": {
    "name": "ipython",
    "version": 3
   },
   "file_extension": ".py",
   "mimetype": "text/x-python",
   "name": "python",
   "nbconvert_exporter": "python",
   "pygments_lexer": "ipython3",
   "version": "3.8.5"
  }
 },
 "nbformat": 4,
 "nbformat_minor": 5
}
