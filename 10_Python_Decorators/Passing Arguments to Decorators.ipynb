{
 "cells": [
  {
   "cell_type": "code",
   "execution_count": 17,
   "id": "45f21578",
   "metadata": {},
   "outputs": [],
   "source": [
    "from functools import wraps"
   ]
  },
  {
   "cell_type": "code",
   "execution_count": 18,
   "id": "6f07abbf",
   "metadata": {},
   "outputs": [],
   "source": [
    "def ensure_first_arg_is(val):\n",
    "    def inner(fn):\n",
    "        @wraps(fn)\n",
    "        def wrapper(*args, **kwargs):\n",
    "            if args and args[0] != val:\n",
    "                return f\"First arg must be {val}\"\n",
    "            return fn(*args, **kwargs)\n",
    "        return wrapper\n",
    "    return inner"
   ]
  },
  {
   "cell_type": "code",
   "execution_count": 19,
   "id": "fbca0f6f",
   "metadata": {},
   "outputs": [],
   "source": [
    "inner = ensure_first_arg_is('burgers')"
   ]
  },
  {
   "cell_type": "code",
   "execution_count": 20,
   "id": "4cb81e9d",
   "metadata": {},
   "outputs": [],
   "source": [
    "wrapper = inner(fav_foods)"
   ]
  },
  {
   "cell_type": "code",
   "execution_count": 21,
   "id": "db6869e0",
   "metadata": {},
   "outputs": [
    {
     "name": "stdout",
     "output_type": "stream",
     "text": [
      "I like burgers and fries\n"
     ]
    }
   ],
   "source": [
    "wrapper('burgers', 'fries')"
   ]
  },
  {
   "cell_type": "code",
   "execution_count": 6,
   "id": "cb19973f",
   "metadata": {},
   "outputs": [],
   "source": [
    "def fav_foods(*foods):\n",
    "    print(f\"I like {foods[0]} and {foods[1]}\")"
   ]
  },
  {
   "cell_type": "code",
   "execution_count": null,
   "id": "1921e791",
   "metadata": {},
   "outputs": [],
   "source": [
    "@ensure_first_arg_is(\"stuff\")\n",
    "def fav_foods(*foods):\n",
    "    print(foods)"
   ]
  },
  {
   "cell_type": "code",
   "execution_count": null,
   "id": "6e0390d9",
   "metadata": {},
   "outputs": [],
   "source": [
    "fav_foods(\"stuff\", \"ice cream\")"
   ]
  },
  {
   "cell_type": "code",
   "execution_count": null,
   "id": "b412c0b0",
   "metadata": {},
   "outputs": [],
   "source": [
    "fav_foods(\"ice cream\", \"taco\")"
   ]
  },
  {
   "cell_type": "code",
   "execution_count": null,
   "id": "d2e8a32d",
   "metadata": {},
   "outputs": [],
   "source": []
  },
  {
   "cell_type": "code",
   "execution_count": null,
   "id": "1dba3086",
   "metadata": {},
   "outputs": [],
   "source": []
  }
 ],
 "metadata": {
  "kernelspec": {
   "display_name": "Python 3",
   "language": "python",
   "name": "python3"
  },
  "language_info": {
   "codemirror_mode": {
    "name": "ipython",
    "version": 3
   },
   "file_extension": ".py",
   "mimetype": "text/x-python",
   "name": "python",
   "nbconvert_exporter": "python",
   "pygments_lexer": "ipython3",
   "version": "3.8.5"
  }
 },
 "nbformat": 4,
 "nbformat_minor": 5
}
