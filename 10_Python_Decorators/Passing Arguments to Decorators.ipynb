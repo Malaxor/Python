{
 "cells": [
  {
   "cell_type": "code",
   "execution_count": 1,
   "id": "45f21578",
   "metadata": {},
   "outputs": [],
   "source": [
    "from functools import wraps"
   ]
  },
  {
   "cell_type": "code",
   "execution_count": 3,
   "id": "6f07abbf",
   "metadata": {},
   "outputs": [],
   "source": [
    "def ensure_first_arg_is(val):\n",
    "    def inner(fn):\n",
    "        @wraps(fn)\n",
    "        def wrapper(*args, **kwargs):\n",
    "            if args and args[0] != val:\n",
    "                return f\"First arg must be {val}\"\n",
    "            return fn(*args, **kwargs)\n",
    "        return wrapper\n",
    "    return inner"
   ]
  },
  {
   "cell_type": "code",
   "execution_count": 4,
   "id": "1921e791",
   "metadata": {},
   "outputs": [],
   "source": [
    "@ensure_first_arg_is(\"burger\")\n",
    "def fav_foods(*foods):\n",
    "    print(foods)"
   ]
  },
  {
   "cell_type": "code",
   "execution_count": 5,
   "id": "6e0390d9",
   "metadata": {},
   "outputs": [
    {
     "name": "stdout",
     "output_type": "stream",
     "text": [
      "('burger', 'ice cream')\n"
     ]
    }
   ],
   "source": [
    "fav_foods(\"burger\", \"ice cream\")"
   ]
  },
  {
   "cell_type": "code",
   "execution_count": 6,
   "id": "b412c0b0",
   "metadata": {},
   "outputs": [
    {
     "data": {
      "text/plain": [
       "'First arg must be burger'"
      ]
     },
     "execution_count": 6,
     "metadata": {},
     "output_type": "execute_result"
    }
   ],
   "source": [
    "fav_foods(\"ice cream\", \"taco\")"
   ]
  },
  {
   "cell_type": "code",
   "execution_count": null,
   "id": "d2e8a32d",
   "metadata": {},
   "outputs": [],
   "source": []
  }
 ],
 "metadata": {
  "kernelspec": {
   "display_name": "Python 3",
   "language": "python",
   "name": "python3"
  },
  "language_info": {
   "codemirror_mode": {
    "name": "ipython",
    "version": 3
   },
   "file_extension": ".py",
   "mimetype": "text/x-python",
   "name": "python",
   "nbconvert_exporter": "python",
   "pygments_lexer": "ipython3",
   "version": "3.8.5"
  }
 },
 "nbformat": 4,
 "nbformat_minor": 5
}
