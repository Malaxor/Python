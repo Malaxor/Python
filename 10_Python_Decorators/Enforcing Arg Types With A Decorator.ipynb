{
 "cells": [
  {
   "cell_type": "code",
   "execution_count": 1,
   "id": "01b77340",
   "metadata": {},
   "outputs": [],
   "source": [
    "def enforce(*types):\n",
    "    def decorator(fn):\n",
    "        def new_func(*args, **kwargs):\n",
    "            # convert args into a mutable data collection\n",
    "            new_args = []\n",
    "            \n",
    "            for (a, t) in zip(args, types):\n",
    "                new_args.append(t(a))\n",
    "            return fn(*new_args, **kwargs)\n",
    "        return new_func\n",
    "    return decorator"
   ]
  },
  {
   "cell_type": "code",
   "execution_count": 2,
   "id": "15359ea5",
   "metadata": {},
   "outputs": [],
   "source": [
    "@enforce(str, int)\n",
    "def repeat_msg(msg, times):\n",
    "    for time in range(times):\n",
    "        print(msg)"
   ]
  },
  {
   "cell_type": "code",
   "execution_count": 10,
   "id": "55abf8fb",
   "metadata": {},
   "outputs": [
    {
     "name": "stdout",
     "output_type": "stream",
     "text": [
      "hello\n",
      "hello\n",
      "hello\n"
     ]
    }
   ],
   "source": [
    "repeat_msg('hello', '3')"
   ]
  },
  {
   "cell_type": "code",
   "execution_count": 14,
   "id": "ac36b0b5",
   "metadata": {},
   "outputs": [
    {
     "data": {
      "text/plain": [
       "['hello', 3]"
      ]
     },
     "execution_count": 14,
     "metadata": {},
     "output_type": "execute_result"
    }
   ],
   "source": [
    "new_args = []\n",
    "\n",
    "for (a, t) in zip(('hello', '3'), (str, int)):\n",
    "    new_args.append(t(a))\n",
    "\n",
    "new_args"
   ]
  },
  {
   "cell_type": "code",
   "execution_count": null,
   "id": "41721ae6",
   "metadata": {},
   "outputs": [],
   "source": []
  }
 ],
 "metadata": {
  "kernelspec": {
   "display_name": "Python 3",
   "language": "python",
   "name": "python3"
  },
  "language_info": {
   "codemirror_mode": {
    "name": "ipython",
    "version": 3
   },
   "file_extension": ".py",
   "mimetype": "text/x-python",
   "name": "python",
   "nbconvert_exporter": "python",
   "pygments_lexer": "ipython3",
   "version": "3.8.5"
  }
 },
 "nbformat": 4,
 "nbformat_minor": 5
}
