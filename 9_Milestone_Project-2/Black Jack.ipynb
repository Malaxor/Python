{
 "cells": [
  {
   "cell_type": "code",
   "execution_count": null,
   "metadata": {},
   "outputs": [],
   "source": [
    "import random\n",
    "\n",
    "suits = ('Hearts', 'Diamonds', 'Spades', 'Clubs')\n",
    "ranks = ('Two', 'Three', 'Four', 'Five', 'Six', 'Seven', 'Eight', 'Nine', 'Ten', 'Jack', 'Queen', 'King', 'Ace')\n",
    "values = { 'Two':2, 'Three':3, 'Four':4, 'Five':5, 'Six':6, 'Seven':7, 'Eight':8, \n",
    "            'Nine':9, 'Ten':10, 'Jack':10, 'Queen':10, 'King':10, 'Ace':11 }"
   ]
  },
  {
   "cell_type": "code",
   "execution_count": null,
   "metadata": {},
   "outputs": [],
   "source": [
    "class Card:\n",
    "    \n",
    "    def __init__(self, suit, rank):\n",
    "        self.suit = suit\n",
    "        self.rank = rank\n",
    "        \n",
    "    def __str__(self):\n",
    "        return f\"{self.rank} of {self.suit}\""
   ]
  },
  {
   "cell_type": "code",
   "execution_count": null,
   "metadata": {},
   "outputs": [],
   "source": [
    "class Deck:\n",
    "    \n",
    "    def __init__(self):\n",
    "        self.deck = []\n",
    "        \n",
    "        for suit in suits:\n",
    "            for rank in ranks:\n",
    "                self.deck.append(Card(suit, rank))\n",
    "    \n",
    "    def shuffle(self):\n",
    "        random.shuffle(self.deck)\n",
    "    \n",
    "    def __str__(self):\n",
    "        deck_comp = ''\n",
    "        \n",
    "        for card in self.deck:\n",
    "            deck_comp += '\\n' + card.__str__()\n",
    "        return \"The deck has: \" + deck_comp\n",
    "    \n",
    "    def deal(self):\n",
    "        return self.deck.pop()\n",
    "        "
   ]
  },
  {
   "cell_type": "code",
   "execution_count": null,
   "metadata": {},
   "outputs": [],
   "source": [
    "# player (either computer or human)\n",
    "class Hand: \n",
    "    \n",
    "    def __init__(self):\n",
    "        self.cards = []\n",
    "        self.value = 0 # keep track of current hand total (value over 21 is a losing hand)\n",
    "        self.aces = 0 # keep track of aces\n",
    "        \n",
    "    def add_card(self, card):\n",
    "        # card passed in from Deck.deal() --> single Card(suit, rank)\n",
    "        self.cards.append(card)\n",
    "        self.value += values[card.rank]\n",
    "        \n",
    "        # track aces\n",
    "        if card.rank == \"Ace\":\n",
    "            self.aces += 1\n",
    "    \n",
    "    def adjust_for_ace(self):\n",
    "        \n",
    "        # if total value > 21 and I still have an ace\n",
    "        # change my ace to be a 1 instead of an 11\n",
    "        while self.value > 21 and self.aces:\n",
    "            self.value -= 10\n",
    "            self.aces -= 1"
   ]
  },
  {
   "cell_type": "code",
   "execution_count": null,
   "metadata": {},
   "outputs": [],
   "source": [
    "class Chips:\n",
    "    \n",
    "    def __init__(self, total = 100):\n",
    "        self.total = total\n",
    "        self.bet = 0\n",
    "    \n",
    "    def win_bet(self):\n",
    "        self.total += self.bet\n",
    "    \n",
    "    def lose_bet(self):\n",
    "        self.total -= self.bet"
   ]
  },
  {
   "cell_type": "code",
   "execution_count": null,
   "metadata": {},
   "outputs": [],
   "source": [
    "def take_bet(chips):\n",
    "    \n",
    "    while True:\n",
    "        try:\n",
    "            chips.bet = int(input(\"How many chips would you like to bet? \"))\n",
    "        except ValueError:\n",
    "            print(\"Please provide an number\")\n",
    "        else:\n",
    "            if chips.bet > chips.total:\n",
    "                print(\"You don't have enough chips. You have {}\".format(chips.total))\n",
    "            else:\n",
    "                break"
   ]
  },
  {
   "cell_type": "code",
   "execution_count": null,
   "metadata": {},
   "outputs": [],
   "source": []
  }
 ],
 "metadata": {
  "kernelspec": {
   "display_name": "Python 3",
   "language": "python",
   "name": "python3"
  },
  "language_info": {
   "codemirror_mode": {
    "name": "ipython",
    "version": 3
   },
   "file_extension": ".py",
   "mimetype": "text/x-python",
   "name": "python",
   "nbconvert_exporter": "python",
   "pygments_lexer": "ipython3",
   "version": "3.8.5"
  }
 },
 "nbformat": 4,
 "nbformat_minor": 4
}
