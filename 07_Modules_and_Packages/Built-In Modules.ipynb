{
 "cells": [
  {
   "cell_type": "code",
   "execution_count": 1,
   "id": "ac01cb12",
   "metadata": {},
   "outputs": [],
   "source": [
    "import random"
   ]
  },
  {
   "cell_type": "code",
   "execution_count": 2,
   "id": "987ded6b",
   "metadata": {},
   "outputs": [
    {
     "data": {
      "text/plain": [
       "'Tomato'"
      ]
     },
     "execution_count": 2,
     "metadata": {},
     "output_type": "execute_result"
    }
   ],
   "source": [
    "random.choice(['Apple', 'Orange', 'Kiwi', 'Tomato'])"
   ]
  },
  {
   "cell_type": "code",
   "execution_count": 3,
   "id": "fa92a59d",
   "metadata": {},
   "outputs": [],
   "source": [
    "countries = ['USA', 'China', 'Germany', 'Chile', 'Ecuador']"
   ]
  },
  {
   "cell_type": "code",
   "execution_count": 4,
   "id": "e2490e86",
   "metadata": {},
   "outputs": [
    {
     "name": "stdout",
     "output_type": "stream",
     "text": [
      "None\n"
     ]
    }
   ],
   "source": [
    "print(random.shuffle(countries))"
   ]
  },
  {
   "cell_type": "code",
   "execution_count": null,
   "id": "cf2a62a7",
   "metadata": {},
   "outputs": [],
   "source": []
  }
 ],
 "metadata": {
  "kernelspec": {
   "display_name": "Python 3",
   "language": "python",
   "name": "python3"
  },
  "language_info": {
   "codemirror_mode": {
    "name": "ipython",
    "version": 3
   },
   "file_extension": ".py",
   "mimetype": "text/x-python",
   "name": "python",
   "nbconvert_exporter": "python",
   "pygments_lexer": "ipython3",
   "version": "3.8.5"
  }
 },
 "nbformat": 4,
 "nbformat_minor": 5
}
