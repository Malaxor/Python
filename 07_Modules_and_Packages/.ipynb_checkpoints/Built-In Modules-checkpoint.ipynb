{
 "cells": [
  {
   "cell_type": "code",
   "execution_count": 2,
   "id": "e78bd8ef",
   "metadata": {},
   "outputs": [],
   "source": [
    "from random import choice, shuffle"
   ]
  },
  {
   "cell_type": "code",
   "execution_count": 4,
   "id": "dc04c1cf",
   "metadata": {},
   "outputs": [
    {
     "data": {
      "text/plain": [
       "'Orange'"
      ]
     },
     "execution_count": 4,
     "metadata": {},
     "output_type": "execute_result"
    }
   ],
   "source": [
    "choice(['Apple', 'Orange', 'Kiwi', 'Tomato'])"
   ]
  },
  {
   "cell_type": "code",
   "execution_count": 7,
   "id": "618c9664",
   "metadata": {},
   "outputs": [],
   "source": [
    "shuffled_countries = shuffle(['USA', 'Japan', 'Germany', 'Brazil'])"
   ]
  },
  {
   "cell_type": "code",
   "execution_count": null,
   "id": "6806364f",
   "metadata": {},
   "outputs": [],
   "source": []
  }
 ],
 "metadata": {
  "kernelspec": {
   "display_name": "Python 3",
   "language": "python",
   "name": "python3"
  },
  "language_info": {
   "codemirror_mode": {
    "name": "ipython",
    "version": 3
   },
   "file_extension": ".py",
   "mimetype": "text/x-python",
   "name": "python",
   "nbconvert_exporter": "python",
   "pygments_lexer": "ipython3",
   "version": "3.8.5"
  }
 },
 "nbformat": 4,
 "nbformat_minor": 5
}
