{
 "cells": [
  {
   "cell_type": "code",
   "execution_count": 9,
   "id": "2d038da6",
   "metadata": {},
   "outputs": [],
   "source": [
    "from random import choice, randint"
   ]
  },
  {
   "cell_type": "code",
   "execution_count": 10,
   "id": "f14ab009",
   "metadata": {},
   "outputs": [
    {
     "data": {
      "text/plain": [
       "'Tomato'"
      ]
     },
     "execution_count": 10,
     "metadata": {},
     "output_type": "execute_result"
    }
   ],
   "source": [
    "choice(['Apple', 'Orange', 'Kiwi', 'Tomato'])"
   ]
  },
  {
   "cell_type": "code",
   "execution_count": 11,
   "id": "ae2ff85d",
   "metadata": {},
   "outputs": [
    {
     "data": {
      "text/plain": [
       "8"
      ]
     },
     "execution_count": 11,
     "metadata": {},
     "output_type": "execute_result"
    }
   ],
   "source": [
    "randint(1, 10)"
   ]
  },
  {
   "cell_type": "code",
   "execution_count": 12,
   "id": "7599ecb5",
   "metadata": {},
   "outputs": [],
   "source": [
    "from keyword import iskeyword"
   ]
  },
  {
   "cell_type": "code",
   "execution_count": 13,
   "id": "4beb3f5e",
   "metadata": {},
   "outputs": [
    {
     "data": {
      "text/plain": [
       "True"
      ]
     },
     "execution_count": 13,
     "metadata": {},
     "output_type": "execute_result"
    }
   ],
   "source": [
    "iskeyword('for')"
   ]
  },
  {
   "cell_type": "code",
   "execution_count": 14,
   "id": "8857dac7",
   "metadata": {},
   "outputs": [],
   "source": [
    "a = iskeyword('lambda')"
   ]
  },
  {
   "cell_type": "code",
   "execution_count": 15,
   "id": "198d0ddc",
   "metadata": {},
   "outputs": [
    {
     "data": {
      "text/plain": [
       "bool"
      ]
     },
     "execution_count": 15,
     "metadata": {},
     "output_type": "execute_result"
    }
   ],
   "source": [
    "type(a)"
   ]
  },
  {
   "cell_type": "code",
   "execution_count": 20,
   "id": "597338aa",
   "metadata": {},
   "outputs": [],
   "source": [
    "def stuff(*args):\n",
    "    for string in args:\n",
    "        if iskeyword(string):\n",
    "            return True\n",
    "    return False"
   ]
  },
  {
   "cell_type": "code",
   "execution_count": 21,
   "id": "0fb4ff1e",
   "metadata": {},
   "outputs": [
    {
     "data": {
      "text/plain": [
       "True"
      ]
     },
     "execution_count": 21,
     "metadata": {},
     "output_type": "execute_result"
    }
   ],
   "source": [
    "stuff('def', 'hello', 'dog')"
   ]
  },
  {
   "cell_type": "code",
   "execution_count": 22,
   "id": "46f52dfc",
   "metadata": {},
   "outputs": [
    {
     "data": {
      "text/plain": [
       "False"
      ]
     },
     "execution_count": 22,
     "metadata": {},
     "output_type": "execute_result"
    }
   ],
   "source": [
    "stuff('null', 'undefined', 'stuff')"
   ]
  },
  {
   "cell_type": "code",
   "execution_count": 23,
   "id": "4f7b3d8a",
   "metadata": {},
   "outputs": [
    {
     "data": {
      "text/plain": [
       "True"
      ]
     },
     "execution_count": 23,
     "metadata": {},
     "output_type": "execute_result"
    }
   ],
   "source": [
    "stuff('hello', 'del')"
   ]
  },
  {
   "cell_type": "code",
   "execution_count": null,
   "id": "72e11800",
   "metadata": {},
   "outputs": [],
   "source": []
  }
 ],
 "metadata": {
  "kernelspec": {
   "display_name": "Python 3",
   "language": "python",
   "name": "python3"
  },
  "language_info": {
   "codemirror_mode": {
    "name": "ipython",
    "version": 3
   },
   "file_extension": ".py",
   "mimetype": "text/x-python",
   "name": "python",
   "nbconvert_exporter": "python",
   "pygments_lexer": "ipython3",
   "version": "3.8.5"
  }
 },
 "nbformat": 4,
 "nbformat_minor": 5
}
