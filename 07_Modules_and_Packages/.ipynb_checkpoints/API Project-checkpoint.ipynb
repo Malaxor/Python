{
 "cells": [
  {
   "cell_type": "code",
   "execution_count": null,
   "id": "17c8f746",
   "metadata": {},
   "outputs": [],
   "source": [
    "from colorama import init\n",
    "from termcolor import colored\n",
    "from pyfiglet import figlet_format as format\n",
    "import requests\n",
    "\n",
    "init()"
   ]
  },
  {
   "cell_type": "code",
   "execution_count": null,
   "id": "1cc6b337",
   "metadata": {},
   "outputs": [],
   "source": [
    "def jokes():\n",
    "    intro = colored(format('Dad Joke 3000'), color = 'magenta')\n",
    "    print(intro)"
   ]
  },
  {
   "cell_type": "code",
   "execution_count": null,
   "id": "d844fcd2",
   "metadata": {},
   "outputs": [],
   "source": [
    "jokes()"
   ]
  }
 ],
 "metadata": {
  "kernelspec": {
   "display_name": "Python 3",
   "language": "python",
   "name": "python3"
  },
  "language_info": {
   "codemirror_mode": {
    "name": "ipython",
    "version": 3
   },
   "file_extension": ".py",
   "mimetype": "text/x-python",
   "name": "python",
   "nbconvert_exporter": "python",
   "pygments_lexer": "ipython3",
   "version": "3.8.5"
  }
 },
 "nbformat": 4,
 "nbformat_minor": 5
}
