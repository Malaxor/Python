{
 "cells": [
  {
   "cell_type": "code",
   "execution_count": 1,
   "id": "6de8d6c0",
   "metadata": {},
   "outputs": [],
   "source": [
    "# writing to a file or creating a new file\n",
    "with open(\"haiku.txt\", \"w\") as file:\n",
    "    file.write(\"Writing to files is great\\n\")\n",
    "    file.write(\"Here's another line of text\\n\")\n",
    "    file.write(\"Closing now, goodbye!\")"
   ]
  },
  {
   "cell_type": "code",
   "execution_count": 2,
   "id": "3945967c",
   "metadata": {},
   "outputs": [],
   "source": [
    "# appending content to an existing file (previous content remains), or creating a new file if none exists \n",
    "with open(\"haiku.txt\", \"a\") as file:\n",
    "    file.write(\"\\nI ruined the haiku...\")"
   ]
  },
  {
   "cell_type": "code",
   "execution_count": 3,
   "id": "a7d58200",
   "metadata": {},
   "outputs": [],
   "source": [
    "# read and write to an existing file (writing based on cursor: defaults to seek(0))\n",
    "with open(\"haiku.txt\", \"r+\") as file:\n",
    "    file.write(\"STUFF\")"
   ]
  },
  {
   "cell_type": "code",
   "execution_count": null,
   "id": "35deddf8",
   "metadata": {},
   "outputs": [],
   "source": []
  }
 ],
 "metadata": {
  "kernelspec": {
   "display_name": "Python 3",
   "language": "python",
   "name": "python3"
  },
  "language_info": {
   "codemirror_mode": {
    "name": "ipython",
    "version": 3
   },
   "file_extension": ".py",
   "mimetype": "text/x-python",
   "name": "python",
   "nbconvert_exporter": "python",
   "pygments_lexer": "ipython3",
   "version": "3.8.5"
  }
 },
 "nbformat": 4,
 "nbformat_minor": 5
}
