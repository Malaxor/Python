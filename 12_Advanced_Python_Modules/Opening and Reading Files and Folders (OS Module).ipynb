{
 "cells": [
  {
   "cell_type": "code",
   "execution_count": 1,
   "metadata": {},
   "outputs": [
    {
     "data": {
      "text/plain": [
       "'C:\\\\Users\\\\phili\\\\Desktop\\\\Python\\\\12_Advanced_Python_Modules'"
      ]
     },
     "execution_count": 1,
     "metadata": {},
     "output_type": "execute_result"
    }
   ],
   "source": [
    "pwd"
   ]
  },
  {
   "cell_type": "code",
   "execution_count": 2,
   "metadata": {},
   "outputs": [],
   "source": [
    "f = open('practice.txt', 'w+')\n",
    "f.write('This is a test string')\n",
    "f.close()"
   ]
  },
  {
   "cell_type": "code",
   "execution_count": 3,
   "metadata": {},
   "outputs": [],
   "source": [
    "import os"
   ]
  },
  {
   "cell_type": "code",
   "execution_count": 4,
   "metadata": {},
   "outputs": [
    {
     "data": {
      "text/plain": [
       "'C:\\\\Users\\\\phili\\\\Desktop\\\\Python\\\\12_Advanced_Python_Modules'"
      ]
     },
     "execution_count": 4,
     "metadata": {},
     "output_type": "execute_result"
    }
   ],
   "source": [
    "os.getcwd()"
   ]
  },
  {
   "cell_type": "code",
   "execution_count": 5,
   "metadata": {},
   "outputs": [
    {
     "data": {
      "text/plain": [
       "['.ipynb_checkpoints',\n",
       " 'Collections Module.ipynb',\n",
       " 'Opening and Reading Files and Folders (OS Module).ipynb',\n",
       " 'practice.txt']"
      ]
     },
     "execution_count": 5,
     "metadata": {},
     "output_type": "execute_result"
    }
   ],
   "source": [
    "os.listdir()"
   ]
  },
  {
   "cell_type": "code",
   "execution_count": 22,
   "metadata": {},
   "outputs": [
    {
     "data": {
      "text/plain": [
       "['.git',\n",
       " '.ipynb_checkpoints',\n",
       " '01_Python_Object_and_Data_Structure_Basics',\n",
       " '02_Python_Comparison_Operators',\n",
       " '03_Python_Statements',\n",
       " '04_Methods_and_Functions',\n",
       " '05_Milestone_Project-1',\n",
       " '06_OOP',\n",
       " '07_Modules_and_Packages',\n",
       " '08_Errors_and_Exceptions',\n",
       " '09_Milestone_Project-2',\n",
       " '10_Python_Decorators',\n",
       " '11_Python_Generators',\n",
       " '12_Advanced_Python_Modules',\n",
       " 'README.md']"
      ]
     },
     "execution_count": 22,
     "metadata": {},
     "output_type": "execute_result"
    }
   ],
   "source": [
    "os.listdir(\"C:\\\\Users\\phili\\Desktop\\Python\")"
   ]
  },
  {
   "cell_type": "code",
   "execution_count": 11,
   "metadata": {},
   "outputs": [],
   "source": [
    "import shutil"
   ]
  },
  {
   "cell_type": "code",
   "execution_count": 17,
   "metadata": {},
   "outputs": [
    {
     "data": {
      "text/plain": [
       "['.ipynb_checkpoints',\n",
       " 'Collections Module.ipynb',\n",
       " 'Opening and Reading Files and Folders (OS Module).ipynb',\n",
       " 'practice.txt']"
      ]
     },
     "execution_count": 17,
     "metadata": {},
     "output_type": "execute_result"
    }
   ],
   "source": [
    "os.listdir()"
   ]
  },
  {
   "cell_type": "code",
   "execution_count": 18,
   "metadata": {},
   "outputs": [
    {
     "data": {
      "text/plain": [
       "'C:\\\\Users\\\\phili\\\\Desktop\\\\practice.txt'"
      ]
     },
     "execution_count": 18,
     "metadata": {},
     "output_type": "execute_result"
    }
   ],
   "source": [
    "shutil.move('practice.txt','C:\\\\Users\\phili\\Desktop')"
   ]
  },
  {
   "cell_type": "code",
   "execution_count": 19,
   "metadata": {},
   "outputs": [
    {
     "data": {
      "text/plain": [
       "['.ipynb_checkpoints',\n",
       " 'Collections Module.ipynb',\n",
       " 'Opening and Reading Files and Folders (OS Module).ipynb']"
      ]
     },
     "execution_count": 19,
     "metadata": {},
     "output_type": "execute_result"
    }
   ],
   "source": [
    "os.listdir()"
   ]
  },
  {
   "cell_type": "code",
   "execution_count": 20,
   "metadata": {},
   "outputs": [
    {
     "data": {
      "text/plain": [
       "['.git',\n",
       " 'AlbumArtSmall.jpg',\n",
       " 'coding',\n",
       " 'desktop.ini',\n",
       " 'Discord.lnk',\n",
       " 'Downloads',\n",
       " 'Folder.jpg',\n",
       " 'Git Bash.lnk',\n",
       " 'Left 4 Dead 2.url',\n",
       " 'misc',\n",
       " 'NordVPN.lnk',\n",
       " 'Postman.lnk',\n",
       " 'practice.txt',\n",
       " 'Python',\n",
       " 'Visual Studio Code.lnk',\n",
       " 'Writing',\n",
       " 'Zoom.lnk']"
      ]
     },
     "execution_count": 20,
     "metadata": {},
     "output_type": "execute_result"
    }
   ],
   "source": [
    "os.listdir(\"C:\\\\Users\\phili\\Desktop\")"
   ]
  },
  {
   "cell_type": "code",
   "execution_count": 23,
   "metadata": {},
   "outputs": [],
   "source": [
    "os.unlink(\"C:\\\\Users\\phili\\Desktop\\practice.txt\")"
   ]
  },
  {
   "cell_type": "code",
   "execution_count": 24,
   "metadata": {},
   "outputs": [],
   "source": [
    "f = open('practice.txt', 'w+')\n",
    "f.write('This is a test string')\n",
    "f.close()"
   ]
  },
  {
   "cell_type": "code",
   "execution_count": 25,
   "metadata": {},
   "outputs": [
    {
     "data": {
      "text/plain": [
       "['.ipynb_checkpoints',\n",
       " 'Collections Module.ipynb',\n",
       " 'Opening and Reading Files and Folders (OS Module).ipynb',\n",
       " 'practice.txt']"
      ]
     },
     "execution_count": 25,
     "metadata": {},
     "output_type": "execute_result"
    }
   ],
   "source": [
    "os.listdir()"
   ]
  },
  {
   "cell_type": "code",
   "execution_count": 26,
   "metadata": {},
   "outputs": [
    {
     "data": {
      "text/plain": [
       "'C:\\\\Users\\\\phili\\\\Desktop\\\\practice.txt'"
      ]
     },
     "execution_count": 26,
     "metadata": {},
     "output_type": "execute_result"
    }
   ],
   "source": [
    "shutil.move(\"practice.txt\", \"C:\\\\Users\\phili\\Desktop\")"
   ]
  },
  {
   "cell_type": "code",
   "execution_count": 27,
   "metadata": {},
   "outputs": [],
   "source": [
    "import send2trash"
   ]
  },
  {
   "cell_type": "code",
   "execution_count": 28,
   "metadata": {},
   "outputs": [
    {
     "data": {
      "text/plain": [
       "['.ipynb_checkpoints',\n",
       " 'Collections Module.ipynb',\n",
       " 'Opening and Reading Files and Folders (OS Module).ipynb']"
      ]
     },
     "execution_count": 28,
     "metadata": {},
     "output_type": "execute_result"
    }
   ],
   "source": [
    "os.listdir()"
   ]
  },
  {
   "cell_type": "code",
   "execution_count": 29,
   "metadata": {},
   "outputs": [
    {
     "data": {
      "text/plain": [
       "'C:\\\\Users\\\\phili\\\\Desktop\\\\Python\\\\12_Advanced_Python_Modules\\\\practice.txt'"
      ]
     },
     "execution_count": 29,
     "metadata": {},
     "output_type": "execute_result"
    }
   ],
   "source": [
    "shutil.move(\"C:\\\\Users\\phili\\Desktop\\practice.txt\", os.getcwd())"
   ]
  },
  {
   "cell_type": "code",
   "execution_count": 30,
   "metadata": {},
   "outputs": [
    {
     "data": {
      "text/plain": [
       "['.ipynb_checkpoints',\n",
       " 'Collections Module.ipynb',\n",
       " 'Opening and Reading Files and Folders (OS Module).ipynb',\n",
       " 'practice.txt']"
      ]
     },
     "execution_count": 30,
     "metadata": {},
     "output_type": "execute_result"
    }
   ],
   "source": [
    "os.listdir()"
   ]
  },
  {
   "cell_type": "code",
   "execution_count": 31,
   "metadata": {},
   "outputs": [
    {
     "data": {
      "text/plain": [
       "'C:\\\\Users\\\\phili\\\\Desktop\\\\Python\\\\12_Advanced_Python_Modules'"
      ]
     },
     "execution_count": 31,
     "metadata": {},
     "output_type": "execute_result"
    }
   ],
   "source": [
    "os.getcwd()"
   ]
  },
  {
   "cell_type": "code",
   "execution_count": 32,
   "metadata": {},
   "outputs": [],
   "source": [
    "send2trash.send2trash('practice.txt')"
   ]
  },
  {
   "cell_type": "code",
   "execution_count": 33,
   "metadata": {},
   "outputs": [
    {
     "data": {
      "text/plain": [
       "['.ipynb_checkpoints',\n",
       " 'Collections Module.ipynb',\n",
       " 'Opening and Reading Files and Folders (OS Module).ipynb']"
      ]
     },
     "execution_count": 33,
     "metadata": {},
     "output_type": "execute_result"
    }
   ],
   "source": [
    "os.listdir()"
   ]
  },
  {
   "cell_type": "code",
   "execution_count": 41,
   "metadata": {},
   "outputs": [
    {
     "data": {
      "text/plain": [
       "['.ipynb_checkpoints', 'Mid-Example-1', 'Mid-Example-2', 'Mid-Example.txt']"
      ]
     },
     "execution_count": 41,
     "metadata": {},
     "output_type": "execute_result"
    }
   ],
   "source": [
    "os.listdir(\"C:\\\\Users\\\\phili\\\\Desktop\\\\Python\\\\12_Advanced_Python_Modules\\\\Example_Top-Level\")"
   ]
  },
  {
   "cell_type": "code",
   "execution_count": 39,
   "metadata": {},
   "outputs": [
    {
     "data": {
      "text/plain": [
       "'C:\\\\Users\\\\phili\\\\Desktop\\\\Python\\\\12_Advanced_Python_Modules'"
      ]
     },
     "execution_count": 39,
     "metadata": {},
     "output_type": "execute_result"
    }
   ],
   "source": [
    "os.getcwd()"
   ]
  },
  {
   "cell_type": "code",
   "execution_count": 42,
   "metadata": {},
   "outputs": [],
   "source": [
    "file_path = \"C:\\\\Users\\\\phili\\\\Desktop\\\\Python\\\\12_Advanced_Python_Modules\\\\Example_Top-Level\""
   ]
  },
  {
   "cell_type": "code",
   "execution_count": 44,
   "metadata": {},
   "outputs": [
    {
     "name": "stdout",
     "output_type": "stream",
     "text": [
      "Looking at C:\\Users\\phili\\Desktop\\Python\\12_Advanced_Python_Modules\\Example_Top-Level\n",
      "\n",
      "\n",
      "The subfolders are: \n",
      "\t Subfolders: .ipynb_checkpoints\n",
      "\t Subfolders: Mid-Example-1\n",
      "\t Subfolders: Mid-Example-2\n",
      "\n",
      "\n",
      "the files are: \n",
      "\t Files: Mid-Example.txt\n",
      "\n",
      "\n",
      "Looking at C:\\Users\\phili\\Desktop\\Python\\12_Advanced_Python_Modules\\Example_Top-Level\\.ipynb_checkpoints\n",
      "\n",
      "\n",
      "The subfolders are: \n",
      "\n",
      "\n",
      "the files are: \n",
      "\n",
      "\n",
      "Looking at C:\\Users\\phili\\Desktop\\Python\\12_Advanced_Python_Modules\\Example_Top-Level\\Mid-Example-1\n",
      "\n",
      "\n",
      "The subfolders are: \n",
      "\t Subfolders: .ipynb_checkpoints\n",
      "\t Subfolders: Bottom-Level-One\n",
      "\t Subfolders: Bottom-Level-Two\n",
      "\n",
      "\n",
      "the files are: \n",
      "\t Files: Mid-Level-Doc.txt\n",
      "\n",
      "\n",
      "Looking at C:\\Users\\phili\\Desktop\\Python\\12_Advanced_Python_Modules\\Example_Top-Level\\Mid-Example-1\\.ipynb_checkpoints\n",
      "\n",
      "\n",
      "The subfolders are: \n",
      "\n",
      "\n",
      "the files are: \n",
      "\n",
      "\n",
      "Looking at C:\\Users\\phili\\Desktop\\Python\\12_Advanced_Python_Modules\\Example_Top-Level\\Mid-Example-1\\Bottom-Level-One\n",
      "\n",
      "\n",
      "The subfolders are: \n",
      "\t Subfolders: .ipynb_checkpoints\n",
      "\n",
      "\n",
      "the files are: \n",
      "\t Files: One_Text.txt\n",
      "\n",
      "\n",
      "Looking at C:\\Users\\phili\\Desktop\\Python\\12_Advanced_Python_Modules\\Example_Top-Level\\Mid-Example-1\\Bottom-Level-One\\.ipynb_checkpoints\n",
      "\n",
      "\n",
      "The subfolders are: \n",
      "\n",
      "\n",
      "the files are: \n",
      "\n",
      "\n",
      "Looking at C:\\Users\\phili\\Desktop\\Python\\12_Advanced_Python_Modules\\Example_Top-Level\\Mid-Example-1\\Bottom-Level-Two\n",
      "\n",
      "\n",
      "The subfolders are: \n",
      "\n",
      "\n",
      "the files are: \n",
      "\n",
      "\n",
      "Looking at C:\\Users\\phili\\Desktop\\Python\\12_Advanced_Python_Modules\\Example_Top-Level\\Mid-Example-2\n",
      "\n",
      "\n",
      "The subfolders are: \n",
      "\n",
      "\n",
      "the files are: \n",
      "\n",
      "\n"
     ]
    }
   ],
   "source": [
    "for folder, sub_folders, files in os.walk(file_path):\n",
    "    print(f\"Looking at {folder}\")\n",
    "    print(\"\\n\")\n",
    "    print(\"The subfolders are: \")\n",
    "    \n",
    "    for sub_fold in sub_folders:\n",
    "        print(f\"\\t Subfolders: {sub_fold}\")\n",
    "    print(\"\\n\")\n",
    "    print(\"the files are: \")\n",
    "    \n",
    "    for f in files:\n",
    "        print(f\"\\t Files: {f}\")\n",
    "    print('\\n')"
   ]
  },
  {
   "cell_type": "code",
   "execution_count": null,
   "metadata": {},
   "outputs": [],
   "source": []
  }
 ],
 "metadata": {
  "kernelspec": {
   "display_name": "Python 3",
   "language": "python",
   "name": "python3"
  },
  "language_info": {
   "codemirror_mode": {
    "name": "ipython",
    "version": 3
   },
   "file_extension": ".py",
   "mimetype": "text/x-python",
   "name": "python",
   "nbconvert_exporter": "python",
   "pygments_lexer": "ipython3",
   "version": "3.8.5"
  }
 },
 "nbformat": 4,
 "nbformat_minor": 4
}
