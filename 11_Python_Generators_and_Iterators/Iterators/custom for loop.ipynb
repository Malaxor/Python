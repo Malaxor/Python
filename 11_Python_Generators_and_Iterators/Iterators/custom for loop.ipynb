{
 "cells": [
  {
   "cell_type": "code",
   "execution_count": 4,
   "id": "c98c2d69",
   "metadata": {},
   "outputs": [],
   "source": [
    "# iterator is an object that can be iterated upon, an object that returns data, one element at a time when next() is called\n",
    "# iterable (example: any string) is an object that will return an iterable when iter() is called on it.\n",
    "\n",
    "# when next() is called on an iterator, the iterator returns the next item until raising a StopIteration error."
   ]
  },
  {
   "cell_type": "code",
   "execution_count": 5,
   "id": "58d1bc62",
   "metadata": {},
   "outputs": [],
   "source": [
    "name = 'Oprah'"
   ]
  },
  {
   "cell_type": "code",
   "execution_count": 6,
   "id": "dccfe298",
   "metadata": {},
   "outputs": [
    {
     "ename": "TypeError",
     "evalue": "'str' object is not an iterator",
     "output_type": "error",
     "traceback": [
      "\u001b[1;31m---------------------------------------------------------------------------\u001b[0m",
      "\u001b[1;31mTypeError\u001b[0m                                 Traceback (most recent call last)",
      "\u001b[1;32m<ipython-input-6-2f689c2ef075>\u001b[0m in \u001b[0;36m<module>\u001b[1;34m\u001b[0m\n\u001b[1;32m----> 1\u001b[1;33m \u001b[0mnext\u001b[0m\u001b[1;33m(\u001b[0m\u001b[0mname\u001b[0m\u001b[1;33m)\u001b[0m\u001b[1;33m\u001b[0m\u001b[1;33m\u001b[0m\u001b[0m\n\u001b[0m",
      "\u001b[1;31mTypeError\u001b[0m: 'str' object is not an iterator"
     ]
    }
   ],
   "source": [
    "next(name)"
   ]
  },
  {
   "cell_type": "code",
   "execution_count": 7,
   "id": "45574e8f",
   "metadata": {},
   "outputs": [],
   "source": [
    "it_name = iter(name)"
   ]
  },
  {
   "cell_type": "code",
   "execution_count": 8,
   "id": "30e40b19",
   "metadata": {},
   "outputs": [
    {
     "data": {
      "text/plain": [
       "<str_iterator at 0x17a4e3d3220>"
      ]
     },
     "execution_count": 8,
     "metadata": {},
     "output_type": "execute_result"
    }
   ],
   "source": [
    "it_name"
   ]
  },
  {
   "cell_type": "code",
   "execution_count": 9,
   "id": "0fb785ba",
   "metadata": {},
   "outputs": [
    {
     "data": {
      "text/plain": [
       "'O'"
      ]
     },
     "execution_count": 9,
     "metadata": {},
     "output_type": "execute_result"
    }
   ],
   "source": [
    "next(it_name)"
   ]
  },
  {
   "cell_type": "code",
   "execution_count": 10,
   "id": "61ba9fbe",
   "metadata": {},
   "outputs": [
    {
     "data": {
      "text/plain": [
       "'p'"
      ]
     },
     "execution_count": 10,
     "metadata": {},
     "output_type": "execute_result"
    }
   ],
   "source": [
    "next(it_name)"
   ]
  },
  {
   "cell_type": "code",
   "execution_count": 11,
   "id": "4bb74722",
   "metadata": {},
   "outputs": [
    {
     "data": {
      "text/plain": [
       "'r'"
      ]
     },
     "execution_count": 11,
     "metadata": {},
     "output_type": "execute_result"
    }
   ],
   "source": [
    "next(it_name)"
   ]
  },
  {
   "cell_type": "code",
   "execution_count": 12,
   "id": "e1da7812",
   "metadata": {},
   "outputs": [
    {
     "data": {
      "text/plain": [
       "'a'"
      ]
     },
     "execution_count": 12,
     "metadata": {},
     "output_type": "execute_result"
    }
   ],
   "source": [
    "next(it_name)"
   ]
  },
  {
   "cell_type": "code",
   "execution_count": 13,
   "id": "7b2a70e4",
   "metadata": {},
   "outputs": [
    {
     "data": {
      "text/plain": [
       "'h'"
      ]
     },
     "execution_count": 13,
     "metadata": {},
     "output_type": "execute_result"
    }
   ],
   "source": [
    "next(it_name)"
   ]
  },
  {
   "cell_type": "code",
   "execution_count": 14,
   "id": "8b66725c",
   "metadata": {},
   "outputs": [
    {
     "ename": "StopIteration",
     "evalue": "",
     "output_type": "error",
     "traceback": [
      "\u001b[1;31m---------------------------------------------------------------------------\u001b[0m",
      "\u001b[1;31mStopIteration\u001b[0m                             Traceback (most recent call last)",
      "\u001b[1;32m<ipython-input-14-e91bad8fe258>\u001b[0m in \u001b[0;36m<module>\u001b[1;34m\u001b[0m\n\u001b[1;32m----> 1\u001b[1;33m \u001b[0mnext\u001b[0m\u001b[1;33m(\u001b[0m\u001b[0mit_name\u001b[0m\u001b[1;33m)\u001b[0m\u001b[1;33m\u001b[0m\u001b[1;33m\u001b[0m\u001b[0m\n\u001b[0m",
      "\u001b[1;31mStopIteration\u001b[0m: "
     ]
    }
   ],
   "source": [
    "next(it_name)"
   ]
  },
  {
   "cell_type": "code",
   "execution_count": 21,
   "id": "89efc15b",
   "metadata": {},
   "outputs": [],
   "source": [
    "# custom \"for loop\"\n",
    "def my_for(iterable, func):\n",
    "    iterator = iter(iterable)\n",
    "    \n",
    "    while True: \n",
    "        try:\n",
    "            item = next(iterator)\n",
    "            func(item)\n",
    "        except StopIteration:\n",
    "            break   "
   ]
  },
  {
   "cell_type": "code",
   "execution_count": 22,
   "id": "9e50f4d9",
   "metadata": {},
   "outputs": [
    {
     "name": "stdout",
     "output_type": "stream",
     "text": [
      "h\n",
      "e\n",
      "l\n",
      "l\n",
      "o\n"
     ]
    }
   ],
   "source": [
    "my_for('hello', print)"
   ]
  },
  {
   "cell_type": "code",
   "execution_count": null,
   "id": "b6cfb1f4",
   "metadata": {},
   "outputs": [],
   "source": []
  }
 ],
 "metadata": {
  "kernelspec": {
   "display_name": "Python 3",
   "language": "python",
   "name": "python3"
  },
  "language_info": {
   "codemirror_mode": {
    "name": "ipython",
    "version": 3
   },
   "file_extension": ".py",
   "mimetype": "text/x-python",
   "name": "python",
   "nbconvert_exporter": "python",
   "pygments_lexer": "ipython3",
   "version": "3.8.5"
  }
 },
 "nbformat": 4,
 "nbformat_minor": 5
}
