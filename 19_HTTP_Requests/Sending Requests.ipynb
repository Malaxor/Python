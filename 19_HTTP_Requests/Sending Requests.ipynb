{
 "cells": [
  {
   "cell_type": "code",
   "execution_count": 8,
   "id": "fc0d2d82",
   "metadata": {},
   "outputs": [],
   "source": [
    "import requests\n",
    "\n",
    "url = \"https://icanhazdadjoke.com/search\""
   ]
  },
  {
   "cell_type": "code",
   "execution_count": 11,
   "id": "b742e785",
   "metadata": {},
   "outputs": [
    {
     "name": "stdout",
     "output_type": "stream",
     "text": [
      "{'current_page': 1, 'limit': 20, 'next_page': 1, 'previous_page': 1, 'results': [{'id': '82wHlbaapzd', 'joke': \"Me: If humans lose the ability to hear high frequency volumes as they get older, can my 4 week old son hear a dog whistle?\\r\\n\\r\\nDoctor: No, humans can never hear that high of a frequency no matter what age they are.\\r\\n\\r\\nMe: Trick question... dogs can't whistle.\"}, {'id': 'AQn3wPKeqrc', 'joke': 'It was raining cats and dogs the other day. I almost stepped in a poodle.'}, {'id': 'sPRnOfiyAAd', 'joke': 'At the boxing match, the dad got into the popcorn line and the line for hot dogs, but he wanted to stay out of the punchline.'}], 'search_term': 'dogs', 'status': 200, 'total_jokes': 3, 'total_pages': 1}\n",
      "[{'id': '82wHlbaapzd', 'joke': \"Me: If humans lose the ability to hear high frequency volumes as they get older, can my 4 week old son hear a dog whistle?\\r\\n\\r\\nDoctor: No, humans can never hear that high of a frequency no matter what age they are.\\r\\n\\r\\nMe: Trick question... dogs can't whistle.\"}, {'id': 'AQn3wPKeqrc', 'joke': 'It was raining cats and dogs the other day. I almost stepped in a poodle.'}, {'id': 'sPRnOfiyAAd', 'joke': 'At the boxing match, the dad got into the popcorn line and the line for hot dogs, but he wanted to stay out of the punchline.'}]\n"
     ]
    }
   ],
   "source": [
    "res = requests.get(\n",
    "        url,\n",
    "        headers = { \"Accept\": \"application/json\" },\n",
    "        params = {\n",
    "            \"term\": \"dogs\"\n",
    "        })\n",
    "\n",
    "data = res.json()\n",
    "print(data['results'])\n",
    "\n",
    "jokes = \"\"\n",
    "\n",
    "for joke in data['results']:\n",
    "    jokes += '\\n' + joke['joke']"
   ]
  },
  {
   "cell_type": "code",
   "execution_count": 10,
   "id": "dce66b0c",
   "metadata": {},
   "outputs": [
    {
     "data": {
      "text/plain": [
       "\"\\nMe: If humans lose the ability to hear high frequency volumes as they get older, can my 4 week old son hear a dog whistle?\\r\\n\\r\\nDoctor: No, humans can never hear that high of a frequency no matter what age they are.\\r\\n\\r\\nMe: Trick question... dogs can't whistle.\\nIt was raining cats and dogs the other day. I almost stepped in a poodle.\\nAt the boxing match, the dad got into the popcorn line and the line for hot dogs, but he wanted to stay out of the punchline.\""
      ]
     },
     "execution_count": 10,
     "metadata": {},
     "output_type": "execute_result"
    }
   ],
   "source": [
    "jokes"
   ]
  },
  {
   "cell_type": "code",
   "execution_count": null,
   "id": "e0c6cadc",
   "metadata": {},
   "outputs": [],
   "source": []
  }
 ],
 "metadata": {
  "kernelspec": {
   "display_name": "Python 3",
   "language": "python",
   "name": "python3"
  },
  "language_info": {
   "codemirror_mode": {
    "name": "ipython",
    "version": 3
   },
   "file_extension": ".py",
   "mimetype": "text/x-python",
   "name": "python",
   "nbconvert_exporter": "python",
   "pygments_lexer": "ipython3",
   "version": "3.8.5"
  }
 },
 "nbformat": 4,
 "nbformat_minor": 5
}
