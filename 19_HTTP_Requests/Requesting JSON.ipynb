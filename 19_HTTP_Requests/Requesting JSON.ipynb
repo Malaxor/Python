{
 "cells": [
  {
   "cell_type": "code",
   "execution_count": 1,
   "id": "36788c86",
   "metadata": {},
   "outputs": [],
   "source": [
    "import requests"
   ]
  },
  {
   "cell_type": "code",
   "execution_count": 2,
   "id": "557b3873",
   "metadata": {},
   "outputs": [],
   "source": [
    "url = \"https://icanhazdadjoke.com\"\n",
    "res = requests.get(url, headers = {\"Accept\": \"application/json\"})"
   ]
  },
  {
   "cell_type": "code",
   "execution_count": 4,
   "id": "6d6ecdcc",
   "metadata": {},
   "outputs": [],
   "source": [
    "data = res.json()"
   ]
  },
  {
   "cell_type": "code",
   "execution_count": 5,
   "id": "3a7cd7de",
   "metadata": {},
   "outputs": [
    {
     "data": {
      "text/plain": [
       "dict"
      ]
     },
     "execution_count": 5,
     "metadata": {},
     "output_type": "execute_result"
    }
   ],
   "source": [
    "type(data)"
   ]
  },
  {
   "cell_type": "code",
   "execution_count": 6,
   "id": "b50f85d8",
   "metadata": {},
   "outputs": [
    {
     "name": "stdout",
     "output_type": "stream",
     "text": [
      "Did you hear about the new restaurant on the moon? The food is great, but there’s just no atmosphere.\n"
     ]
    }
   ],
   "source": [
    "print(data[\"joke\"])"
   ]
  },
  {
   "cell_type": "code",
   "execution_count": null,
   "id": "0c2c51b2",
   "metadata": {},
   "outputs": [],
   "source": []
  }
 ],
 "metadata": {
  "kernelspec": {
   "display_name": "Python 3",
   "language": "python",
   "name": "python3"
  },
  "language_info": {
   "codemirror_mode": {
    "name": "ipython",
    "version": 3
   },
   "file_extension": ".py",
   "mimetype": "text/x-python",
   "name": "python",
   "nbconvert_exporter": "python",
   "pygments_lexer": "ipython3",
   "version": "3.8.5"
  }
 },
 "nbformat": 4,
 "nbformat_minor": 5
}
