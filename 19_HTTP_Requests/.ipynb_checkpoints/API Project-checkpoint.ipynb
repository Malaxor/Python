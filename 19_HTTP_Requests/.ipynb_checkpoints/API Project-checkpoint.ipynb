{
 "cells": [
  {
   "cell_type": "code",
   "execution_count": null,
   "id": "17c8f746",
   "metadata": {},
   "outputs": [],
   "source": [
    "from colorama import init\n",
    "from termcolor import colored\n",
    "from pyfiglet import figlet_format as format\n",
    "import requests\n",
    "from random import choice\n",
    "\n",
    "init()"
   ]
  },
  {
   "cell_type": "code",
   "execution_count": null,
   "id": "1cc6b337",
   "metadata": {},
   "outputs": [],
   "source": [
    "def welcome():\n",
    "    intro = colored(format('Dad Joke 3000'), color = 'magenta')\n",
    "    print(intro)"
   ]
  },
  {
   "cell_type": "code",
   "execution_count": null,
   "id": "9e5e8ff4",
   "metadata": {},
   "outputs": [],
   "source": [
    "def user_input():\n",
    "    topic = ''\n",
    "    # if user presses enter before typing anything into the input    \n",
    "    while not topic:\n",
    "        topic = input(\"Let me tell you a joke. Please give me a topic: \")\n",
    "    \n",
    "    return topic"
   ]
  },
  {
   "cell_type": "code",
   "execution_count": null,
   "id": "d7d77766",
   "metadata": {},
   "outputs": [],
   "source": [
    "def get_jokes(term):\n",
    "    url = \"https://icanhazdadjoke.com/search\"\n",
    "    \n",
    "    res = requests.get(\n",
    "        url,\n",
    "        headers = { \"Accept\": \"application/json\" },\n",
    "        params = {\n",
    "            \"term\": term\n",
    "        }\n",
    "    ).json()\n",
    "    \n",
    "    return res['results']"
   ]
  },
  {
   "cell_type": "code",
   "execution_count": null,
   "id": "1ab371d2",
   "metadata": {},
   "outputs": [],
   "source": [
    "def dad_joke_3000():\n",
    "    welcome()\n",
    "    term = user_input()\n",
    "    jokes = get_jokes(term)\n",
    "    \n",
    "    if len(jokes) == 1:\n",
    "        print(f\"I have one joke about {term}. Here it is: \\n{jokes['joke']}\")\n",
    "    elif len(jokes) > 1:\n",
    "        rand_joke = choice(jokes)\n",
    "        print(f\"I have {len(jokes)} jokes about {term}. Here's one: \\n{rand_joke['joke']}\")\n",
    "    else:\n",
    "         print(f\"Sorry, but I don't have any jokes with {term}.\")"
   ]
  },
  {
   "cell_type": "code",
   "execution_count": null,
   "id": "1bdb8316",
   "metadata": {},
   "outputs": [],
   "source": [
    "dad_joke_3000()"
   ]
  },
  {
   "cell_type": "code",
   "execution_count": null,
   "id": "2eef919c",
   "metadata": {},
   "outputs": [],
   "source": []
  }
 ],
 "metadata": {
  "kernelspec": {
   "display_name": "Python 3",
   "language": "python",
   "name": "python3"
  },
  "language_info": {
   "codemirror_mode": {
    "name": "ipython",
    "version": 3
   },
   "file_extension": ".py",
   "mimetype": "text/x-python",
   "name": "python",
   "nbconvert_exporter": "python",
   "pygments_lexer": "ipython3",
   "version": "3.8.5"
  }
 },
 "nbformat": 4,
 "nbformat_minor": 5
}
